{
 "cells": [
  {
   "cell_type": "markdown",
   "metadata": {},
   "source": [
    "# general"
   ]
  },
  {
   "cell_type": "code",
   "execution_count": 2,
   "metadata": {},
   "outputs": [],
   "source": [
    "import s3fs\n",
    "import fsspec\n",
    "import matplotlib as mpl\n",
    "import matplotlib.pyplot as plt\n",
    "import matplotlib.image as mpimg\n",
    "import numpy as np\n",
    "import boto3\n",
    "from botocore import UNSIGNED\n",
    "from botocore.client import Config\n",
    "import io\n",
    "import skimage\n",
    "from PIL import Image\n",
    "import scipy\n",
    "#from cellpose import utils, models\n",
    "import glob\n",
    "import seaborn as sns\n",
    "from tqdm import tqdm\n",
    "import pickle"
   ]
  },
  {
   "cell_type": "code",
   "execution_count": 3,
   "metadata": {},
   "outputs": [],
   "source": [
    "#cell_labels = np.unique(masks)\n",
    "\n",
    "def cut_to_label_bounds (masks, label, array_img):\n",
    "    c_mask = np.where(np.array(masks)==label)\n",
    "    bounds_0 = min(c_mask[0]), max(c_mask[0])\n",
    "    bounds_1 = min(c_mask[1]), max(c_mask[1])\n",
    "    bounds_2 = min(c_mask[2]), max(c_mask[2])\n",
    "\n",
    "    cell_stack_mask = np.array(masks[:], dtype=float)\n",
    "    cell_stack_mask[np.where(masks!=label)] = 0\n",
    "    \n",
    "    cell_stack_mask = cell_stack_mask[bounds_0[0]:bounds_0[1],bounds_1[0]:bounds_1[1],bounds_2[0]:bounds_2[1]]\n",
    "    cell_stack_c0 = array_img[0][bounds_0[0]:bounds_0[1],bounds_1[0]:bounds_1[1],bounds_2[0]:bounds_2[1]]\n",
    "    cell_stack_c1 = array_img[1][bounds_0[0]:bounds_0[1],bounds_1[0]:bounds_1[1],bounds_2[0]:bounds_2[1]]\n",
    "    #print(\"post cut\")\n",
    "    #print(np.shape(cell_stack_mask))\n",
    "    #print(np.shape(cell_stack_c0))\n",
    "    #print(np.shape(cell_stack_c1))\n",
    "    return np.array(cell_stack_mask,dtype=float), np.array(cell_stack_c0,dtype=float), np.array(cell_stack_c1, dtype=float)\n",
    "\n",
    "def nan_mask_inplace (cell_mask, original):\n",
    "    # print(np.shape(original))\n",
    "    non_mask_pixels = np.where(cell_mask == 0)\n",
    "    mask_pixels = np.nonzero(cell_mask)\n",
    "    if not all([x >= 2 for x in np.shape(mask_pixels)]):\n",
    "        return\n",
    "    original[non_mask_pixels] = np.nan\n",
    "    return original\n",
    "\n",
    "# def simple_transforms ():\n",
    "\n",
    "\n",
    "def compare_cells_hoechst_v_stain (cell_stack_mask, cell_stack_c0, cell_stack_c1, fn, mip, mip_axis, per_frame, cut_to_mask, norm, flatten, per_frame_aggfunc):\n",
    "    assert(mip == (mip_axis is not None))\n",
    "    if mip:\n",
    "        assert(not per_frame)\n",
    "        mip_mask = np.max(cell_stack_mask, axis=mip_axis)\n",
    "        if cut_to_mask:\n",
    "            mip_c0 = nan_mask_inplace(mip_mask, np.max(cell_stack_c0, axis=mip_axis))\n",
    "            mip_c1 = nan_mask_inplace(mip_mask, np.max(cell_stack_c1, axis=mip_axis))\n",
    "        \n",
    "        if norm: \n",
    "            mip_c0 = mip_c0/np.sqrt(np.nansum(np.square(mip_c0)))\n",
    "            mip_c1 = mip_c1/np.sqrt(np.nansum(np.square(mip_c1)))\n",
    "        if flatten:\n",
    "            mip_c0 = np.ravel(mip_c0)\n",
    "            mip_c1 = np.ravel(mip_c1)\n",
    "        res = fn(mip_c0, mip_c1)\n",
    "        return res\n",
    "\n",
    "    if cut_to_mask:\n",
    "        nan_mask_inplace(cell_stack_mask, cell_stack_c0)\n",
    "        nan_mask_inplace(cell_stack_mask, cell_stack_c1)\n",
    "    if not per_frame:\n",
    "        if flatten:\n",
    "            cell_stack_c0 = np.ravel(cell_stack_c0)\n",
    "            cell_stack_c1 = np.ravel(cell_stack_c1)\n",
    "        if norm:\n",
    "            cell_stack_c0 = cell_stack_c0/np.sqrt(np.nansum(np.square(cell_stack_c0)))\n",
    "            cell_stack_c1 = cell_stack_c1/np.sqrt(np.nansum(np.square(cell_stack_c1)))\n",
    "        res = fn(cell_stack_c0,cell_stack_c1)\n",
    "        return res\n",
    "\n",
    "    assert(per_frame)\n",
    "    # if per frame and/or not MIP\n",
    "    c_frames_res = []\n",
    "    \n",
    "    for i in tqdm(range(np.shape(cell_stack_mask)[0])):\n",
    "        mask_slice = cell_stack_mask[i]\n",
    "        if not all([x >= 2 for x in np.shape(mask_slice[np.logical_not(np.isnan(mask_slice))])]):\n",
    "            continue\n",
    "        c0_slice = cell_stack_c0[i]\n",
    "        c1_slice = cell_stack_c1[i]\n",
    "        if norm: \n",
    "            c0_slice = c0_slice/np.sqrt(np.nansum(np.square(c0_slice)))\n",
    "            c1_slice = c1_slice/np.sqrt(np.nansum(np.square(c1_slice)))\n",
    "        if flatten:\n",
    "            c0_slice = np.ravel(c0_slice)\n",
    "            c1_slice = np.ravel(c1_slice)\n",
    "        \n",
    "        res = fn(c0_slice,c1_slice) \n",
    "        c_frames_res.append(res)\n",
    "    return per_frame_aggfunc(c_frames_res)\n",
    "\n",
    "def hoechst_v_stain (array_img, masks, fn, cut_to_mask = True, norm=False, flatten = False, mip=False, mip_axis = None, per_frame=True, per_frame_aggfunc = lambda x : x, artifact_filter_level = 50):\n",
    "    cell_labels = np.unique(masks)\n",
    "    results = [] \n",
    "    for c in tqdm(cell_labels):\n",
    "        if c == 0:\n",
    "            continue\n",
    "        cell_stack_mask, cell_stack_c0, cell_stack_c1 = cut_to_label_bounds(masks, c, array_img)\n",
    "        dims = np.shape(cell_stack_c0)\n",
    "        #print(dims)\n",
    "        if dims[1] < artifact_filter_level or dims[2] < artifact_filter_level:\n",
    "            continue\n",
    "        res = compare_cells_hoechst_v_stain(cell_stack_mask=cell_stack_mask, cell_stack_c0=cell_stack_c0, cell_stack_c1=cell_stack_c1, fn = fn, mip = mip, mip_axis=mip_axis, per_frame=per_frame, cut_to_mask=cut_to_mask, norm=norm, flatten=flatten, per_frame_aggfunc=per_frame_aggfunc)\n",
    "        results.append(res)\n",
    "    return results"
   ]
  },
  {
   "cell_type": "markdown",
   "metadata": {},
   "source": [
    "# import processed cells"
   ]
  },
  {
   "cell_type": "code",
   "execution_count": 8,
   "metadata": {},
   "outputs": [],
   "source": [
    "# all polr2 subunits, raw images\n",
    "with open(\"/Users/amulya/Desktop/Buenrostro_Lab/intranuclear-structures/res.pickle\", \"rb\") as input_file:\n",
    "    res = pickle.load(input_file)\n",
    "with open(\"/Users/amulya/Desktop/Buenrostro_Lab/intranuclear-structures/res2.pickle\", \"rb\") as input_file:\n",
    "    res2 = pickle.load(input_file)\n",
    "r = res|res2"
   ]
  },
  {
   "cell_type": "code",
   "execution_count": 5,
   "metadata": {},
   "outputs": [],
   "source": [
    "# all polr2 subunits, shifted\n",
    "with open(\"/Users/amulya/Desktop/Buenrostro_Lab/intranuclear-structures/pol_shifted_imgs.pickle\", \"rb\") as input_file:\n",
    "    shifted_res = pickle.load(input_file)"
   ]
  },
  {
   "cell_type": "code",
   "execution_count": 22,
   "metadata": {},
   "outputs": [],
   "source": [
    "# all chromatin proteins\n",
    "with open(\"C:\\\\Users\\\\amulya\\\\Documents\\\\intranuclear-structures\\\\chromatin_images.npy\", \"rb\") as input_file:\n",
    "    r = np.load(input_file)\n",
    "\n",
    "import pandas as pd\n",
    "labels = pd.read_csv(\"C:\\\\Users\\\\amulya\\\\Downloads\\\\cytoself_all_labels.csv.csv\")\n",
    "chrom_labels = labels.loc[[\"chrom\" in str(x) for x in labels.loc_grade1]]\n",
    "labeled_chromatin_results = list(zip(chrom_labels[\"name\"], r))"
   ]
  },
  {
   "cell_type": "markdown",
   "metadata": {},
   "source": [
    "# xcorr surface viz"
   ]
  },
  {
   "cell_type": "code",
   "execution_count": 16,
   "metadata": {},
   "outputs": [
    {
     "name": "stdout",
     "output_type": "stream",
     "text": [
      "POLR2A\n",
      "(73, 53, 86)\n",
      "(3, 133564)\n"
     ]
    },
    {
     "ename": "ValueError",
     "evalue": "operands could not be broadcast together with shapes (3,) (2,) ",
     "output_type": "error",
     "traceback": [
      "\u001b[0;31m---------------------------------------------------------------------------\u001b[0m",
      "\u001b[0;31mValueError\u001b[0m                                Traceback (most recent call last)",
      "\u001b[1;32m/Users/amulya/Desktop/Buenrostro_Lab/intranuclear-structures/compare_subunits_v1.ipynb Cell 8\u001b[0m line \u001b[0;36m3\n\u001b[1;32m     <a href='vscode-notebook-cell:/Users/amulya/Desktop/Buenrostro_Lab/intranuclear-structures/compare_subunits_v1.ipynb#X10sZmlsZQ%3D%3D?line=29'>30</a>\u001b[0m \u001b[39mfor\u001b[39;00m k, (v0, v1, v2) \u001b[39min\u001b[39;00m r\u001b[39m.\u001b[39mitems():\n\u001b[1;32m     <a href='vscode-notebook-cell:/Users/amulya/Desktop/Buenrostro_Lab/intranuclear-structures/compare_subunits_v1.ipynb#X10sZmlsZQ%3D%3D?line=30'>31</a>\u001b[0m     \u001b[39mprint\u001b[39m(k)\n\u001b[0;32m---> <a href='vscode-notebook-cell:/Users/amulya/Desktop/Buenrostro_Lab/intranuclear-structures/compare_subunits_v1.ipynb#X10sZmlsZQ%3D%3D?line=31'>32</a>\u001b[0m     hoechst_v_stain(v0, v1, fn \u001b[39m=\u001b[39;49m xcorrviz,  norm\u001b[39m=\u001b[39;49m\u001b[39mTrue\u001b[39;49;00m,flatten\u001b[39m=\u001b[39;49m\u001b[39mFalse\u001b[39;49;00m,per_frame\u001b[39m=\u001b[39;49m\u001b[39mTrue\u001b[39;49;00m, per_frame_aggfunc \u001b[39m=\u001b[39;49m \u001b[39mlambda\u001b[39;49;00m x : x)\n",
      "\u001b[1;32m/Users/amulya/Desktop/Buenrostro_Lab/intranuclear-structures/compare_subunits_v1.ipynb Cell 8\u001b[0m line \u001b[0;36m6\n\u001b[1;32m     <a href='vscode-notebook-cell:/Users/amulya/Desktop/Buenrostro_Lab/intranuclear-structures/compare_subunits_v1.ipynb#X10sZmlsZQ%3D%3D?line=60'>61</a>\u001b[0m \u001b[39m#non_mask_pixels = np.where(cell_stack_mask==0)\u001b[39;00m\n\u001b[1;32m     <a href='vscode-notebook-cell:/Users/amulya/Desktop/Buenrostro_Lab/intranuclear-structures/compare_subunits_v1.ipynb#X10sZmlsZQ%3D%3D?line=61'>62</a>\u001b[0m \u001b[39m#cell_stack_c0[non_mask_pixels] = np.nan\u001b[39;00m\n\u001b[1;32m     <a href='vscode-notebook-cell:/Users/amulya/Desktop/Buenrostro_Lab/intranuclear-structures/compare_subunits_v1.ipynb#X10sZmlsZQ%3D%3D?line=62'>63</a>\u001b[0m \u001b[39m#cell_stack_c1[non_mask_pixels] = np.nan\u001b[39;00m\n\u001b[1;32m     <a href='vscode-notebook-cell:/Users/amulya/Desktop/Buenrostro_Lab/intranuclear-structures/compare_subunits_v1.ipynb#X10sZmlsZQ%3D%3D?line=63'>64</a>\u001b[0m \u001b[39mif\u001b[39;00m cut_to_mask:\n\u001b[0;32m---> <a href='vscode-notebook-cell:/Users/amulya/Desktop/Buenrostro_Lab/intranuclear-structures/compare_subunits_v1.ipynb#X10sZmlsZQ%3D%3D?line=64'>65</a>\u001b[0m     nan_mask_inplace(cell_stack_mask, cell_stack_c0)\n\u001b[1;32m     <a href='vscode-notebook-cell:/Users/amulya/Desktop/Buenrostro_Lab/intranuclear-structures/compare_subunits_v1.ipynb#X10sZmlsZQ%3D%3D?line=65'>66</a>\u001b[0m     nan_mask_inplace(cell_stack_mask, cell_stack_c1)\n\u001b[1;32m     <a href='vscode-notebook-cell:/Users/amulya/Desktop/Buenrostro_Lab/intranuclear-structures/compare_subunits_v1.ipynb#X10sZmlsZQ%3D%3D?line=66'>67</a>\u001b[0m \u001b[39mif\u001b[39;00m \u001b[39mnot\u001b[39;00m per_frame:\n",
      "\u001b[1;32m/Users/amulya/Desktop/Buenrostro_Lab/intranuclear-structures/compare_subunits_v1.ipynb Cell 8\u001b[0m line \u001b[0;36m2\n\u001b[1;32m     <a href='vscode-notebook-cell:/Users/amulya/Desktop/Buenrostro_Lab/intranuclear-structures/compare_subunits_v1.ipynb#X10sZmlsZQ%3D%3D?line=18'>19</a>\u001b[0m non_mask_pixels \u001b[39m=\u001b[39m np\u001b[39m.\u001b[39mwhere(cell_mask\u001b[39m==\u001b[39m\u001b[39m0\u001b[39m)\n\u001b[1;32m     <a href='vscode-notebook-cell:/Users/amulya/Desktop/Buenrostro_Lab/intranuclear-structures/compare_subunits_v1.ipynb#X10sZmlsZQ%3D%3D?line=19'>20</a>\u001b[0m \u001b[39mprint\u001b[39m(np\u001b[39m.\u001b[39mshape(non_mask_pixels))\n\u001b[0;32m---> <a href='vscode-notebook-cell:/Users/amulya/Desktop/Buenrostro_Lab/intranuclear-structures/compare_subunits_v1.ipynb#X10sZmlsZQ%3D%3D?line=20'>21</a>\u001b[0m \u001b[39mif\u001b[39;00m \u001b[39mnot\u001b[39;00m \u001b[39mall\u001b[39m([x \u001b[39m>\u001b[39m\u001b[39m=\u001b[39m \u001b[39m2\u001b[39m \u001b[39mfor\u001b[39;00m x \u001b[39min\u001b[39;00m np\u001b[39m.\u001b[39;49msubtract(np\u001b[39m.\u001b[39;49mshape(original), np\u001b[39m.\u001b[39;49mshape(non_mask_pixels))]):\n\u001b[1;32m     <a href='vscode-notebook-cell:/Users/amulya/Desktop/Buenrostro_Lab/intranuclear-structures/compare_subunits_v1.ipynb#X10sZmlsZQ%3D%3D?line=21'>22</a>\u001b[0m     \u001b[39mreturn\u001b[39;00m\n\u001b[1;32m     <a href='vscode-notebook-cell:/Users/amulya/Desktop/Buenrostro_Lab/intranuclear-structures/compare_subunits_v1.ipynb#X10sZmlsZQ%3D%3D?line=22'>23</a>\u001b[0m original[non_mask_pixels] \u001b[39m=\u001b[39m np\u001b[39m.\u001b[39mnan\n",
      "\u001b[0;31mValueError\u001b[0m: operands could not be broadcast together with shapes (3,) (2,) "
     ]
    }
   ],
   "source": [
    "from mpl_toolkits.mplot3d import Axes3D  \n",
    "\n",
    "#corrs = {}\n",
    "def xcorrviz (a, b):\n",
    "    try:\n",
    "        xc_notnan = scipy.signal.correlate(a[np.logical_not(np.isnan(a))], b[np.logical_not(np.isnan(b))], mode='full')\n",
    "    except Exception as e:\n",
    "        print(e)\n",
    "        return -1\n",
    "    a[np.isnan(a)] = 0\n",
    "    b[np.isnan(b)] = 0\n",
    "    xc = scipy.signal.correlate(a, b, mode='full')\n",
    "    if (len(np.shape(xc)) == 2):\n",
    "        print(np.mean(xc_notnan))\n",
    "        fig = plt.figure()\n",
    "        ax = fig.add_subplot(111, projection='3d')\n",
    "        X, Y = np.meshgrid(np.arange(np.shape(xc)[0]), np.arange(np.shape(xc)[1]))\n",
    "        ax.plot_surface(X, Y, xc.T)\n",
    "        ax.set_zlim(ax.get_zlim()[0],1)\n",
    "        plt.show()\n",
    "        plt.clf()\n",
    "        plt.imshow(a)\n",
    "        plt.show()\n",
    "        plt.clf()\n",
    "        plt.imshow(b)\n",
    "        plt.show()\n",
    "        plt.clf()\n",
    "    return xc\n",
    "\n",
    "for k, (v0, v1, v2) in r.items():\n",
    "    print(k)\n",
    "    hoechst_v_stain(v0, v1, fn = xcorrviz,  norm=True,flatten=False,per_frame=True, per_frame_aggfunc = lambda x : x)"
   ]
  },
  {
   "cell_type": "markdown",
   "metadata": {},
   "source": [
    "# NCC - WITHOUT masking"
   ]
  },
  {
   "cell_type": "code",
   "execution_count": 51,
   "metadata": {},
   "outputs": [
    {
     "name": "stdout",
     "output_type": "stream",
     "text": [
      "POLR2A\n"
     ]
    },
    {
     "name": "stderr",
     "output_type": "stream",
     "text": [
      "100%|██████████| 39/39 [01:04<00:00,  1.65s/it]\n"
     ]
    },
    {
     "name": "stdout",
     "output_type": "stream",
     "text": [
      "POLR2C\n"
     ]
    },
    {
     "name": "stderr",
     "output_type": "stream",
     "text": [
      "100%|██████████| 49/49 [01:14<00:00,  1.52s/it]\n"
     ]
    },
    {
     "name": "stdout",
     "output_type": "stream",
     "text": [
      "POLR2D\n"
     ]
    },
    {
     "name": "stderr",
     "output_type": "stream",
     "text": [
      "100%|██████████| 183/183 [05:30<00:00,  1.80s/it]\n"
     ]
    },
    {
     "name": "stdout",
     "output_type": "stream",
     "text": [
      "POLR2E\n"
     ]
    },
    {
     "name": "stderr",
     "output_type": "stream",
     "text": [
      "100%|██████████| 229/229 [05:28<00:00,  1.44s/it]\n"
     ]
    },
    {
     "name": "stdout",
     "output_type": "stream",
     "text": [
      "POLR2F\n"
     ]
    },
    {
     "name": "stderr",
     "output_type": "stream",
     "text": [
      "100%|██████████| 411/411 [11:42<00:00,  1.71s/it]\n"
     ]
    },
    {
     "name": "stdout",
     "output_type": "stream",
     "text": [
      "POLR2G\n"
     ]
    },
    {
     "name": "stderr",
     "output_type": "stream",
     "text": [
      "100%|██████████| 92/92 [03:50<00:00,  2.51s/it]\n"
     ]
    },
    {
     "name": "stdout",
     "output_type": "stream",
     "text": [
      "POLR2H\n"
     ]
    },
    {
     "name": "stderr",
     "output_type": "stream",
     "text": [
      "100%|██████████| 54/54 [03:14<00:00,  3.60s/it]\n"
     ]
    },
    {
     "name": "stdout",
     "output_type": "stream",
     "text": [
      "POLR2I\n"
     ]
    },
    {
     "name": "stderr",
     "output_type": "stream",
     "text": [
      "100%|██████████| 47/47 [05:12<00:00,  6.65s/it]\n"
     ]
    },
    {
     "name": "stdout",
     "output_type": "stream",
     "text": [
      "POLR2K\n"
     ]
    },
    {
     "name": "stderr",
     "output_type": "stream",
     "text": [
      "100%|██████████| 58/58 [06:37<00:00,  6.85s/it]\n"
     ]
    },
    {
     "name": "stdout",
     "output_type": "stream",
     "text": [
      "POLR2J\n"
     ]
    },
    {
     "name": "stderr",
     "output_type": "stream",
     "text": [
      "100%|██████████| 59/59 [07:46<00:00,  7.91s/it]\n"
     ]
    }
   ],
   "source": [
    "xcorrs_norm_constrained = {}\n",
    "\n",
    "\"\"\"def xcorr_and_print (a,b):\n",
    "    xc = scipy.signal.correlate(a,b)\n",
    "    print(xc)\n",
    "    return xc\"\"\"\n",
    "\n",
    "for k, (v0, v1, _) in r.items():\n",
    "    if k == \"POLR2B\":\n",
    "        continue\n",
    "    print(k)\n",
    "    # print(v1)\n",
    "    xcorrs_norm_constrained[k] = hoechst_v_stain(v0, v1, fn = lambda a,b: scipy.signal.correlate(a,b), cut_to_mask=False, norm=True,flatten=False,per_frame=False)"
   ]
  },
  {
   "cell_type": "code",
   "execution_count": 52,
   "metadata": {},
   "outputs": [],
   "source": [
    "import pickle\n",
    "with open(\"pol_xcorrs_3dcell_norm.pickle\", \"wb\") as output_file:\n",
    "    pickle.dump(xcorrs_norm, output_file)"
   ]
  },
  {
   "cell_type": "code",
   "execution_count": 5,
   "metadata": {},
   "outputs": [],
   "source": [
    "with open(\"pol_xcorrs_3dcell_norm.pickle\", \"rb\") as input_file:\n",
    "    xcorrs_norm = pickle.load(input_file)"
   ]
  },
  {
   "cell_type": "code",
   "execution_count": 6,
   "metadata": {},
   "outputs": [
    {
     "data": {
      "text/plain": [
       "Text(0.5, 0.98, 'POLR2* vs. Hoechst - max xcorr')"
      ]
     },
     "execution_count": 6,
     "metadata": {},
     "output_type": "execute_result"
    },
    {
     "data": {
      "image/png": "[encoded data removed]",
      "text/plain": [
       "<Figure size 640x480 with 10 Axes>"
      ]
     },
     "metadata": {},
     "output_type": "display_data"
    }
   ],
   "source": [
    "to_plot = {k : [np.max(x) for x in v] for k, v in xcorrs_norm.items()}\n",
    "fig, axes = plt.subplots(ncols=1, nrows=len(to_plot), sharex=True)\n",
    "\n",
    "for i in range(len(xcorrs_norm.keys())):\n",
    "    k = list(to_plot.keys())[i]\n",
    "    ax_to_use = axes[i]\n",
    "    sns.kdeplot(x=to_plot[k], ax=ax_to_use, label=k)\n",
    "    ax_to_use.set_ylabel(\"\")\n",
    "    ax_to_use.set_yticks([])\n",
    "    ax_to_use.set_xlim((-1.1,1.1))\n",
    "    ax_to_use.text(0.01,0.5, k, transform=ax_to_use.transAxes, size=9)\n",
    "\n",
    "fig.supylabel(\"Density\")\n",
    "fig.suptitle(\"POLR2* vs. Hoechst - max xcorr\")"
   ]
  },
  {
   "cell_type": "markdown",
   "metadata": {},
   "source": [
    "# correlations w/ artifact removal"
   ]
  },
  {
   "cell_type": "code",
   "execution_count": null,
   "metadata": {},
   "outputs": [],
   "source": [
    "corrs = {}\n",
    "for k, (v0, v1, v2) in r.items():\n",
    "    print(k)\n",
    "    if k == \"POL2RB\":\n",
    "        continue\n",
    "    print(np.shape(v0))\n",
    "    if np.shape(v0)[1] < 50 or np.shape(v0)[2] < 50:\n",
    "        continue\n",
    "    corrs[k] = hoechst_v_stain(v0, v1, fn = lambda a,b: scipy.stats.pearsonr(a,b)[0], norm=False,flatten=True,per_frame=True)"
   ]
  },
  {
   "cell_type": "code",
   "execution_count": null,
   "metadata": {},
   "outputs": [],
   "source": [
    "fig, axes = plt.subplots(ncols=1, nrows=len(corrs), sharex=True)\n",
    "\n",
    "for i in range(len(corrs.keys())):\n",
    "    k = list(corrs.keys())[i]\n",
    "    ax_to_use = axes[i]\n",
    "    sns.kdeplot(x=np.hstack(corrs[k]), ax=ax_to_use, label=k)\n",
    "    ax_to_use.set_ylabel(\"\")\n",
    "    ax_to_use.set_yticks([])\n",
    "    ax_to_use.set_xlim((-1,1))\n",
    "    ax_to_use.text(0.01,0.5, k, transform=ax_to_use.transAxes, size=9)\n",
    "\n",
    "fig.supylabel(\"Density\")\n",
    "fig.suptitle(\"POLR2* vs. Hoechst - Pearson r\")"
   ]
  },
  {
   "cell_type": "markdown",
   "metadata": {},
   "source": [
    "# register images"
   ]
  },
  {
   "cell_type": "code",
   "execution_count": null,
   "metadata": {},
   "outputs": [],
   "source": [
    "from mpl_toolkits.mplot3d import Axes3D  \n",
    "\n",
    "for k, (v0, v1, _) in r.items():\n",
    "    print(k)\n",
    "    img = v0\n",
    "    mask = v1\n",
    "    xcorrs_norm[k]\n",
    "    \n",
    "    \n",
    "    hoechst_v_stain(v0, v1, fn = xcorrviz,  norm=True,flatten=False,per_frame=True, per_frame_aggfunc = lambda x : x)\n",
    "    "
   ]
  },
  {
   "cell_type": "code",
   "execution_count": 24,
   "metadata": {},
   "outputs": [
    {
     "data": {
      "text/plain": [
       "('MED25',\n",
       " array([[[ 9.24860034e-03,  1.45871826e-02, -3.26496544e+01,\n",
       "           0.00000000e+00],\n",
       "         [ 1.31021831e-02,  1.28610330e-02, -3.22024841e+01,\n",
       "           0.00000000e+00],\n",
       "         [ 1.06924744e-02,  1.45750269e-02, -3.17804966e+01,\n",
       "           0.00000000e+00],\n",
       "         ...,\n",
       "         [ 2.69653276e-02,  2.25736648e-02, -1.14017544e+01,\n",
       "           0.00000000e+00],\n",
       "         [ 1.94044989e-02,  2.30599046e-02, -1.17046995e+01,\n",
       "           0.00000000e+00],\n",
       "         [ 1.97752230e-02,  2.23183893e-02, -1.20830460e+01,\n",
       "           0.00000000e+00]],\n",
       " \n",
       "        [[ 1.32777896e-02,  1.58270933e-02, -3.17647610e+01,\n",
       "           0.00000000e+00],\n",
       "         [ 1.03705293e-02,  1.64227374e-02, -3.13049526e+01,\n",
       "           0.00000000e+00],\n",
       "         [ 1.00973640e-02,  1.43319070e-02, -3.08706989e+01,\n",
       "           0.00000000e+00],\n",
       "         ...,\n",
       "         [ 1.62923653e-02,  2.02761833e-02, -1.04403067e+01,\n",
       "           0.00000000e+00],\n",
       "         [ 1.59216411e-02,  2.46037152e-02, -1.07703295e+01,\n",
       "           0.00000000e+00],\n",
       "         [ 1.46338604e-02,  2.23427024e-02, -1.11803398e+01,\n",
       "           0.00000000e+00]],\n",
       " \n",
       "        [[ 1.15900179e-02,  1.89390257e-02, -3.08706989e+01,\n",
       "           0.00000000e+00],\n",
       "         [ 1.24290260e-02,  1.44169992e-02, -3.04138126e+01,\n",
       "           0.00000000e+00],\n",
       "         [ 1.24485372e-02,  1.20222699e-02, -2.99666481e+01,\n",
       "           0.00000000e+00],\n",
       "         ...,\n",
       "         [ 1.80776957e-02,  2.34245844e-02, -9.48683262e+00,\n",
       "           0.00000000e+00],\n",
       "         [ 2.68189888e-02,  2.07867362e-02, -9.84885788e+00,\n",
       "           0.00000000e+00],\n",
       "         [ 2.44190358e-02,  2.00573765e-02, -1.01980391e+01,\n",
       "           0.00000000e+00]],\n",
       " \n",
       "        ...,\n",
       " \n",
       "        [[ 2.84384694e-02,  2.31085289e-02, -9.21954441e+00,\n",
       "           0.00000000e+00],\n",
       "         [ 2.48385388e-02,  1.75775550e-02, -8.48528099e+00,\n",
       "           0.00000000e+00],\n",
       "         [ 2.68580131e-02,  2.09326074e-02, -7.81024981e+00,\n",
       "           0.00000000e+00],\n",
       "         ...,\n",
       "         [ 3.00384387e-02,  3.10220748e-01,  1.00000000e+00,\n",
       "           1.50000000e+01],\n",
       "         [ 3.82236429e-02,  3.16639125e-01,  1.00000000e+00,\n",
       "           1.50000000e+01],\n",
       "         [ 5.98817579e-02,  3.82427305e-01,  1.00000000e+00,\n",
       "           1.50000000e+01]],\n",
       " \n",
       "        [[ 2.23898068e-02,  2.67188568e-02, -8.48528099e+00,\n",
       "           0.00000000e+00],\n",
       "         [ 2.03996021e-02,  1.89876501e-02, -7.81024981e+00,\n",
       "           0.00000000e+00],\n",
       "         [ 2.19605472e-02,  2.22211424e-02, -7.07106781e+00,\n",
       "           0.00000000e+00],\n",
       "         ...,\n",
       "         [ 2.50531696e-02,  2.66690165e-01, -1.00000000e+00,\n",
       "           0.00000000e+00],\n",
       "         [ 3.14920694e-02,  3.07364106e-01, -1.00000000e+00,\n",
       "           0.00000000e+00],\n",
       "         [ 3.63505110e-02,  3.95118147e-01, -1.00000000e+00,\n",
       "           0.00000000e+00]],\n",
       " \n",
       "        [[ 2.66628936e-02,  2.37892643e-02, -7.81024981e+00,\n",
       "           0.00000000e+00],\n",
       "         [ 1.77167282e-02,  2.51628906e-02, -7.07106781e+00,\n",
       "           0.00000000e+00],\n",
       "         [ 1.80581845e-02,  2.26344448e-02, -6.40312433e+00,\n",
       "           0.00000000e+00],\n",
       "         ...,\n",
       "         [ 3.14432904e-02,  2.36288041e-01, -2.00000000e+00,\n",
       "           0.00000000e+00],\n",
       "         [ 3.57846692e-02,  2.83975989e-01, -2.00000000e+00,\n",
       "           0.00000000e+00],\n",
       "         [ 4.23308797e-02,  4.11662459e-01, -1.41421354e+00,\n",
       "           0.00000000e+00]]], dtype=float32))"
      ]
     },
     "execution_count": 24,
     "metadata": {},
     "output_type": "execute_result"
    }
   ],
   "source": [
    "labeled_chromatin_results[1]"
   ]
  },
  {
   "cell_type": "code",
   "execution_count": 49,
   "metadata": {},
   "outputs": [
    {
     "name": "stderr",
     "output_type": "stream",
     "text": [
      "  3%|▎         | 1/39 [00:02<01:44,  2.74s/it]\n"
     ]
    },
    {
     "ename": "KeyboardInterrupt",
     "evalue": "",
     "output_type": "error",
     "traceback": [
      "\u001b[0;31m---------------------------------------------------------------------------\u001b[0m",
      "\u001b[0;31mKeyboardInterrupt\u001b[0m                         Traceback (most recent call last)",
      "\u001b[1;32m/Users/amulya/Desktop/Buenrostro_Lab/intranuclear-structures/compare_subunits_v1.ipynb Cell 19\u001b[0m line \u001b[0;36m3\n\u001b[1;32m     <a href='vscode-notebook-cell:/Users/amulya/Desktop/Buenrostro_Lab/intranuclear-structures/compare_subunits_v1.ipynb#X24sZmlsZQ%3D%3D?line=28'>29</a>\u001b[0m \u001b[39mif\u001b[39;00m c \u001b[39m==\u001b[39m \u001b[39m0\u001b[39m:\n\u001b[1;32m     <a href='vscode-notebook-cell:/Users/amulya/Desktop/Buenrostro_Lab/intranuclear-structures/compare_subunits_v1.ipynb#X24sZmlsZQ%3D%3D?line=29'>30</a>\u001b[0m     \u001b[39mcontinue\u001b[39;00m\n\u001b[0;32m---> <a href='vscode-notebook-cell:/Users/amulya/Desktop/Buenrostro_Lab/intranuclear-structures/compare_subunits_v1.ipynb#X24sZmlsZQ%3D%3D?line=30'>31</a>\u001b[0m cell_stack_mask, cell_stack_c0, cell_stack_c1 \u001b[39m=\u001b[39m cut_to_label_bounds(masks, c, array_img)\n\u001b[1;32m     <a href='vscode-notebook-cell:/Users/amulya/Desktop/Buenrostro_Lab/intranuclear-structures/compare_subunits_v1.ipynb#X24sZmlsZQ%3D%3D?line=31'>32</a>\u001b[0m \u001b[39m#pos = np.where(cell_labels==c)[0][0]\u001b[39;00m\n\u001b[1;32m     <a href='vscode-notebook-cell:/Users/amulya/Desktop/Buenrostro_Lab/intranuclear-structures/compare_subunits_v1.ipynb#X24sZmlsZQ%3D%3D?line=32'>33</a>\u001b[0m \u001b[39m#print(pos)\u001b[39;00m\n\u001b[1;32m     <a href='vscode-notebook-cell:/Users/amulya/Desktop/Buenrostro_Lab/intranuclear-structures/compare_subunits_v1.ipynb#X24sZmlsZQ%3D%3D?line=33'>34</a>\u001b[0m \u001b[39m#shift_array = xcorrs_norm[subunit][pos]\u001b[39;00m\n\u001b[1;32m     <a href='vscode-notebook-cell:/Users/amulya/Desktop/Buenrostro_Lab/intranuclear-structures/compare_subunits_v1.ipynb#X24sZmlsZQ%3D%3D?line=34'>35</a>\u001b[0m \u001b[39m#optimal_shift = np.ravel(np.where(shift_array==np.max(shift_array)))\u001b[39;00m\n\u001b[1;32m     <a href='vscode-notebook-cell:/Users/amulya/Desktop/Buenrostro_Lab/intranuclear-structures/compare_subunits_v1.ipynb#X24sZmlsZQ%3D%3D?line=35'>36</a>\u001b[0m \u001b[39m# optimal_shift = np.subtract(optimal_shift, np.shape(cell_stack_c0))\u001b[39;00m\n\u001b[1;32m     <a href='vscode-notebook-cell:/Users/amulya/Desktop/Buenrostro_Lab/intranuclear-structures/compare_subunits_v1.ipynb#X24sZmlsZQ%3D%3D?line=36'>37</a>\u001b[0m detected_shift, _, _ \u001b[39m=\u001b[39m skimage\u001b[39m.\u001b[39mregistration\u001b[39m.\u001b[39mphase_cross_correlation(cell_stack_c0, cell_stack_c1, normalization\u001b[39m=\u001b[39m\u001b[39mNone\u001b[39;00m)\n",
      "\u001b[1;32m/Users/amulya/Desktop/Buenrostro_Lab/intranuclear-structures/compare_subunits_v1.ipynb Cell 19\u001b[0m line \u001b[0;36m1\n\u001b[1;32m      <a href='vscode-notebook-cell:/Users/amulya/Desktop/Buenrostro_Lab/intranuclear-structures/compare_subunits_v1.ipynb#X24sZmlsZQ%3D%3D?line=6'>7</a>\u001b[0m bounds_2 \u001b[39m=\u001b[39m \u001b[39mmin\u001b[39m(c_mask[\u001b[39m2\u001b[39m]), \u001b[39mmax\u001b[39m(c_mask[\u001b[39m2\u001b[39m])\n\u001b[1;32m      <a href='vscode-notebook-cell:/Users/amulya/Desktop/Buenrostro_Lab/intranuclear-structures/compare_subunits_v1.ipynb#X24sZmlsZQ%3D%3D?line=8'>9</a>\u001b[0m cell_stack_mask \u001b[39m=\u001b[39m np\u001b[39m.\u001b[39marray(masks[:], dtype\u001b[39m=\u001b[39m\u001b[39mfloat\u001b[39m)\n\u001b[0;32m---> <a href='vscode-notebook-cell:/Users/amulya/Desktop/Buenrostro_Lab/intranuclear-structures/compare_subunits_v1.ipynb#X24sZmlsZQ%3D%3D?line=9'>10</a>\u001b[0m cell_stack_mask[np\u001b[39m.\u001b[39;49mwhere(masks\u001b[39m!=\u001b[39;49mlabel)] \u001b[39m=\u001b[39m \u001b[39m0\u001b[39m\n\u001b[1;32m     <a href='vscode-notebook-cell:/Users/amulya/Desktop/Buenrostro_Lab/intranuclear-structures/compare_subunits_v1.ipynb#X24sZmlsZQ%3D%3D?line=11'>12</a>\u001b[0m cell_stack_mask \u001b[39m=\u001b[39m cell_stack_mask[bounds_0[\u001b[39m0\u001b[39m]:bounds_0[\u001b[39m1\u001b[39m],bounds_1[\u001b[39m0\u001b[39m]:bounds_1[\u001b[39m1\u001b[39m],bounds_2[\u001b[39m0\u001b[39m]:bounds_2[\u001b[39m1\u001b[39m]]\n\u001b[1;32m     <a href='vscode-notebook-cell:/Users/amulya/Desktop/Buenrostro_Lab/intranuclear-structures/compare_subunits_v1.ipynb#X24sZmlsZQ%3D%3D?line=12'>13</a>\u001b[0m cell_stack_c0 \u001b[39m=\u001b[39m array_img[\u001b[39m0\u001b[39m][bounds_0[\u001b[39m0\u001b[39m]:bounds_0[\u001b[39m1\u001b[39m],bounds_1[\u001b[39m0\u001b[39m]:bounds_1[\u001b[39m1\u001b[39m],bounds_2[\u001b[39m0\u001b[39m]:bounds_2[\u001b[39m1\u001b[39m]]\n",
      "\u001b[0;31mKeyboardInterrupt\u001b[0m: "
     ]
    }
   ],
   "source": [
    "def show_mips_rb (c0, c1, title=\"\"):\n",
    "    plt.imshow(np.max(c0,axis=0), cmap=\"Reds\",alpha=0.5)\n",
    "    plt.imshow(np.max(c1,axis=0), cmap=\"Blues\",alpha=0.5)\n",
    "    plt.title(f\"{title}x-y MIP - stain overlay\")\n",
    "    plt.show()\n",
    "    plt.clf()\n",
    "    plt.imshow(np.max(c0,axis=1), cmap=\"Reds\",alpha=0.5)\n",
    "    plt.imshow(np.max(c1,axis=1), cmap=\"Blues\",alpha=0.5)\n",
    "    plt.title(f\"{title}y-z MIP - stain overlay\")\n",
    "    plt.show()\n",
    "    plt.clf()\n",
    "    plt.imshow(np.max(c0,axis=2), cmap=\"Reds\",alpha=0.5)\n",
    "    plt.imshow(np.max(c1,axis=2), cmap=\"Blues\",alpha=0.5)\n",
    "    plt.title(f\"{title}x-z MIP - stain overlay\")\n",
    "    plt.show()\n",
    "    plt.clf()\n",
    "\n",
    "shifted_imgs = []\n",
    "\n",
    "# TODO: reconfigure such that shifted_imgs has same layout as other results\n",
    "# shifted imgs = \n",
    "# subunit : (list of ORIG array images with cell stack 0 and 1, list of SHIFTED \"\", list of masks, list of detected shifts)\n",
    "for subunit, (array_img, masks=None, _) in r:\n",
    "    if subunit == \"POLR2B\":\n",
    "        continue\n",
    "    if masks is None:\n",
    "            masks = array_img[-1]\n",
    "    cell_labels = np.unique(masks)\n",
    "    results = [] \n",
    "    for c in tqdm(cell_labels):\n",
    "        if c == 0:\n",
    "            continue\n",
    "        cell_stack_mask, cell_stack_c0, cell_stack_c1 = cut_to_label_bounds(masks, c, array_img)\n",
    "        detected_shift, _, _ = skimage.registration.phase_cross_correlation(cell_stack_c0, cell_stack_c1, normalization=None)\n",
    "        c1_shifted = scipy.ndimage.shift(cell_stack_c1,detected_shift)\n",
    "        # Each channel\n",
    "        \"\"\"plt.imshow(np.max(cell_stack_c0,axis=0))\n",
    "        plt.title(\"z MIP - c0\")\n",
    "        plt.show()\n",
    "        plt.imshow(np.max(c0_shifted,axis=0))\n",
    "        plt.title(\"z MIP - c0 shifted\")\n",
    "        plt.show()\n",
    "        plt.imshow(np.max(cell_stack_c1,axis=0))\n",
    "        plt.title(\"z MIP - c1\")\n",
    "        plt.show()\n",
    "        plt.imshow(np.max(c1_shifted,axis=0))\n",
    "        plt.title(\"z MIP - c1 shifted\")\n",
    "        plt.show()\"\"\"\n",
    "\n",
    "        #show_mips_rb(cell_stack_c0, cell_stack_c1)\n",
    "        #show_mips_rb(cell_stack_c0, c1_shifted, title = \"SHIFTED: \")\n",
    "        if subunit not in shifted_imgs:\n",
    "            shifted_imgs[subunit] = []\n",
    "        shifted_imgs.append((subunit,(cell_stack_c0, cell_stack_c1, cell_stack_mask, c1_shifted, detected_shift)))\n",
    "        # Stain offset\n",
    "        \"\"\"for i in range(np.shape(shifted_image)[0]):\n",
    "            plt.imshow(shifted_image[i])\n",
    "            plt.show()\"\"\"\n",
    "\n",
    "        "
   ]
  },
  {
   "cell_type": "code",
   "execution_count": 6,
   "metadata": {},
   "outputs": [],
   "source": [
    "z_shifts = { subunit : [c[4][0] for c in cells]  for subunit, cells in shifted_imgs.items()}\n",
    "x_shifts = { subunit : [c[4][1] for c in cells]  for subunit, cells in shifted_imgs.items()}\n",
    "y_shifts = { subunit : [c[4][2] for c in cells]  for subunit, cells in shifted_imgs.items()}"
   ]
  },
  {
   "cell_type": "code",
   "execution_count": 11,
   "metadata": {},
   "outputs": [
    {
     "data": {
      "image/png": "[encoded data removed]",
      "text/plain": [
       "<Figure size 640x480 with 10 Axes>"
      ]
     },
     "metadata": {},
     "output_type": "display_data"
    },
    {
     "data": {
      "image/png": "[encoded data removed]",
      "text/plain": [
       "<Figure size 640x480 with 10 Axes>"
      ]
     },
     "metadata": {},
     "output_type": "display_data"
    },
    {
     "data": {
      "image/png": "[encoded data removed]",
      "text/plain": [
       "<Figure size 640x480 with 10 Axes>"
      ]
     },
     "metadata": {},
     "output_type": "display_data"
    }
   ],
   "source": [
    "\n",
    "def plot_shifts(shifts, axis):\n",
    "    fig, axes = plt.subplots(ncols=1, nrows=len(shifts), sharex=True)\n",
    "    for i in range(len(shifts.keys())):\n",
    "        k = list(shifts.keys())[i]\n",
    "        ax_to_use = axes[i]\n",
    "        sns.kdeplot(x=np.hstack(shifts[k]), ax=ax_to_use, label=str(shifts))\n",
    "        ax_to_use.set_ylabel(\"\")\n",
    "        ax_to_use.set_yticks([])\n",
    "        ax_to_use.text(0.01,0.5, k, transform=ax_to_use.transAxes, size=9)\n",
    "    fig.supylabel(\"Density\")\n",
    "    fig.suptitle(f\"POLR2* vs. Hoechst - {axis} shift\")\n",
    "\n",
    "plot_shifts(z_shifts, \"z\")\n",
    "plot_shifts(y_shifts, \"y\")\n",
    "plot_shifts(x_shifts, \"x\")"
   ]
  },
  {
   "cell_type": "markdown",
   "metadata": {},
   "source": [
    "## compare shifted cell images"
   ]
  },
  {
   "cell_type": "code",
   "execution_count": null,
   "metadata": {},
   "outputs": [],
   "source": [
    "def compare_shifted (shifted_imgs, fn, mip = False, mip_axis = None, per_frame = False, cut_to_mask = True, norm = False, flatten = False, per_frame_aggfunc = lambda x : x, artifact_filter_level=0):\n",
    "    orig_shifted_res = {}\n",
    "    for subunit, cells in shifted_imgs.items():\n",
    "        res = []\n",
    "        for c in tqdm(cells):\n",
    "            cell_stack_c0, cell_stack_c1, cell_stack_mask, c1_shifted = c\n",
    "            dims = np.shape(cell_stack_c0)\n",
    "            #print(dims)\n",
    "            if dims[1] < artifact_filter_level or dims[2] < artifact_filter_level:\n",
    "                continue\n",
    "            res_shifted = compare_cells_hoechst_v_stain (cell_stack_mask=cell_stack_mask, cell_stack_c0=cell_stack_c0, cell_stack_c1=c1_shifted, fn=fn, mip=mip, mip_axis=mip_axis, per_frame=per_frame, cut_to_mask=cut_to_mask, norm=norm, flatten=flatten, per_frame_aggfunc=per_frame_aggfunc)\n",
    "            res_orig = compare_cells_hoechst_v_stain (cell_stack_mask=cell_stack_mask, cell_stack_c0=cell_stack_c0, cell_stack_c1=cell_stack_c1, fn=fn, mip=mip, mip_axis=mip_axis, per_frame=per_frame, cut_to_mask=cut_to_mask, norm=norm, flatten=flatten, per_frame_aggfunc=per_frame_aggfunc)\n",
    "            res.append((res_orig, res_shifted))\n",
    "        orig_shifted_res[subunit] = res\n",
    "    return orig_shifted_res"
   ]
  },
  {
   "cell_type": "markdown",
   "metadata": {},
   "source": [
    "### correlations"
   ]
  },
  {
   "cell_type": "code",
   "execution_count": 18,
   "metadata": {},
   "outputs": [
    {
     "name": "stderr",
     "output_type": "stream",
     "text": [
      "  0%|          | 0/76 [00:00<?, ?it/s]"
     ]
    },
    {
     "name": "stdout",
     "output_type": "stream",
     "text": [
      "(73, 53, 86)\n",
      "(73, 53, 86)\n"
     ]
    },
    {
     "name": "stderr",
     "output_type": "stream",
     "text": [
      "/Users/amulya/anaconda3/envs/cytoself/lib/python3.9/site-packages/scipy/stats/_stats_py.py:4781: ConstantInputWarning: An input array is constant; the correlation coefficient is not defined.\n",
      "  warnings.warn(stats.ConstantInputWarning(msg))\n",
      "100%|██████████| 73/73 [00:00<00:00, 781.83it/s]\n"
     ]
    },
    {
     "name": "stdout",
     "output_type": "stream",
     "text": [
      "(73, 53, 86)\n",
      "(73, 53, 86)\n"
     ]
    },
    {
     "name": "stderr",
     "output_type": "stream",
     "text": [
      "100%|██████████| 73/73 [00:00<00:00, 968.29it/s]\n",
      "  1%|▏         | 1/76 [00:00<00:16,  4.52it/s]"
     ]
    },
    {
     "name": "stdout",
     "output_type": "stream",
     "text": [
      "(63, 74, 77)\n",
      "(63, 74, 77)\n"
     ]
    },
    {
     "name": "stderr",
     "output_type": "stream",
     "text": [
      "100%|██████████| 63/63 [00:00<00:00, 1083.35it/s]\n"
     ]
    },
    {
     "name": "stdout",
     "output_type": "stream",
     "text": [
      "(63, 74, 77)\n",
      "(63, 74, 77)\n"
     ]
    },
    {
     "name": "stderr",
     "output_type": "stream",
     "text": [
      "100%|██████████| 63/63 [00:00<00:00, 754.57it/s]\n",
      "  3%|▎         | 2/76 [00:00<00:14,  4.95it/s]"
     ]
    },
    {
     "name": "stdout",
     "output_type": "stream",
     "text": [
      "(64, 71, 76)\n",
      "(64, 71, 76)\n"
     ]
    },
    {
     "name": "stderr",
     "output_type": "stream",
     "text": [
      "100%|██████████| 64/64 [00:00<00:00, 338.31it/s]\n"
     ]
    },
    {
     "name": "stdout",
     "output_type": "stream",
     "text": [
      "(64, 71, 76)\n",
      "(64, 71, 76)\n"
     ]
    },
    {
     "name": "stderr",
     "output_type": "stream",
     "text": [
      "100%|██████████| 64/64 [00:00<00:00, 643.11it/s]\n",
      "  4%|▍         | 3/76 [00:00<00:20,  3.60it/s]"
     ]
    },
    {
     "name": "stdout",
     "output_type": "stream",
     "text": [
      "(60, 84, 72)\n",
      "(60, 84, 72)\n"
     ]
    },
    {
     "name": "stderr",
     "output_type": "stream",
     "text": [
      "100%|██████████| 60/60 [00:00<00:00, 981.45it/s]\n"
     ]
    },
    {
     "name": "stdout",
     "output_type": "stream",
     "text": [
      "(60, 84, 72)\n",
      "(60, 84, 72)\n"
     ]
    },
    {
     "name": "stderr",
     "output_type": "stream",
     "text": [
      "100%|██████████| 60/60 [00:00<00:00, 738.30it/s]\n",
      "  5%|▌         | 4/76 [00:00<00:17,  4.13it/s]"
     ]
    },
    {
     "name": "stdout",
     "output_type": "stream",
     "text": [
      "(63, 85, 82)\n",
      "(63, 85, 82)\n"
     ]
    },
    {
     "name": "stderr",
     "output_type": "stream",
     "text": [
      "100%|██████████| 63/63 [00:00<00:00, 863.87it/s]\n"
     ]
    },
    {
     "name": "stdout",
     "output_type": "stream",
     "text": [
      "(63, 85, 82)\n",
      "(63, 85, 82)\n"
     ]
    },
    {
     "name": "stderr",
     "output_type": "stream",
     "text": [
      "100%|██████████| 63/63 [00:00<00:00, 808.00it/s]\n",
      "  7%|▋         | 5/76 [00:01<00:16,  4.25it/s]"
     ]
    },
    {
     "name": "stdout",
     "output_type": "stream",
     "text": [
      "(62, 68, 67)\n",
      "(62, 68, 67)\n"
     ]
    },
    {
     "name": "stderr",
     "output_type": "stream",
     "text": [
      "100%|██████████| 62/62 [00:00<00:00, 1079.44it/s]\n"
     ]
    },
    {
     "name": "stdout",
     "output_type": "stream",
     "text": [
      "(62, 68, 67)\n",
      "(62, 68, 67)\n"
     ]
    },
    {
     "name": "stderr",
     "output_type": "stream",
     "text": [
      "100%|██████████| 62/62 [00:00<00:00, 914.29it/s]\n",
      "  8%|▊         | 6/76 [00:01<00:14,  4.75it/s]"
     ]
    },
    {
     "name": "stdout",
     "output_type": "stream",
     "text": [
      "(63, 87, 83)\n",
      "(63, 87, 83)\n"
     ]
    },
    {
     "name": "stderr",
     "output_type": "stream",
     "text": [
      "100%|██████████| 63/63 [00:00<00:00, 1098.86it/s]\n"
     ]
    },
    {
     "name": "stdout",
     "output_type": "stream",
     "text": [
      "(63, 87, 83)\n",
      "(63, 87, 83)\n"
     ]
    },
    {
     "name": "stderr",
     "output_type": "stream",
     "text": [
      "100%|██████████| 63/63 [00:00<00:00, 844.96it/s]\n",
      "  9%|▉         | 7/76 [00:01<00:13,  4.93it/s]"
     ]
    },
    {
     "name": "stdout",
     "output_type": "stream",
     "text": [
      "(60, 64, 69)\n",
      "(60, 64, 69)\n"
     ]
    },
    {
     "name": "stderr",
     "output_type": "stream",
     "text": [
      "100%|██████████| 60/60 [00:00<00:00, 965.08it/s]\n"
     ]
    },
    {
     "name": "stdout",
     "output_type": "stream",
     "text": [
      "(60, 64, 69)\n",
      "(60, 64, 69)\n"
     ]
    },
    {
     "name": "stderr",
     "output_type": "stream",
     "text": [
      "100%|██████████| 60/60 [00:00<00:00, 860.91it/s]\n",
      " 11%|█         | 8/76 [00:01<00:13,  5.20it/s]"
     ]
    },
    {
     "name": "stdout",
     "output_type": "stream",
     "text": [
      "(62, 99, 93)\n",
      "(62, 99, 93)\n"
     ]
    },
    {
     "name": "stderr",
     "output_type": "stream",
     "text": [
      "100%|██████████| 62/62 [00:00<00:00, 970.64it/s]\n"
     ]
    },
    {
     "name": "stdout",
     "output_type": "stream",
     "text": [
      "(62, 99, 93)\n",
      "(62, 99, 93)\n"
     ]
    },
    {
     "name": "stderr",
     "output_type": "stream",
     "text": [
      "100%|██████████| 62/62 [00:00<00:00, 814.49it/s]\n",
      " 12%|█▏        | 9/76 [00:01<00:13,  5.06it/s]"
     ]
    },
    {
     "name": "stdout",
     "output_type": "stream",
     "text": [
      "(60, 85, 91)\n",
      "(60, 85, 91)\n"
     ]
    },
    {
     "name": "stderr",
     "output_type": "stream",
     "text": [
      "100%|██████████| 60/60 [00:00<00:00, 627.27it/s]\n"
     ]
    },
    {
     "name": "stdout",
     "output_type": "stream",
     "text": [
      "(60, 85, 91)\n",
      "(60, 85, 91)\n"
     ]
    },
    {
     "name": "stderr",
     "output_type": "stream",
     "text": [
      "100%|██████████| 60/60 [00:00<00:00, 748.74it/s]\n",
      " 13%|█▎        | 10/76 [00:02<00:13,  4.80it/s]"
     ]
    },
    {
     "name": "stdout",
     "output_type": "stream",
     "text": [
      "(59, 73, 73)\n",
      "(59, 73, 73)\n"
     ]
    },
    {
     "name": "stderr",
     "output_type": "stream",
     "text": [
      "100%|██████████| 59/59 [00:00<00:00, 973.29it/s]\n"
     ]
    },
    {
     "name": "stdout",
     "output_type": "stream",
     "text": [
      "(59, 73, 73)\n",
      "(59, 73, 73)\n"
     ]
    },
    {
     "name": "stderr",
     "output_type": "stream",
     "text": [
      "100%|██████████| 59/59 [00:00<00:00, 928.70it/s]\n",
      " 14%|█▍        | 11/76 [00:02<00:12,  5.13it/s]"
     ]
    },
    {
     "name": "stdout",
     "output_type": "stream",
     "text": [
      "Skip\n",
      "(65, 76, 64)\n",
      "(65, 76, 64)\n"
     ]
    },
    {
     "name": "stderr",
     "output_type": "stream",
     "text": [
      "100%|██████████| 65/65 [00:00<00:00, 1113.40it/s]\n"
     ]
    },
    {
     "name": "stdout",
     "output_type": "stream",
     "text": [
      "(65, 76, 64)\n",
      "(65, 76, 64)\n"
     ]
    },
    {
     "name": "stderr",
     "output_type": "stream",
     "text": [
      "100%|██████████| 65/65 [00:00<00:00, 997.50it/s]\n",
      " 17%|█▋        | 13/76 [00:02<00:08,  7.04it/s]"
     ]
    },
    {
     "name": "stdout",
     "output_type": "stream",
     "text": [
      "(60, 71, 69)\n",
      "(60, 71, 69)\n"
     ]
    },
    {
     "name": "stderr",
     "output_type": "stream",
     "text": [
      "100%|██████████| 60/60 [00:00<00:00, 1051.84it/s]\n"
     ]
    },
    {
     "name": "stdout",
     "output_type": "stream",
     "text": [
      "(60, 71, 69)\n",
      "(60, 71, 69)\n"
     ]
    },
    {
     "name": "stderr",
     "output_type": "stream",
     "text": [
      "100%|██████████| 60/60 [00:00<00:00, 1044.85it/s]\n",
      " 18%|█▊        | 14/76 [00:02<00:08,  6.94it/s]"
     ]
    },
    {
     "name": "stdout",
     "output_type": "stream",
     "text": [
      "(61, 72, 71)\n",
      "(61, 72, 71)\n"
     ]
    },
    {
     "name": "stderr",
     "output_type": "stream",
     "text": [
      "100%|██████████| 61/61 [00:00<00:00, 1107.26it/s]\n"
     ]
    },
    {
     "name": "stdout",
     "output_type": "stream",
     "text": [
      "(61, 72, 71)\n",
      "(61, 72, 71)\n"
     ]
    },
    {
     "name": "stderr",
     "output_type": "stream",
     "text": [
      "100%|██████████| 61/61 [00:00<00:00, 974.47it/s]\n",
      " 20%|█▉        | 15/76 [00:02<00:08,  6.78it/s]"
     ]
    },
    {
     "name": "stdout",
     "output_type": "stream",
     "text": [
      "(62, 62, 71)\n",
      "(62, 62, 71)\n"
     ]
    },
    {
     "name": "stderr",
     "output_type": "stream",
     "text": [
      "100%|██████████| 62/62 [00:00<00:00, 1029.68it/s]\n"
     ]
    },
    {
     "name": "stdout",
     "output_type": "stream",
     "text": [
      "(62, 62, 71)\n",
      "(62, 62, 71)\n"
     ]
    },
    {
     "name": "stderr",
     "output_type": "stream",
     "text": [
      "100%|██████████| 62/62 [00:00<00:00, 933.33it/s]\n",
      " 21%|██        | 16/76 [00:02<00:09,  6.60it/s]"
     ]
    },
    {
     "name": "stdout",
     "output_type": "stream",
     "text": [
      "(58, 67, 83)\n",
      "(58, 67, 83)\n"
     ]
    },
    {
     "name": "stderr",
     "output_type": "stream",
     "text": [
      "100%|██████████| 58/58 [00:00<00:00, 1026.79it/s]\n"
     ]
    },
    {
     "name": "stdout",
     "output_type": "stream",
     "text": [
      "(58, 67, 83)\n",
      "(58, 67, 83)\n"
     ]
    },
    {
     "name": "stderr",
     "output_type": "stream",
     "text": [
      "100%|██████████| 58/58 [00:00<00:00, 817.24it/s]\n",
      " 22%|██▏       | 17/76 [00:03<00:09,  6.38it/s]"
     ]
    },
    {
     "name": "stdout",
     "output_type": "stream",
     "text": [
      "(61, 77, 67)\n",
      "(61, 77, 67)\n"
     ]
    },
    {
     "name": "stderr",
     "output_type": "stream",
     "text": [
      "100%|██████████| 61/61 [00:00<00:00, 757.74it/s]\n"
     ]
    },
    {
     "name": "stdout",
     "output_type": "stream",
     "text": [
      "(61, 77, 67)\n",
      "(61, 77, 67)\n"
     ]
    },
    {
     "name": "stderr",
     "output_type": "stream",
     "text": [
      "100%|██████████| 61/61 [00:00<00:00, 844.96it/s]\n",
      " 24%|██▎       | 18/76 [00:03<00:09,  5.89it/s]"
     ]
    },
    {
     "name": "stdout",
     "output_type": "stream",
     "text": [
      "(59, 66, 69)\n",
      "(59, 66, 69)\n"
     ]
    },
    {
     "name": "stderr",
     "output_type": "stream",
     "text": [
      "100%|██████████| 59/59 [00:00<00:00, 1025.84it/s]\n"
     ]
    },
    {
     "name": "stdout",
     "output_type": "stream",
     "text": [
      "(59, 66, 69)\n",
      "(59, 66, 69)\n"
     ]
    },
    {
     "name": "stderr",
     "output_type": "stream",
     "text": [
      "100%|██████████| 59/59 [00:00<00:00, 658.86it/s]\n",
      " 25%|██▌       | 19/76 [00:03<00:09,  5.76it/s]"
     ]
    },
    {
     "name": "stdout",
     "output_type": "stream",
     "text": [
      "Skip\n",
      "(55, 96, 74)\n",
      "(55, 96, 74)\n"
     ]
    },
    {
     "name": "stderr",
     "output_type": "stream",
     "text": [
      "100%|██████████| 55/55 [00:00<00:00, 890.56it/s]\n"
     ]
    },
    {
     "name": "stdout",
     "output_type": "stream",
     "text": [
      "(55, 96, 74)\n",
      "(55, 96, 74)\n"
     ]
    },
    {
     "name": "stderr",
     "output_type": "stream",
     "text": [
      "100%|██████████| 55/55 [00:00<00:00, 817.14it/s]\n",
      " 28%|██▊       | 21/76 [00:03<00:07,  7.33it/s]"
     ]
    },
    {
     "name": "stdout",
     "output_type": "stream",
     "text": [
      "(57, 87, 69)\n",
      "(57, 87, 69)\n"
     ]
    },
    {
     "name": "stderr",
     "output_type": "stream",
     "text": [
      "100%|██████████| 57/57 [00:00<00:00, 961.44it/s]\n"
     ]
    },
    {
     "name": "stdout",
     "output_type": "stream",
     "text": [
      "(57, 87, 69)\n",
      "(57, 87, 69)\n"
     ]
    },
    {
     "name": "stderr",
     "output_type": "stream",
     "text": [
      "100%|██████████| 57/57 [00:00<00:00, 889.51it/s]\n",
      " 29%|██▉       | 22/76 [00:03<00:07,  6.93it/s]"
     ]
    },
    {
     "name": "stdout",
     "output_type": "stream",
     "text": [
      "(58, 77, 61)\n",
      "(58, 77, 61)\n"
     ]
    },
    {
     "name": "stderr",
     "output_type": "stream",
     "text": [
      "100%|██████████| 58/58 [00:00<00:00, 1110.75it/s]\n"
     ]
    },
    {
     "name": "stdout",
     "output_type": "stream",
     "text": [
      "(58, 77, 61)\n",
      "(58, 77, 61)\n"
     ]
    },
    {
     "name": "stderr",
     "output_type": "stream",
     "text": [
      "100%|██████████| 58/58 [00:00<00:00, 982.90it/s]\n",
      " 30%|███       | 23/76 [00:03<00:07,  6.93it/s]"
     ]
    },
    {
     "name": "stdout",
     "output_type": "stream",
     "text": [
      "(62, 85, 92)\n",
      "(62, 85, 92)\n"
     ]
    },
    {
     "name": "stderr",
     "output_type": "stream",
     "text": [
      "100%|██████████| 62/62 [00:00<00:00, 1021.78it/s]\n"
     ]
    },
    {
     "name": "stdout",
     "output_type": "stream",
     "text": [
      "(62, 85, 92)\n",
      "(62, 85, 92)\n"
     ]
    },
    {
     "name": "stderr",
     "output_type": "stream",
     "text": [
      "100%|██████████| 62/62 [00:00<00:00, 855.11it/s]\n",
      " 32%|███▏      | 24/76 [00:04<00:08,  6.41it/s]"
     ]
    },
    {
     "name": "stdout",
     "output_type": "stream",
     "text": [
      "(56, 92, 89)\n",
      "(56, 92, 89)\n"
     ]
    },
    {
     "name": "stderr",
     "output_type": "stream",
     "text": [
      "100%|██████████| 56/56 [00:00<00:00, 992.98it/s]\n"
     ]
    },
    {
     "name": "stdout",
     "output_type": "stream",
     "text": [
      "(56, 92, 89)\n",
      "(56, 92, 89)\n"
     ]
    },
    {
     "name": "stderr",
     "output_type": "stream",
     "text": [
      "100%|██████████| 56/56 [00:00<00:00, 731.07it/s]\n",
      " 33%|███▎      | 25/76 [00:04<00:08,  5.80it/s]"
     ]
    },
    {
     "name": "stdout",
     "output_type": "stream",
     "text": [
      "(59, 64, 109)\n",
      "(59, 64, 109)\n"
     ]
    },
    {
     "name": "stderr",
     "output_type": "stream",
     "text": [
      "100%|██████████| 59/59 [00:00<00:00, 913.89it/s]\n"
     ]
    },
    {
     "name": "stdout",
     "output_type": "stream",
     "text": [
      "(59, 64, 109)\n",
      "(59, 64, 109)\n"
     ]
    },
    {
     "name": "stderr",
     "output_type": "stream",
     "text": [
      "100%|██████████| 59/59 [00:00<00:00, 928.84it/s]\n",
      " 34%|███▍      | 26/76 [00:04<00:08,  5.62it/s]"
     ]
    },
    {
     "name": "stdout",
     "output_type": "stream",
     "text": [
      "(59, 70, 88)\n",
      "(59, 70, 88)\n"
     ]
    },
    {
     "name": "stderr",
     "output_type": "stream",
     "text": [
      "100%|██████████| 59/59 [00:00<00:00, 1009.20it/s]\n"
     ]
    },
    {
     "name": "stdout",
     "output_type": "stream",
     "text": [
      "(59, 70, 88)\n",
      "(59, 70, 88)\n"
     ]
    },
    {
     "name": "stderr",
     "output_type": "stream",
     "text": [
      "100%|██████████| 59/59 [00:00<00:00, 761.28it/s]\n",
      " 36%|███▌      | 27/76 [00:04<00:09,  5.42it/s]"
     ]
    },
    {
     "name": "stdout",
     "output_type": "stream",
     "text": [
      "Skip\n",
      "Skip\n",
      "(59, 86, 108)\n",
      "(59, 86, 108)\n"
     ]
    },
    {
     "name": "stderr",
     "output_type": "stream",
     "text": [
      "100%|██████████| 59/59 [00:00<00:00, 942.51it/s]\n"
     ]
    },
    {
     "name": "stdout",
     "output_type": "stream",
     "text": [
      "(59, 86, 108)\n",
      "(59, 86, 108)\n"
     ]
    },
    {
     "name": "stderr",
     "output_type": "stream",
     "text": [
      "100%|██████████| 59/59 [00:00<00:00, 865.57it/s]\n",
      " 39%|███▉      | 30/76 [00:04<00:05,  8.46it/s]"
     ]
    },
    {
     "name": "stdout",
     "output_type": "stream",
     "text": [
      "(56, 79, 22)\n",
      "(56, 79, 22)\n"
     ]
    },
    {
     "name": "stderr",
     "output_type": "stream",
     "text": [
      "100%|██████████| 56/56 [00:00<00:00, 1158.45it/s]\n"
     ]
    },
    {
     "name": "stdout",
     "output_type": "stream",
     "text": [
      "(56, 79, 22)\n",
      "(56, 79, 22)\n"
     ]
    },
    {
     "name": "stderr",
     "output_type": "stream",
     "text": [
      "100%|██████████| 56/56 [00:00<00:00, 1026.92it/s]\n",
      " 41%|████      | 31/76 [00:05<00:05,  8.39it/s]"
     ]
    },
    {
     "name": "stdout",
     "output_type": "stream",
     "text": [
      "(57, 88, 62)\n",
      "(57, 88, 62)\n"
     ]
    },
    {
     "name": "stderr",
     "output_type": "stream",
     "text": [
      "100%|██████████| 57/57 [00:00<00:00, 1076.10it/s]\n"
     ]
    },
    {
     "name": "stdout",
     "output_type": "stream",
     "text": [
      "(57, 88, 62)\n",
      "(57, 88, 62)\n"
     ]
    },
    {
     "name": "stderr",
     "output_type": "stream",
     "text": [
      "100%|██████████| 57/57 [00:00<00:00, 962.60it/s]\n",
      " 42%|████▏     | 32/76 [00:05<00:05,  7.87it/s]"
     ]
    },
    {
     "name": "stdout",
     "output_type": "stream",
     "text": [
      "(60, 76, 73)\n",
      "(60, 76, 73)\n"
     ]
    },
    {
     "name": "stderr",
     "output_type": "stream",
     "text": [
      "100%|██████████| 60/60 [00:00<00:00, 1027.57it/s]\n"
     ]
    },
    {
     "name": "stdout",
     "output_type": "stream",
     "text": [
      "(60, 76, 73)\n",
      "(60, 76, 73)\n"
     ]
    },
    {
     "name": "stderr",
     "output_type": "stream",
     "text": [
      "100%|██████████| 60/60 [00:00<00:00, 895.70it/s]\n",
      " 43%|████▎     | 33/76 [00:05<00:05,  7.32it/s]"
     ]
    },
    {
     "name": "stdout",
     "output_type": "stream",
     "text": [
      "(59, 86, 75)\n",
      "(59, 86, 75)\n"
     ]
    },
    {
     "name": "stderr",
     "output_type": "stream",
     "text": [
      "100%|██████████| 59/59 [00:00<00:00, 639.63it/s]\n"
     ]
    },
    {
     "name": "stdout",
     "output_type": "stream",
     "text": [
      "(59, 86, 75)\n",
      "(59, 86, 75)\n"
     ]
    },
    {
     "name": "stderr",
     "output_type": "stream",
     "text": [
      "100%|██████████| 59/59 [00:00<00:00, 887.81it/s]\n",
      " 45%|████▍     | 34/76 [00:05<00:06,  6.44it/s]"
     ]
    },
    {
     "name": "stdout",
     "output_type": "stream",
     "text": [
      "Skip\n",
      "Skip\n",
      "(57, 64, 80)\n",
      "(57, 64, 80)\n"
     ]
    },
    {
     "name": "stderr",
     "output_type": "stream",
     "text": [
      "100%|██████████| 57/57 [00:00<00:00, 1011.83it/s]\n"
     ]
    },
    {
     "name": "stdout",
     "output_type": "stream",
     "text": [
      "(57, 64, 80)\n",
      "(57, 64, 80)\n"
     ]
    },
    {
     "name": "stderr",
     "output_type": "stream",
     "text": [
      "100%|██████████| 57/57 [00:00<00:00, 986.79it/s]\n",
      " 49%|████▊     | 37/76 [00:05<00:03,  9.99it/s]"
     ]
    },
    {
     "name": "stdout",
     "output_type": "stream",
     "text": [
      "Skip\n",
      "(73, 53, 86)\n",
      "(73, 53, 86)\n"
     ]
    },
    {
     "name": "stderr",
     "output_type": "stream",
     "text": [
      "100%|██████████| 73/73 [00:00<00:00, 1088.16it/s]\n"
     ]
    },
    {
     "name": "stdout",
     "output_type": "stream",
     "text": [
      "(73, 53, 86)\n",
      "(73, 53, 86)\n"
     ]
    },
    {
     "name": "stderr",
     "output_type": "stream",
     "text": [
      "100%|██████████| 73/73 [00:00<00:00, 1003.26it/s]\n",
      " 51%|█████▏    | 39/76 [00:05<00:03, 10.35it/s]"
     ]
    },
    {
     "name": "stdout",
     "output_type": "stream",
     "text": [
      "(63, 74, 77)\n",
      "(63, 74, 77)\n"
     ]
    },
    {
     "name": "stderr",
     "output_type": "stream",
     "text": [
      "100%|██████████| 63/63 [00:00<00:00, 1052.28it/s]\n"
     ]
    },
    {
     "name": "stdout",
     "output_type": "stream",
     "text": [
      "(63, 74, 77)\n",
      "(63, 74, 77)\n"
     ]
    },
    {
     "name": "stderr",
     "output_type": "stream",
     "text": [
      "100%|██████████| 63/63 [00:00<00:00, 913.39it/s]\n"
     ]
    },
    {
     "name": "stdout",
     "output_type": "stream",
     "text": [
      "(64, 71, 76)\n",
      "(64, 71, 76)\n"
     ]
    },
    {
     "name": "stderr",
     "output_type": "stream",
     "text": [
      "100%|██████████| 64/64 [00:00<00:00, 995.55it/s]\n"
     ]
    },
    {
     "name": "stdout",
     "output_type": "stream",
     "text": [
      "(64, 71, 76)\n",
      "(64, 71, 76)\n"
     ]
    },
    {
     "name": "stderr",
     "output_type": "stream",
     "text": [
      "100%|██████████| 64/64 [00:00<00:00, 695.92it/s]\n",
      " 54%|█████▍    | 41/76 [00:06<00:04,  7.99it/s]"
     ]
    },
    {
     "name": "stdout",
     "output_type": "stream",
     "text": [
      "(60, 84, 72)\n",
      "(60, 84, 72)\n"
     ]
    },
    {
     "name": "stderr",
     "output_type": "stream",
     "text": [
      "100%|██████████| 60/60 [00:00<00:00, 1170.44it/s]\n"
     ]
    },
    {
     "name": "stdout",
     "output_type": "stream",
     "text": [
      "(60, 84, 72)\n",
      "(60, 84, 72)\n"
     ]
    },
    {
     "name": "stderr",
     "output_type": "stream",
     "text": [
      "100%|██████████| 60/60 [00:00<00:00, 848.27it/s]\n",
      " 55%|█████▌    | 42/76 [00:06<00:04,  7.53it/s]"
     ]
    },
    {
     "name": "stdout",
     "output_type": "stream",
     "text": [
      "(63, 85, 82)\n",
      "(63, 85, 82)\n"
     ]
    },
    {
     "name": "stderr",
     "output_type": "stream",
     "text": [
      "100%|██████████| 63/63 [00:00<00:00, 892.49it/s]\n"
     ]
    },
    {
     "name": "stdout",
     "output_type": "stream",
     "text": [
      "(63, 85, 82)\n",
      "(63, 85, 82)\n"
     ]
    },
    {
     "name": "stderr",
     "output_type": "stream",
     "text": [
      "100%|██████████| 63/63 [00:00<00:00, 858.70it/s]\n",
      " 57%|█████▋    | 43/76 [00:06<00:04,  6.80it/s]"
     ]
    },
    {
     "name": "stdout",
     "output_type": "stream",
     "text": [
      "(62, 68, 67)\n",
      "(62, 68, 67)\n"
     ]
    },
    {
     "name": "stderr",
     "output_type": "stream",
     "text": [
      "100%|██████████| 62/62 [00:00<00:00, 847.09it/s]\n"
     ]
    },
    {
     "name": "stdout",
     "output_type": "stream",
     "text": [
      "(62, 68, 67)\n",
      "(62, 68, 67)\n"
     ]
    },
    {
     "name": "stderr",
     "output_type": "stream",
     "text": [
      "100%|██████████| 62/62 [00:00<00:00, 1055.79it/s]\n",
      " 58%|█████▊    | 44/76 [00:06<00:05,  6.06it/s]"
     ]
    },
    {
     "name": "stdout",
     "output_type": "stream",
     "text": [
      "(63, 87, 83)\n",
      "(63, 87, 83)\n"
     ]
    },
    {
     "name": "stderr",
     "output_type": "stream",
     "text": [
      "100%|██████████| 63/63 [00:00<00:00, 1015.44it/s]\n"
     ]
    },
    {
     "name": "stdout",
     "output_type": "stream",
     "text": [
      "(63, 87, 83)\n",
      "(63, 87, 83)\n"
     ]
    },
    {
     "name": "stderr",
     "output_type": "stream",
     "text": [
      "100%|██████████| 63/63 [00:00<00:00, 946.00it/s]\n",
      " 59%|█████▉    | 45/76 [00:07<00:05,  5.91it/s]"
     ]
    },
    {
     "name": "stdout",
     "output_type": "stream",
     "text": [
      "(60, 64, 69)\n",
      "(60, 64, 69)\n"
     ]
    },
    {
     "name": "stderr",
     "output_type": "stream",
     "text": [
      "100%|██████████| 60/60 [00:00<00:00, 1136.90it/s]\n"
     ]
    },
    {
     "name": "stdout",
     "output_type": "stream",
     "text": [
      "(60, 64, 69)\n",
      "(60, 64, 69)\n"
     ]
    },
    {
     "name": "stderr",
     "output_type": "stream",
     "text": [
      "100%|██████████| 60/60 [00:00<00:00, 998.42it/s]\n",
      " 61%|██████    | 46/76 [00:07<00:04,  6.12it/s]"
     ]
    },
    {
     "name": "stdout",
     "output_type": "stream",
     "text": [
      "(62, 99, 93)\n",
      "(62, 99, 93)\n"
     ]
    },
    {
     "name": "stderr",
     "output_type": "stream",
     "text": [
      "100%|██████████| 62/62 [00:00<00:00, 974.92it/s]\n"
     ]
    },
    {
     "name": "stdout",
     "output_type": "stream",
     "text": [
      "(62, 99, 93)\n",
      "(62, 99, 93)\n"
     ]
    },
    {
     "name": "stderr",
     "output_type": "stream",
     "text": [
      "100%|██████████| 62/62 [00:00<00:00, 852.19it/s]\n",
      " 62%|██████▏   | 47/76 [00:07<00:05,  5.75it/s]"
     ]
    },
    {
     "name": "stdout",
     "output_type": "stream",
     "text": [
      "(60, 85, 91)\n",
      "(60, 85, 91)\n"
     ]
    },
    {
     "name": "stderr",
     "output_type": "stream",
     "text": [
      "100%|██████████| 60/60 [00:00<00:00, 938.92it/s]\n"
     ]
    },
    {
     "name": "stdout",
     "output_type": "stream",
     "text": [
      "(60, 85, 91)\n",
      "(60, 85, 91)\n"
     ]
    },
    {
     "name": "stderr",
     "output_type": "stream",
     "text": [
      "100%|██████████| 60/60 [00:00<00:00, 805.47it/s]\n",
      " 63%|██████▎   | 48/76 [00:07<00:05,  5.56it/s]"
     ]
    },
    {
     "name": "stdout",
     "output_type": "stream",
     "text": [
      "(59, 73, 73)\n",
      "(59, 73, 73)\n"
     ]
    },
    {
     "name": "stderr",
     "output_type": "stream",
     "text": [
      "100%|██████████| 59/59 [00:00<00:00, 1029.71it/s]\n"
     ]
    },
    {
     "name": "stdout",
     "output_type": "stream",
     "text": [
      "(59, 73, 73)\n",
      "(59, 73, 73)\n"
     ]
    },
    {
     "name": "stderr",
     "output_type": "stream",
     "text": [
      "100%|██████████| 59/59 [00:00<00:00, 912.30it/s]\n",
      " 64%|██████▍   | 49/76 [00:07<00:04,  5.69it/s]"
     ]
    },
    {
     "name": "stdout",
     "output_type": "stream",
     "text": [
      "Skip\n",
      "(65, 76, 64)\n",
      "(65, 76, 64)\n"
     ]
    },
    {
     "name": "stderr",
     "output_type": "stream",
     "text": [
      "100%|██████████| 65/65 [00:00<00:00, 1147.23it/s]\n"
     ]
    },
    {
     "name": "stdout",
     "output_type": "stream",
     "text": [
      "(65, 76, 64)\n",
      "(65, 76, 64)\n"
     ]
    },
    {
     "name": "stderr",
     "output_type": "stream",
     "text": [
      "100%|██████████| 65/65 [00:00<00:00, 488.94it/s]\n",
      " 67%|██████▋   | 51/76 [00:08<00:03,  6.69it/s]"
     ]
    },
    {
     "name": "stdout",
     "output_type": "stream",
     "text": [
      "(60, 71, 69)\n",
      "(60, 71, 69)\n"
     ]
    },
    {
     "name": "stderr",
     "output_type": "stream",
     "text": [
      "100%|██████████| 60/60 [00:00<00:00, 983.50it/s]\n"
     ]
    },
    {
     "name": "stdout",
     "output_type": "stream",
     "text": [
      "(60, 71, 69)\n",
      "(60, 71, 69)\n"
     ]
    },
    {
     "name": "stderr",
     "output_type": "stream",
     "text": [
      "100%|██████████| 60/60 [00:00<00:00, 580.97it/s]\n",
      " 68%|██████▊   | 52/76 [00:08<00:03,  6.13it/s]"
     ]
    },
    {
     "name": "stdout",
     "output_type": "stream",
     "text": [
      "(61, 72, 71)\n",
      "(61, 72, 71)\n"
     ]
    },
    {
     "name": "stderr",
     "output_type": "stream",
     "text": [
      "100%|██████████| 61/61 [00:00<00:00, 938.71it/s]\n"
     ]
    },
    {
     "name": "stdout",
     "output_type": "stream",
     "text": [
      "(61, 72, 71)\n",
      "(61, 72, 71)\n"
     ]
    },
    {
     "name": "stderr",
     "output_type": "stream",
     "text": [
      "100%|██████████| 61/61 [00:00<00:00, 873.75it/s]\n",
      " 70%|██████▉   | 53/76 [00:08<00:03,  6.00it/s]"
     ]
    },
    {
     "name": "stdout",
     "output_type": "stream",
     "text": [
      "(62, 62, 71)\n",
      "(62, 62, 71)\n"
     ]
    },
    {
     "name": "stderr",
     "output_type": "stream",
     "text": [
      "100%|██████████| 62/62 [00:00<00:00, 1049.26it/s]\n"
     ]
    },
    {
     "name": "stdout",
     "output_type": "stream",
     "text": [
      "(62, 62, 71)\n",
      "(62, 62, 71)\n"
     ]
    },
    {
     "name": "stderr",
     "output_type": "stream",
     "text": [
      "100%|██████████| 62/62 [00:00<00:00, 975.02it/s]\n",
      " 71%|███████   | 54/76 [00:08<00:03,  6.09it/s]"
     ]
    },
    {
     "name": "stdout",
     "output_type": "stream",
     "text": [
      "(58, 67, 83)\n",
      "(58, 67, 83)\n"
     ]
    },
    {
     "name": "stderr",
     "output_type": "stream",
     "text": [
      "100%|██████████| 58/58 [00:00<00:00, 1042.40it/s]\n"
     ]
    },
    {
     "name": "stdout",
     "output_type": "stream",
     "text": [
      "(58, 67, 83)\n",
      "(58, 67, 83)\n"
     ]
    },
    {
     "name": "stderr",
     "output_type": "stream",
     "text": [
      "100%|██████████| 58/58 [00:00<00:00, 896.89it/s]\n",
      " 72%|███████▏  | 55/76 [00:08<00:03,  6.14it/s]"
     ]
    },
    {
     "name": "stdout",
     "output_type": "stream",
     "text": [
      "(61, 77, 67)\n",
      "(61, 77, 67)\n"
     ]
    },
    {
     "name": "stderr",
     "output_type": "stream",
     "text": [
      "100%|██████████| 61/61 [00:00<00:00, 1096.09it/s]\n"
     ]
    },
    {
     "name": "stdout",
     "output_type": "stream",
     "text": [
      "(61, 77, 67)\n",
      "(61, 77, 67)\n"
     ]
    },
    {
     "name": "stderr",
     "output_type": "stream",
     "text": [
      "100%|██████████| 61/61 [00:00<00:00, 972.89it/s]\n",
      " 74%|███████▎  | 56/76 [00:08<00:03,  6.20it/s]"
     ]
    },
    {
     "name": "stdout",
     "output_type": "stream",
     "text": [
      "(59, 66, 69)\n",
      "(59, 66, 69)\n"
     ]
    },
    {
     "name": "stderr",
     "output_type": "stream",
     "text": [
      "100%|██████████| 59/59 [00:00<00:00, 1078.81it/s]\n"
     ]
    },
    {
     "name": "stdout",
     "output_type": "stream",
     "text": [
      "(59, 66, 69)\n",
      "(59, 66, 69)\n"
     ]
    },
    {
     "name": "stderr",
     "output_type": "stream",
     "text": [
      "100%|██████████| 59/59 [00:00<00:00, 973.26it/s]\n",
      " 75%|███████▌  | 57/76 [00:09<00:02,  6.35it/s]"
     ]
    },
    {
     "name": "stdout",
     "output_type": "stream",
     "text": [
      "Skip\n",
      "(55, 96, 74)\n",
      "(55, 96, 74)\n"
     ]
    },
    {
     "name": "stderr",
     "output_type": "stream",
     "text": [
      "100%|██████████| 55/55 [00:00<00:00, 1046.52it/s]\n"
     ]
    },
    {
     "name": "stdout",
     "output_type": "stream",
     "text": [
      "(55, 96, 74)\n",
      "(55, 96, 74)\n"
     ]
    },
    {
     "name": "stderr",
     "output_type": "stream",
     "text": [
      "100%|██████████| 55/55 [00:00<00:00, 640.91it/s]\n",
      " 78%|███████▊  | 59/76 [00:09<00:02,  7.79it/s]"
     ]
    },
    {
     "name": "stdout",
     "output_type": "stream",
     "text": [
      "(57, 87, 69)\n",
      "(57, 87, 69)\n"
     ]
    },
    {
     "name": "stderr",
     "output_type": "stream",
     "text": [
      "100%|██████████| 57/57 [00:00<00:00, 1049.47it/s]\n"
     ]
    },
    {
     "name": "stdout",
     "output_type": "stream",
     "text": [
      "(57, 87, 69)\n",
      "(57, 87, 69)\n"
     ]
    },
    {
     "name": "stderr",
     "output_type": "stream",
     "text": [
      "100%|██████████| 57/57 [00:00<00:00, 965.56it/s]\n",
      " 79%|███████▉  | 60/76 [00:09<00:02,  7.23it/s]"
     ]
    },
    {
     "name": "stdout",
     "output_type": "stream",
     "text": [
      "(58, 77, 61)\n",
      "(58, 77, 61)\n"
     ]
    },
    {
     "name": "stderr",
     "output_type": "stream",
     "text": [
      "100%|██████████| 58/58 [00:00<00:00, 1108.12it/s]\n"
     ]
    },
    {
     "name": "stdout",
     "output_type": "stream",
     "text": [
      "(58, 77, 61)\n",
      "(58, 77, 61)\n"
     ]
    },
    {
     "name": "stderr",
     "output_type": "stream",
     "text": [
      "100%|██████████| 58/58 [00:00<00:00, 956.97it/s]\n",
      " 80%|████████  | 61/76 [00:09<00:02,  7.10it/s]"
     ]
    },
    {
     "name": "stdout",
     "output_type": "stream",
     "text": [
      "(62, 85, 92)\n",
      "(62, 85, 92)\n"
     ]
    },
    {
     "name": "stderr",
     "output_type": "stream",
     "text": [
      "100%|██████████| 62/62 [00:00<00:00, 922.29it/s]\n"
     ]
    },
    {
     "name": "stdout",
     "output_type": "stream",
     "text": [
      "(62, 85, 92)\n",
      "(62, 85, 92)\n"
     ]
    },
    {
     "name": "stderr",
     "output_type": "stream",
     "text": [
      "100%|██████████| 62/62 [00:00<00:00, 828.63it/s]\n",
      " 82%|████████▏ | 62/76 [00:09<00:02,  6.41it/s]"
     ]
    },
    {
     "name": "stdout",
     "output_type": "stream",
     "text": [
      "(56, 92, 89)\n",
      "(56, 92, 89)\n"
     ]
    },
    {
     "name": "stderr",
     "output_type": "stream",
     "text": [
      "100%|██████████| 56/56 [00:00<00:00, 887.33it/s]\n"
     ]
    },
    {
     "name": "stdout",
     "output_type": "stream",
     "text": [
      "(56, 92, 89)\n",
      "(56, 92, 89)\n"
     ]
    },
    {
     "name": "stderr",
     "output_type": "stream",
     "text": [
      "100%|██████████| 56/56 [00:00<00:00, 845.92it/s]\n",
      " 83%|████████▎ | 63/76 [00:09<00:02,  6.09it/s]"
     ]
    },
    {
     "name": "stdout",
     "output_type": "stream",
     "text": [
      "(59, 64, 109)\n",
      "(59, 64, 109)\n"
     ]
    },
    {
     "name": "stderr",
     "output_type": "stream",
     "text": [
      "100%|██████████| 59/59 [00:00<00:00, 1067.08it/s]\n"
     ]
    },
    {
     "name": "stdout",
     "output_type": "stream",
     "text": [
      "(59, 64, 109)\n",
      "(59, 64, 109)\n"
     ]
    },
    {
     "name": "stderr",
     "output_type": "stream",
     "text": [
      "100%|██████████| 59/59 [00:00<00:00, 943.01it/s]\n",
      " 84%|████████▍ | 64/76 [00:10<00:01,  6.03it/s]"
     ]
    },
    {
     "name": "stdout",
     "output_type": "stream",
     "text": [
      "(59, 70, 88)\n",
      "(59, 70, 88)\n"
     ]
    },
    {
     "name": "stderr",
     "output_type": "stream",
     "text": [
      "100%|██████████| 59/59 [00:00<00:00, 1034.89it/s]\n"
     ]
    },
    {
     "name": "stdout",
     "output_type": "stream",
     "text": [
      "(59, 70, 88)\n",
      "(59, 70, 88)\n"
     ]
    },
    {
     "name": "stderr",
     "output_type": "stream",
     "text": [
      "100%|██████████| 59/59 [00:00<00:00, 859.56it/s]\n",
      " 86%|████████▌ | 65/76 [00:10<00:01,  5.95it/s]"
     ]
    },
    {
     "name": "stdout",
     "output_type": "stream",
     "text": [
      "Skip\n",
      "Skip\n",
      "(59, 86, 108)\n",
      "(59, 86, 108)\n"
     ]
    },
    {
     "name": "stderr",
     "output_type": "stream",
     "text": [
      "100%|██████████| 59/59 [00:00<00:00, 712.04it/s]\n"
     ]
    },
    {
     "name": "stdout",
     "output_type": "stream",
     "text": [
      "(59, 86, 108)\n",
      "(59, 86, 108)\n"
     ]
    },
    {
     "name": "stderr",
     "output_type": "stream",
     "text": [
      "100%|██████████| 59/59 [00:00<00:00, 787.29it/s]\n",
      " 89%|████████▉ | 68/76 [00:10<00:00,  8.64it/s]"
     ]
    },
    {
     "name": "stdout",
     "output_type": "stream",
     "text": [
      "(56, 79, 22)\n",
      "(56, 79, 22)\n"
     ]
    },
    {
     "name": "stderr",
     "output_type": "stream",
     "text": [
      "100%|██████████| 56/56 [00:00<00:00, 1066.79it/s]\n"
     ]
    },
    {
     "name": "stdout",
     "output_type": "stream",
     "text": [
      "(56, 79, 22)\n",
      "(56, 79, 22)\n"
     ]
    },
    {
     "name": "stderr",
     "output_type": "stream",
     "text": [
      "100%|██████████| 56/56 [00:00<00:00, 964.39it/s]\n",
      " 91%|█████████ | 69/76 [00:10<00:00,  8.42it/s]"
     ]
    },
    {
     "name": "stdout",
     "output_type": "stream",
     "text": [
      "(57, 88, 62)\n",
      "(57, 88, 62)\n"
     ]
    },
    {
     "name": "stderr",
     "output_type": "stream",
     "text": [
      "100%|██████████| 57/57 [00:00<00:00, 1004.95it/s]\n"
     ]
    },
    {
     "name": "stdout",
     "output_type": "stream",
     "text": [
      "(57, 88, 62)\n",
      "(57, 88, 62)\n"
     ]
    },
    {
     "name": "stderr",
     "output_type": "stream",
     "text": [
      "100%|██████████| 57/57 [00:00<00:00, 932.58it/s]\n",
      " 92%|█████████▏| 70/76 [00:10<00:00,  7.85it/s]"
     ]
    },
    {
     "name": "stdout",
     "output_type": "stream",
     "text": [
      "(60, 76, 73)\n",
      "(60, 76, 73)\n"
     ]
    },
    {
     "name": "stderr",
     "output_type": "stream",
     "text": [
      "100%|██████████| 60/60 [00:00<00:00, 973.06it/s]\n"
     ]
    },
    {
     "name": "stdout",
     "output_type": "stream",
     "text": [
      "(60, 76, 73)\n",
      "(60, 76, 73)\n"
     ]
    },
    {
     "name": "stderr",
     "output_type": "stream",
     "text": [
      "100%|██████████| 60/60 [00:00<00:00, 870.82it/s]\n",
      " 93%|█████████▎| 71/76 [00:10<00:00,  7.24it/s]"
     ]
    },
    {
     "name": "stdout",
     "output_type": "stream",
     "text": [
      "(59, 86, 75)\n",
      "(59, 86, 75)\n"
     ]
    },
    {
     "name": "stderr",
     "output_type": "stream",
     "text": [
      "100%|██████████| 59/59 [00:00<00:00, 964.73it/s]\n"
     ]
    },
    {
     "name": "stdout",
     "output_type": "stream",
     "text": [
      "(59, 86, 75)\n",
      "(59, 86, 75)\n"
     ]
    },
    {
     "name": "stderr",
     "output_type": "stream",
     "text": [
      "100%|██████████| 59/59 [00:00<00:00, 959.56it/s]\n",
      " 95%|█████████▍| 72/76 [00:11<00:00,  6.81it/s]"
     ]
    },
    {
     "name": "stdout",
     "output_type": "stream",
     "text": [
      "Skip\n",
      "Skip\n",
      "(57, 64, 80)\n",
      "(57, 64, 80)\n"
     ]
    },
    {
     "name": "stderr",
     "output_type": "stream",
     "text": [
      "100%|██████████| 57/57 [00:00<00:00, 632.03it/s]\n"
     ]
    },
    {
     "name": "stdout",
     "output_type": "stream",
     "text": [
      "(57, 64, 80)\n",
      "(57, 64, 80)\n"
     ]
    },
    {
     "name": "stderr",
     "output_type": "stream",
     "text": [
      "100%|██████████| 57/57 [00:00<00:00, 901.81it/s]\n",
      "100%|██████████| 76/76 [00:11<00:00,  6.71it/s]\n"
     ]
    },
    {
     "name": "stdout",
     "output_type": "stream",
     "text": [
      "Skip\n"
     ]
    },
    {
     "name": "stderr",
     "output_type": "stream",
     "text": [
      "  0%|          | 0/753 [00:00<?, ?it/s]"
     ]
    },
    {
     "name": "stdout",
     "output_type": "stream",
     "text": [
      "(59, 86, 87)\n",
      "(59, 86, 87)\n"
     ]
    },
    {
     "name": "stderr",
     "output_type": "stream",
     "text": [
      "100%|██████████| 59/59 [00:00<00:00, 955.78it/s]\n"
     ]
    },
    {
     "name": "stdout",
     "output_type": "stream",
     "text": [
      "(59, 86, 87)\n",
      "(59, 86, 87)\n"
     ]
    },
    {
     "name": "stderr",
     "output_type": "stream",
     "text": [
      "100%|██████████| 59/59 [00:00<00:00, 455.01it/s]\n",
      "  0%|          | 1/753 [00:00<03:07,  4.00it/s]"
     ]
    },
    {
     "name": "stdout",
     "output_type": "stream",
     "text": [
      "(62, 133, 113)\n",
      "(62, 133, 113)\n"
     ]
    },
    {
     "name": "stderr",
     "output_type": "stream",
     "text": [
      "100%|██████████| 62/62 [00:00<00:00, 864.20it/s]\n"
     ]
    },
    {
     "name": "stdout",
     "output_type": "stream",
     "text": [
      "(62, 133, 113)\n",
      "(62, 133, 113)\n"
     ]
    },
    {
     "name": "stderr",
     "output_type": "stream",
     "text": [
      "100%|██████████| 62/62 [00:00<00:00, 876.88it/s]\n",
      "  0%|          | 2/753 [00:00<03:17,  3.79it/s]"
     ]
    },
    {
     "name": "stdout",
     "output_type": "stream",
     "text": [
      "(66, 134, 116)\n",
      "(66, 134, 116)\n"
     ]
    },
    {
     "name": "stderr",
     "output_type": "stream",
     "text": [
      "100%|██████████| 66/66 [00:00<00:00, 987.43it/s]\n"
     ]
    },
    {
     "name": "stdout",
     "output_type": "stream",
     "text": [
      "(66, 134, 116)\n",
      "(66, 134, 116)\n"
     ]
    },
    {
     "name": "stderr",
     "output_type": "stream",
     "text": [
      "100%|██████████| 66/66 [00:00<00:00, 799.67it/s]\n",
      "  0%|          | 3/753 [00:00<03:22,  3.70it/s]"
     ]
    },
    {
     "name": "stdout",
     "output_type": "stream",
     "text": [
      "(56, 109, 73)\n",
      "(56, 109, 73)\n"
     ]
    },
    {
     "name": "stderr",
     "output_type": "stream",
     "text": [
      "100%|██████████| 56/56 [00:00<00:00, 996.92it/s]\n"
     ]
    },
    {
     "name": "stdout",
     "output_type": "stream",
     "text": [
      "(56, 109, 73)\n",
      "(56, 109, 73)\n"
     ]
    },
    {
     "name": "stderr",
     "output_type": "stream",
     "text": [
      "100%|██████████| 56/56 [00:00<00:00, 906.61it/s]\n",
      "  1%|          | 4/753 [00:00<02:53,  4.33it/s]"
     ]
    },
    {
     "name": "stdout",
     "output_type": "stream",
     "text": [
      "(60, 83, 80)\n",
      "(60, 83, 80)\n"
     ]
    },
    {
     "name": "stderr",
     "output_type": "stream",
     "text": [
      "100%|██████████| 60/60 [00:00<00:00, 1092.85it/s]\n"
     ]
    },
    {
     "name": "stdout",
     "output_type": "stream",
     "text": [
      "(60, 83, 80)\n",
      "(60, 83, 80)\n"
     ]
    },
    {
     "name": "stderr",
     "output_type": "stream",
     "text": [
      "100%|██████████| 60/60 [00:00<00:00, 879.78it/s]\n",
      "  1%|          | 5/753 [00:01<02:36,  4.78it/s]"
     ]
    },
    {
     "name": "stdout",
     "output_type": "stream",
     "text": [
      "(55, 113, 87)\n",
      "(55, 113, 87)\n"
     ]
    },
    {
     "name": "stderr",
     "output_type": "stream",
     "text": [
      "100%|██████████| 55/55 [00:00<00:00, 962.70it/s]\n"
     ]
    },
    {
     "name": "stdout",
     "output_type": "stream",
     "text": [
      "(55, 113, 87)\n",
      "(55, 113, 87)\n"
     ]
    },
    {
     "name": "stderr",
     "output_type": "stream",
     "text": [
      "100%|██████████| 55/55 [00:00<00:00, 844.41it/s]\n",
      "  1%|          | 6/753 [00:01<02:30,  4.96it/s]"
     ]
    },
    {
     "name": "stdout",
     "output_type": "stream",
     "text": [
      "(60, 88, 84)\n",
      "(60, 88, 84)\n"
     ]
    },
    {
     "name": "stderr",
     "output_type": "stream",
     "text": [
      "100%|██████████| 60/60 [00:00<00:00, 962.43it/s]\n"
     ]
    },
    {
     "name": "stdout",
     "output_type": "stream",
     "text": [
      "(60, 88, 84)\n",
      "(60, 88, 84)\n"
     ]
    },
    {
     "name": "stderr",
     "output_type": "stream",
     "text": [
      "100%|██████████| 60/60 [00:00<00:00, 419.93it/s]\n",
      "  1%|          | 7/753 [00:01<02:44,  4.53it/s]"
     ]
    },
    {
     "name": "stdout",
     "output_type": "stream",
     "text": [
      "(62, 72, 63)\n",
      "(62, 72, 63)\n"
     ]
    },
    {
     "name": "stderr",
     "output_type": "stream",
     "text": [
      "100%|██████████| 62/62 [00:00<00:00, 1075.60it/s]\n"
     ]
    },
    {
     "name": "stdout",
     "output_type": "stream",
     "text": [
      "(62, 72, 63)\n",
      "(62, 72, 63)\n"
     ]
    },
    {
     "name": "stderr",
     "output_type": "stream",
     "text": [
      "100%|██████████| 62/62 [00:00<00:00, 1009.55it/s]\n",
      "  1%|          | 8/753 [00:01<02:29,  4.98it/s]"
     ]
    },
    {
     "name": "stdout",
     "output_type": "stream",
     "text": [
      "Skip\n",
      "(56, 118, 84)\n",
      "(56, 118, 84)\n"
     ]
    },
    {
     "name": "stderr",
     "output_type": "stream",
     "text": [
      "100%|██████████| 56/56 [00:00<00:00, 959.74it/s]\n"
     ]
    },
    {
     "name": "stdout",
     "output_type": "stream",
     "text": [
      "(56, 118, 84)\n",
      "(56, 118, 84)\n"
     ]
    },
    {
     "name": "stderr",
     "output_type": "stream",
     "text": [
      "100%|██████████| 56/56 [00:00<00:00, 821.27it/s]\n",
      "  1%|▏         | 10/753 [00:01<01:51,  6.65it/s]"
     ]
    },
    {
     "name": "stdout",
     "output_type": "stream",
     "text": [
      "(59, 88, 86)\n",
      "(59, 88, 86)\n"
     ]
    },
    {
     "name": "stderr",
     "output_type": "stream",
     "text": [
      "100%|██████████| 59/59 [00:00<00:00, 1054.54it/s]\n"
     ]
    },
    {
     "name": "stdout",
     "output_type": "stream",
     "text": [
      "(59, 88, 86)\n",
      "(59, 88, 86)\n"
     ]
    },
    {
     "name": "stderr",
     "output_type": "stream",
     "text": [
      "100%|██████████| 59/59 [00:00<00:00, 856.09it/s]\n",
      "  1%|▏         | 11/753 [00:02<01:58,  6.24it/s]"
     ]
    },
    {
     "name": "stdout",
     "output_type": "stream",
     "text": [
      "(61, 87, 74)\n",
      "(61, 87, 74)\n"
     ]
    },
    {
     "name": "stderr",
     "output_type": "stream",
     "text": [
      "100%|██████████| 61/61 [00:00<00:00, 954.58it/s]\n"
     ]
    },
    {
     "name": "stdout",
     "output_type": "stream",
     "text": [
      "(61, 87, 74)\n",
      "(61, 87, 74)\n"
     ]
    },
    {
     "name": "stderr",
     "output_type": "stream",
     "text": [
      "100%|██████████| 61/61 [00:00<00:00, 916.14it/s]\n",
      "  2%|▏         | 12/753 [00:02<02:02,  6.03it/s]"
     ]
    },
    {
     "name": "stdout",
     "output_type": "stream",
     "text": [
      "(66, 90, 69)\n",
      "(66, 90, 69)\n"
     ]
    },
    {
     "name": "stderr",
     "output_type": "stream",
     "text": [
      "100%|██████████| 66/66 [00:00<00:00, 1053.25it/s]\n"
     ]
    },
    {
     "name": "stdout",
     "output_type": "stream",
     "text": [
      "(66, 90, 69)\n",
      "(66, 90, 69)\n"
     ]
    },
    {
     "name": "stderr",
     "output_type": "stream",
     "text": [
      "100%|██████████| 66/66 [00:00<00:00, 963.80it/s]\n",
      "  2%|▏         | 13/753 [00:02<02:05,  5.88it/s]"
     ]
    },
    {
     "name": "stdout",
     "output_type": "stream",
     "text": [
      "(62, 126, 82)\n",
      "(62, 126, 82)\n"
     ]
    },
    {
     "name": "stderr",
     "output_type": "stream",
     "text": [
      "100%|██████████| 62/62 [00:00<00:00, 988.08it/s]\n"
     ]
    },
    {
     "name": "stdout",
     "output_type": "stream",
     "text": [
      "(62, 126, 82)\n",
      "(62, 126, 82)\n"
     ]
    },
    {
     "name": "stderr",
     "output_type": "stream",
     "text": [
      "100%|██████████| 62/62 [00:00<00:00, 515.42it/s]\n",
      "  2%|▏         | 14/753 [00:02<02:34,  4.79it/s]"
     ]
    },
    {
     "name": "stdout",
     "output_type": "stream",
     "text": [
      "(65, 67, 70)\n",
      "(65, 67, 70)\n"
     ]
    },
    {
     "name": "stderr",
     "output_type": "stream",
     "text": [
      "100%|██████████| 65/65 [00:00<00:00, 930.09it/s]\n"
     ]
    },
    {
     "name": "stdout",
     "output_type": "stream",
     "text": [
      "(65, 67, 70)\n",
      "(65, 67, 70)\n"
     ]
    },
    {
     "name": "stderr",
     "output_type": "stream",
     "text": [
      "100%|██████████| 65/65 [00:00<00:00, 898.83it/s]\n",
      "  2%|▏         | 15/753 [00:02<02:28,  4.97it/s]"
     ]
    },
    {
     "name": "stdout",
     "output_type": "stream",
     "text": [
      "(62, 156, 144)\n",
      "(62, 156, 144)\n"
     ]
    },
    {
     "name": "stderr",
     "output_type": "stream",
     "text": [
      "100%|██████████| 62/62 [00:00<00:00, 743.22it/s]\n"
     ]
    },
    {
     "name": "stdout",
     "output_type": "stream",
     "text": [
      "(62, 156, 144)\n",
      "(62, 156, 144)\n"
     ]
    },
    {
     "name": "stderr",
     "output_type": "stream",
     "text": [
      "100%|██████████| 62/62 [00:00<00:00, 639.18it/s]\n",
      "  2%|▏         | 16/753 [00:03<03:09,  3.88it/s]"
     ]
    },
    {
     "name": "stdout",
     "output_type": "stream",
     "text": [
      "(62, 98, 75)\n",
      "(62, 98, 75)\n"
     ]
    },
    {
     "name": "stderr",
     "output_type": "stream",
     "text": [
      "100%|██████████| 62/62 [00:00<00:00, 945.66it/s]\n"
     ]
    },
    {
     "name": "stdout",
     "output_type": "stream",
     "text": [
      "(62, 98, 75)\n",
      "(62, 98, 75)\n"
     ]
    },
    {
     "name": "stderr",
     "output_type": "stream",
     "text": [
      "100%|██████████| 62/62 [00:00<00:00, 922.70it/s]\n",
      "  2%|▏         | 17/753 [00:03<02:57,  4.16it/s]"
     ]
    },
    {
     "name": "stdout",
     "output_type": "stream",
     "text": [
      "(59, 79, 89)\n",
      "(59, 79, 89)\n"
     ]
    },
    {
     "name": "stderr",
     "output_type": "stream",
     "text": [
      "100%|██████████| 59/59 [00:00<00:00, 1150.64it/s]\n"
     ]
    },
    {
     "name": "stdout",
     "output_type": "stream",
     "text": [
      "(59, 79, 89)\n",
      "(59, 79, 89)\n"
     ]
    },
    {
     "name": "stderr",
     "output_type": "stream",
     "text": [
      "100%|██████████| 59/59 [00:00<00:00, 1002.70it/s]\n",
      "  2%|▏         | 18/753 [00:03<02:39,  4.60it/s]"
     ]
    },
    {
     "name": "stdout",
     "output_type": "stream",
     "text": [
      "(66, 118, 75)\n",
      "(66, 118, 75)\n"
     ]
    },
    {
     "name": "stderr",
     "output_type": "stream",
     "text": [
      "100%|██████████| 66/66 [00:00<00:00, 936.65it/s]\n"
     ]
    },
    {
     "name": "stdout",
     "output_type": "stream",
     "text": [
      "(66, 118, 75)\n",
      "(66, 118, 75)\n"
     ]
    },
    {
     "name": "stderr",
     "output_type": "stream",
     "text": [
      "100%|██████████| 66/66 [00:00<00:00, 913.44it/s]\n",
      "  3%|▎         | 19/753 [00:03<02:40,  4.56it/s]"
     ]
    },
    {
     "name": "stdout",
     "output_type": "stream",
     "text": [
      "Skip\n",
      "Skip\n",
      "Skip\n",
      "Skip\n",
      "(59, 105, 91)\n",
      "(59, 105, 91)\n"
     ]
    },
    {
     "name": "stderr",
     "output_type": "stream",
     "text": [
      "100%|██████████| 59/59 [00:00<00:00, 516.04it/s]\n"
     ]
    },
    {
     "name": "stdout",
     "output_type": "stream",
     "text": [
      "(59, 105, 91)\n",
      "(59, 105, 91)\n"
     ]
    },
    {
     "name": "stderr",
     "output_type": "stream",
     "text": [
      "100%|██████████| 59/59 [00:00<00:00, 863.25it/s]\n",
      "100%|██████████| 753/753 [00:04<00:00, 178.76it/s]\n"
     ]
    },
    {
     "name": "stdout",
     "output_type": "stream",
     "text": [
      "Skip\n",
      "Skip\n",
      "Skip\n",
      "Skip\n",
      "Skip\n",
      "Skip\n",
      "Skip\n",
      "Skip\n",
      "Skip\n",
      "Skip\n",
      "Skip\n",
      "Skip\n",
      "Skip\n",
      "Skip\n",
      "Skip\n",
      "Skip\n",
      "Skip\n",
      "Skip\n",
      "Skip\n",
      "Skip\n",
      "Skip\n",
      "Skip\n",
      "Skip\n",
      "Skip\n",
      "Skip\n",
      "Skip\n",
      "Skip\n",
      "Skip\n",
      "Skip\n",
      "Skip\n",
      "Skip\n",
      "Skip\n",
      "Skip\n",
      "Skip\n",
      "Skip\n",
      "Skip\n",
      "Skip\n",
      "Skip\n",
      "Skip\n",
      "Skip\n",
      "Skip\n",
      "Skip\n",
      "Skip\n",
      "Skip\n",
      "Skip\n",
      "Skip\n",
      "Skip\n",
      "Skip\n",
      "Skip\n",
      "Skip\n",
      "Skip\n",
      "Skip\n",
      "Skip\n",
      "Skip\n",
      "Skip\n",
      "Skip\n",
      "Skip\n",
      "Skip\n",
      "Skip\n",
      "Skip\n",
      "Skip\n",
      "Skip\n",
      "Skip\n",
      "Skip\n",
      "Skip\n",
      "Skip\n",
      "Skip\n",
      "Skip\n",
      "Skip\n",
      "Skip\n",
      "Skip\n",
      "Skip\n",
      "Skip\n",
      "Skip\n",
      "Skip\n",
      "Skip\n",
      "Skip\n",
      "Skip\n",
      "Skip\n",
      "Skip\n",
      "Skip\n",
      "Skip\n",
      "Skip\n",
      "Skip\n",
      "Skip\n",
      "Skip\n",
      "Skip\n",
      "Skip\n",
      "Skip\n",
      "Skip\n",
      "Skip\n",
      "Skip\n",
      "Skip\n",
      "Skip\n",
      "Skip\n",
      "Skip\n",
      "Skip\n",
      "Skip\n",
      "Skip\n",
      "Skip\n",
      "Skip\n",
      "Skip\n",
      "Skip\n",
      "Skip\n",
      "Skip\n",
      "Skip\n",
      "Skip\n",
      "Skip\n",
      "Skip\n",
      "Skip\n",
      "Skip\n",
      "Skip\n",
      "Skip\n",
      "Skip\n",
      "Skip\n",
      "Skip\n",
      "Skip\n",
      "Skip\n",
      "Skip\n",
      "Skip\n",
      "Skip\n",
      "Skip\n",
      "Skip\n",
      "Skip\n",
      "Skip\n",
      "Skip\n",
      "Skip\n",
      "Skip\n",
      "Skip\n",
      "Skip\n",
      "Skip\n",
      "Skip\n",
      "Skip\n",
      "Skip\n",
      "Skip\n",
      "Skip\n",
      "Skip\n",
      "Skip\n",
      "Skip\n",
      "Skip\n",
      "Skip\n",
      "Skip\n",
      "Skip\n",
      "Skip\n",
      "Skip\n",
      "Skip\n",
      "Skip\n",
      "Skip\n",
      "Skip\n",
      "Skip\n",
      "Skip\n",
      "Skip\n",
      "Skip\n",
      "Skip\n",
      "Skip\n",
      "Skip\n",
      "Skip\n",
      "Skip\n",
      "Skip\n",
      "Skip\n",
      "Skip\n",
      "Skip\n",
      "Skip\n",
      "Skip\n",
      "Skip\n",
      "Skip\n",
      "Skip\n",
      "Skip\n",
      "Skip\n",
      "Skip\n",
      "Skip\n",
      "Skip\n",
      "Skip\n",
      "Skip\n",
      "Skip\n",
      "Skip\n",
      "Skip\n",
      "Skip\n",
      "Skip\n",
      "Skip\n",
      "Skip\n",
      "Skip\n",
      "Skip\n",
      "Skip\n",
      "Skip\n",
      "Skip\n",
      "Skip\n",
      "Skip\n",
      "Skip\n",
      "Skip\n",
      "Skip\n",
      "Skip\n",
      "Skip\n",
      "Skip\n",
      "Skip\n",
      "Skip\n",
      "Skip\n",
      "Skip\n",
      "Skip\n",
      "Skip\n",
      "Skip\n",
      "Skip\n",
      "Skip\n",
      "Skip\n",
      "Skip\n",
      "Skip\n",
      "Skip\n",
      "Skip\n",
      "Skip\n",
      "Skip\n",
      "Skip\n",
      "Skip\n",
      "Skip\n",
      "Skip\n",
      "Skip\n",
      "Skip\n",
      "Skip\n",
      "Skip\n",
      "Skip\n",
      "Skip\n",
      "Skip\n",
      "Skip\n",
      "Skip\n",
      "Skip\n",
      "Skip\n",
      "Skip\n",
      "Skip\n",
      "Skip\n",
      "Skip\n",
      "Skip\n",
      "Skip\n",
      "Skip\n",
      "Skip\n",
      "Skip\n",
      "Skip\n",
      "Skip\n",
      "Skip\n",
      "Skip\n",
      "Skip\n",
      "Skip\n",
      "Skip\n",
      "Skip\n",
      "Skip\n",
      "Skip\n",
      "Skip\n",
      "Skip\n",
      "Skip\n",
      "Skip\n",
      "Skip\n",
      "Skip\n",
      "Skip\n",
      "Skip\n",
      "Skip\n",
      "Skip\n",
      "Skip\n",
      "Skip\n",
      "Skip\n",
      "Skip\n",
      "Skip\n",
      "Skip\n",
      "Skip\n",
      "Skip\n",
      "Skip\n",
      "Skip\n",
      "Skip\n",
      "Skip\n",
      "Skip\n",
      "Skip\n",
      "Skip\n",
      "Skip\n",
      "Skip\n",
      "Skip\n",
      "Skip\n",
      "Skip\n",
      "Skip\n",
      "Skip\n",
      "Skip\n",
      "Skip\n",
      "Skip\n",
      "Skip\n",
      "Skip\n",
      "Skip\n",
      "Skip\n",
      "Skip\n",
      "Skip\n",
      "Skip\n",
      "Skip\n",
      "Skip\n",
      "Skip\n",
      "Skip\n",
      "Skip\n",
      "Skip\n",
      "Skip\n",
      "Skip\n",
      "Skip\n",
      "Skip\n",
      "Skip\n",
      "Skip\n",
      "Skip\n",
      "Skip\n",
      "Skip\n",
      "Skip\n",
      "Skip\n",
      "Skip\n",
      "Skip\n",
      "Skip\n",
      "Skip\n",
      "Skip\n",
      "Skip\n",
      "Skip\n",
      "Skip\n",
      "Skip\n",
      "Skip\n",
      "Skip\n",
      "Skip\n",
      "Skip\n",
      "Skip\n",
      "Skip\n",
      "Skip\n",
      "Skip\n",
      "Skip\n",
      "Skip\n",
      "Skip\n",
      "Skip\n",
      "Skip\n",
      "Skip\n",
      "Skip\n",
      "Skip\n",
      "Skip\n",
      "Skip\n",
      "Skip\n",
      "Skip\n",
      "Skip\n",
      "Skip\n",
      "Skip\n",
      "Skip\n",
      "Skip\n",
      "Skip\n",
      "Skip\n",
      "Skip\n",
      "Skip\n",
      "Skip\n",
      "Skip\n",
      "Skip\n",
      "Skip\n",
      "Skip\n",
      "Skip\n",
      "Skip\n",
      "Skip\n",
      "Skip\n",
      "Skip\n",
      "Skip\n",
      "Skip\n",
      "Skip\n",
      "Skip\n",
      "Skip\n",
      "Skip\n",
      "Skip\n",
      "Skip\n",
      "Skip\n",
      "Skip\n",
      "Skip\n",
      "Skip\n",
      "Skip\n",
      "Skip\n",
      "Skip\n",
      "Skip\n",
      "Skip\n",
      "Skip\n",
      "Skip\n",
      "Skip\n",
      "Skip\n",
      "Skip\n",
      "Skip\n",
      "Skip\n",
      "Skip\n",
      "Skip\n",
      "Skip\n",
      "Skip\n",
      "Skip\n",
      "Skip\n",
      "Skip\n",
      "Skip\n",
      "Skip\n",
      "Skip\n",
      "Skip\n",
      "Skip\n",
      "Skip\n",
      "Skip\n",
      "Skip\n",
      "Skip\n",
      "Skip\n",
      "Skip\n",
      "Skip\n",
      "Skip\n",
      "Skip\n",
      "Skip\n",
      "Skip\n",
      "Skip\n",
      "Skip\n",
      "Skip\n",
      "Skip\n",
      "Skip\n",
      "Skip\n",
      "Skip\n",
      "Skip\n",
      "Skip\n",
      "Skip\n",
      "Skip\n",
      "Skip\n",
      "Skip\n",
      "Skip\n",
      "Skip\n",
      "Skip\n",
      "Skip\n",
      "Skip\n",
      "Skip\n",
      "Skip\n",
      "Skip\n",
      "Skip\n",
      "Skip\n",
      "Skip\n",
      "Skip\n",
      "Skip\n",
      "Skip\n",
      "Skip\n",
      "Skip\n",
      "Skip\n",
      "Skip\n",
      "Skip\n",
      "Skip\n",
      "Skip\n",
      "Skip\n",
      "Skip\n",
      "Skip\n",
      "Skip\n",
      "Skip\n",
      "Skip\n",
      "Skip\n",
      "Skip\n",
      "Skip\n",
      "Skip\n",
      "Skip\n",
      "Skip\n",
      "Skip\n",
      "Skip\n",
      "Skip\n",
      "Skip\n",
      "Skip\n",
      "Skip\n",
      "Skip\n",
      "Skip\n",
      "Skip\n",
      "Skip\n",
      "Skip\n",
      "Skip\n",
      "Skip\n",
      "Skip\n",
      "Skip\n",
      "Skip\n",
      "Skip\n",
      "Skip\n",
      "Skip\n",
      "Skip\n",
      "Skip\n",
      "Skip\n",
      "Skip\n",
      "Skip\n",
      "Skip\n",
      "Skip\n",
      "Skip\n",
      "Skip\n",
      "Skip\n",
      "Skip\n",
      "Skip\n",
      "Skip\n",
      "Skip\n",
      "Skip\n",
      "Skip\n",
      "Skip\n",
      "Skip\n",
      "Skip\n",
      "Skip\n",
      "Skip\n",
      "Skip\n",
      "Skip\n",
      "Skip\n",
      "Skip\n",
      "Skip\n",
      "Skip\n",
      "Skip\n",
      "Skip\n",
      "Skip\n",
      "Skip\n",
      "Skip\n",
      "Skip\n",
      "Skip\n",
      "Skip\n",
      "Skip\n",
      "Skip\n",
      "Skip\n",
      "Skip\n",
      "Skip\n",
      "Skip\n",
      "Skip\n",
      "Skip\n",
      "Skip\n",
      "Skip\n",
      "Skip\n",
      "Skip\n",
      "Skip\n",
      "Skip\n",
      "Skip\n",
      "Skip\n",
      "Skip\n",
      "Skip\n",
      "Skip\n",
      "Skip\n",
      "Skip\n",
      "Skip\n",
      "Skip\n",
      "Skip\n",
      "Skip\n",
      "Skip\n",
      "Skip\n",
      "Skip\n",
      "Skip\n",
      "Skip\n",
      "Skip\n",
      "Skip\n",
      "Skip\n",
      "Skip\n",
      "Skip\n",
      "Skip\n",
      "Skip\n",
      "Skip\n",
      "Skip\n",
      "Skip\n",
      "Skip\n",
      "Skip\n",
      "Skip\n",
      "Skip\n",
      "Skip\n",
      "Skip\n",
      "Skip\n",
      "Skip\n",
      "Skip\n",
      "Skip\n",
      "Skip\n",
      "Skip\n",
      "Skip\n",
      "Skip\n",
      "Skip\n",
      "Skip\n",
      "Skip\n",
      "Skip\n",
      "Skip\n",
      "Skip\n",
      "Skip\n",
      "Skip\n",
      "Skip\n",
      "Skip\n",
      "Skip\n",
      "Skip\n",
      "Skip\n",
      "Skip\n",
      "Skip\n",
      "Skip\n",
      "Skip\n",
      "Skip\n",
      "Skip\n",
      "Skip\n",
      "Skip\n",
      "Skip\n",
      "Skip\n",
      "Skip\n",
      "Skip\n",
      "Skip\n",
      "Skip\n",
      "Skip\n",
      "Skip\n",
      "Skip\n",
      "Skip\n",
      "Skip\n",
      "Skip\n",
      "Skip\n",
      "Skip\n",
      "Skip\n",
      "Skip\n",
      "Skip\n",
      "Skip\n",
      "Skip\n",
      "Skip\n",
      "Skip\n",
      "Skip\n",
      "Skip\n",
      "Skip\n",
      "Skip\n",
      "Skip\n",
      "Skip\n",
      "Skip\n",
      "Skip\n",
      "Skip\n",
      "Skip\n",
      "Skip\n",
      "Skip\n",
      "Skip\n",
      "Skip\n",
      "Skip\n",
      "Skip\n",
      "Skip\n",
      "Skip\n",
      "Skip\n",
      "Skip\n",
      "Skip\n",
      "Skip\n",
      "Skip\n",
      "Skip\n",
      "Skip\n",
      "Skip\n",
      "Skip\n",
      "Skip\n",
      "Skip\n",
      "Skip\n",
      "Skip\n",
      "Skip\n",
      "Skip\n",
      "Skip\n",
      "Skip\n",
      "Skip\n",
      "Skip\n",
      "Skip\n",
      "Skip\n",
      "Skip\n",
      "Skip\n",
      "Skip\n",
      "Skip\n",
      "Skip\n",
      "Skip\n",
      "Skip\n",
      "Skip\n",
      "Skip\n",
      "Skip\n",
      "Skip\n",
      "Skip\n",
      "Skip\n",
      "Skip\n",
      "Skip\n",
      "Skip\n",
      "Skip\n",
      "Skip\n",
      "Skip\n",
      "Skip\n",
      "Skip\n",
      "Skip\n",
      "Skip\n",
      "Skip\n",
      "Skip\n",
      "Skip\n",
      "Skip\n",
      "Skip\n",
      "Skip\n",
      "Skip\n",
      "Skip\n",
      "Skip\n",
      "Skip\n",
      "Skip\n",
      "Skip\n",
      "Skip\n",
      "Skip\n",
      "Skip\n",
      "Skip\n",
      "Skip\n",
      "Skip\n",
      "Skip\n",
      "Skip\n",
      "Skip\n",
      "Skip\n",
      "Skip\n",
      "Skip\n",
      "Skip\n",
      "Skip\n",
      "Skip\n",
      "Skip\n",
      "Skip\n",
      "Skip\n",
      "Skip\n",
      "Skip\n",
      "Skip\n",
      "Skip\n",
      "Skip\n",
      "Skip\n",
      "Skip\n",
      "Skip\n",
      "Skip\n",
      "Skip\n",
      "Skip\n",
      "Skip\n",
      "Skip\n",
      "Skip\n",
      "Skip\n",
      "Skip\n",
      "Skip\n",
      "Skip\n",
      "Skip\n",
      "Skip\n",
      "Skip\n",
      "Skip\n",
      "Skip\n",
      "Skip\n",
      "Skip\n",
      "Skip\n",
      "Skip\n",
      "Skip\n",
      "Skip\n",
      "Skip\n",
      "Skip\n",
      "Skip\n",
      "Skip\n",
      "Skip\n",
      "Skip\n",
      "Skip\n",
      "Skip\n",
      "Skip\n",
      "Skip\n",
      "Skip\n",
      "Skip\n",
      "Skip\n",
      "Skip\n"
     ]
    },
    {
     "name": "stderr",
     "output_type": "stream",
     "text": [
      "  0%|          | 0/48 [00:00<?, ?it/s]"
     ]
    },
    {
     "name": "stdout",
     "output_type": "stream",
     "text": [
      "(56, 100, 78)\n",
      "(56, 100, 78)\n"
     ]
    },
    {
     "name": "stderr",
     "output_type": "stream",
     "text": [
      "100%|██████████| 56/56 [00:00<00:00, 997.10it/s]\n"
     ]
    },
    {
     "name": "stdout",
     "output_type": "stream",
     "text": [
      "(56, 100, 78)\n",
      "(56, 100, 78)\n"
     ]
    },
    {
     "name": "stderr",
     "output_type": "stream",
     "text": [
      "100%|██████████| 56/56 [00:00<00:00, 918.24it/s]\n",
      "  2%|▏         | 1/48 [00:00<00:07,  6.03it/s]"
     ]
    },
    {
     "name": "stdout",
     "output_type": "stream",
     "text": [
      "(68, 95, 80)\n",
      "(68, 95, 80)\n"
     ]
    },
    {
     "name": "stderr",
     "output_type": "stream",
     "text": [
      "100%|██████████| 68/68 [00:00<00:00, 1046.09it/s]\n"
     ]
    },
    {
     "name": "stdout",
     "output_type": "stream",
     "text": [
      "(68, 95, 80)\n",
      "(68, 95, 80)\n"
     ]
    },
    {
     "name": "stderr",
     "output_type": "stream",
     "text": [
      "100%|██████████| 68/68 [00:00<00:00, 962.69it/s]\n",
      "  4%|▍         | 2/48 [00:00<00:08,  5.55it/s]"
     ]
    },
    {
     "name": "stdout",
     "output_type": "stream",
     "text": [
      "(66, 89, 52)\n",
      "(66, 89, 52)\n"
     ]
    },
    {
     "name": "stderr",
     "output_type": "stream",
     "text": [
      "100%|██████████| 66/66 [00:00<00:00, 1143.59it/s]\n"
     ]
    },
    {
     "name": "stdout",
     "output_type": "stream",
     "text": [
      "(66, 89, 52)\n",
      "(66, 89, 52)\n"
     ]
    },
    {
     "name": "stderr",
     "output_type": "stream",
     "text": [
      "100%|██████████| 66/66 [00:00<00:00, 1003.51it/s]\n",
      "  6%|▋         | 3/48 [00:00<00:07,  5.87it/s]"
     ]
    },
    {
     "name": "stdout",
     "output_type": "stream",
     "text": [
      "Skip\n",
      "(66, 87, 92)\n",
      "(66, 87, 92)\n"
     ]
    },
    {
     "name": "stderr",
     "output_type": "stream",
     "text": [
      "100%|██████████| 66/66 [00:00<00:00, 1007.59it/s]\n"
     ]
    },
    {
     "name": "stdout",
     "output_type": "stream",
     "text": [
      "(66, 87, 92)\n",
      "(66, 87, 92)\n"
     ]
    },
    {
     "name": "stderr",
     "output_type": "stream",
     "text": [
      "100%|██████████| 66/66 [00:00<00:00, 939.87it/s]\n",
      " 10%|█         | 5/48 [00:00<00:05,  7.80it/s]"
     ]
    },
    {
     "name": "stdout",
     "output_type": "stream",
     "text": [
      "(65, 93, 92)\n",
      "(65, 93, 92)\n"
     ]
    },
    {
     "name": "stderr",
     "output_type": "stream",
     "text": [
      "100%|██████████| 65/65 [00:00<00:00, 1007.83it/s]\n"
     ]
    },
    {
     "name": "stdout",
     "output_type": "stream",
     "text": [
      "(65, 93, 92)\n",
      "(65, 93, 92)\n"
     ]
    },
    {
     "name": "stderr",
     "output_type": "stream",
     "text": [
      "100%|██████████| 65/65 [00:00<00:00, 831.70it/s]\n",
      " 12%|█▎        | 6/48 [00:00<00:06,  6.51it/s]"
     ]
    },
    {
     "name": "stdout",
     "output_type": "stream",
     "text": [
      "(69, 61, 64)\n",
      "(69, 61, 64)\n"
     ]
    },
    {
     "name": "stderr",
     "output_type": "stream",
     "text": [
      "100%|██████████| 69/69 [00:00<00:00, 974.06it/s]\n"
     ]
    },
    {
     "name": "stdout",
     "output_type": "stream",
     "text": [
      "(69, 61, 64)\n",
      "(69, 61, 64)\n"
     ]
    },
    {
     "name": "stderr",
     "output_type": "stream",
     "text": [
      "100%|██████████| 69/69 [00:00<00:00, 993.24it/s]\n",
      " 15%|█▍        | 7/48 [00:01<00:07,  5.85it/s]"
     ]
    },
    {
     "name": "stdout",
     "output_type": "stream",
     "text": [
      "(64, 82, 89)\n",
      "(64, 82, 89)\n"
     ]
    },
    {
     "name": "stderr",
     "output_type": "stream",
     "text": [
      "100%|██████████| 64/64 [00:00<00:00, 935.04it/s]\n"
     ]
    },
    {
     "name": "stdout",
     "output_type": "stream",
     "text": [
      "(64, 82, 89)\n",
      "(64, 82, 89)\n"
     ]
    },
    {
     "name": "stderr",
     "output_type": "stream",
     "text": [
      "100%|██████████| 64/64 [00:00<00:00, 866.00it/s]\n",
      " 17%|█▋        | 8/48 [00:01<00:07,  5.61it/s]"
     ]
    },
    {
     "name": "stdout",
     "output_type": "stream",
     "text": [
      "(58, 84, 80)\n",
      "(58, 84, 80)\n"
     ]
    },
    {
     "name": "stderr",
     "output_type": "stream",
     "text": [
      "100%|██████████| 58/58 [00:00<00:00, 1010.08it/s]\n"
     ]
    },
    {
     "name": "stdout",
     "output_type": "stream",
     "text": [
      "(58, 84, 80)\n",
      "(58, 84, 80)\n"
     ]
    },
    {
     "name": "stderr",
     "output_type": "stream",
     "text": [
      "100%|██████████| 58/58 [00:00<00:00, 715.28it/s]\n",
      " 19%|█▉        | 9/48 [00:01<00:07,  5.52it/s]"
     ]
    },
    {
     "name": "stdout",
     "output_type": "stream",
     "text": [
      "(60, 110, 76)\n",
      "(60, 110, 76)\n"
     ]
    },
    {
     "name": "stderr",
     "output_type": "stream",
     "text": [
      "100%|██████████| 60/60 [00:00<00:00, 832.13it/s]\n"
     ]
    },
    {
     "name": "stdout",
     "output_type": "stream",
     "text": [
      "(60, 110, 76)\n",
      "(60, 110, 76)\n"
     ]
    },
    {
     "name": "stderr",
     "output_type": "stream",
     "text": [
      "100%|██████████| 60/60 [00:00<00:00, 857.46it/s]\n",
      " 21%|██        | 10/48 [00:01<00:07,  5.36it/s]"
     ]
    },
    {
     "name": "stdout",
     "output_type": "stream",
     "text": [
      "(65, 71, 81)\n",
      "(65, 71, 81)\n"
     ]
    },
    {
     "name": "stderr",
     "output_type": "stream",
     "text": [
      "100%|██████████| 65/65 [00:00<00:00, 981.53it/s]\n"
     ]
    },
    {
     "name": "stdout",
     "output_type": "stream",
     "text": [
      "(65, 71, 81)\n",
      "(65, 71, 81)\n"
     ]
    },
    {
     "name": "stderr",
     "output_type": "stream",
     "text": [
      "100%|██████████| 65/65 [00:00<00:00, 923.11it/s]\n",
      " 23%|██▎       | 11/48 [00:01<00:06,  5.32it/s]"
     ]
    },
    {
     "name": "stdout",
     "output_type": "stream",
     "text": [
      "(64, 52, 49)\n",
      "(64, 52, 49)\n"
     ]
    },
    {
     "name": "stderr",
     "output_type": "stream",
     "text": [
      "100%|██████████| 64/64 [00:00<00:00, 1542.50it/s]\n"
     ]
    },
    {
     "name": "stdout",
     "output_type": "stream",
     "text": [
      "(64, 52, 49)\n",
      "(64, 52, 49)\n"
     ]
    },
    {
     "name": "stderr",
     "output_type": "stream",
     "text": [
      "100%|██████████| 64/64 [00:00<00:00, 1086.46it/s]\n",
      " 25%|██▌       | 12/48 [00:02<00:06,  5.90it/s]"
     ]
    },
    {
     "name": "stdout",
     "output_type": "stream",
     "text": [
      "(63, 74, 59)\n",
      "(63, 74, 59)\n"
     ]
    },
    {
     "name": "stderr",
     "output_type": "stream",
     "text": [
      "100%|██████████| 63/63 [00:00<00:00, 704.60it/s]\n"
     ]
    },
    {
     "name": "stdout",
     "output_type": "stream",
     "text": [
      "(63, 74, 59)\n",
      "(63, 74, 59)\n"
     ]
    },
    {
     "name": "stderr",
     "output_type": "stream",
     "text": [
      "100%|██████████| 63/63 [00:00<00:00, 913.37it/s]\n",
      " 27%|██▋       | 13/48 [00:02<00:06,  5.53it/s]"
     ]
    },
    {
     "name": "stdout",
     "output_type": "stream",
     "text": [
      "Skip\n",
      "(60, 84, 68)\n",
      "(60, 84, 68)\n"
     ]
    },
    {
     "name": "stderr",
     "output_type": "stream",
     "text": [
      "100%|██████████| 60/60 [00:00<00:00, 892.60it/s]\n"
     ]
    },
    {
     "name": "stdout",
     "output_type": "stream",
     "text": [
      "(60, 84, 68)\n",
      "(60, 84, 68)\n"
     ]
    },
    {
     "name": "stderr",
     "output_type": "stream",
     "text": [
      "100%|██████████| 60/60 [00:00<00:00, 731.63it/s]\n",
      " 31%|███▏      | 15/48 [00:02<00:04,  7.01it/s]"
     ]
    },
    {
     "name": "stdout",
     "output_type": "stream",
     "text": [
      "(62, 72, 89)\n",
      "(62, 72, 89)\n"
     ]
    },
    {
     "name": "stderr",
     "output_type": "stream",
     "text": [
      "100%|██████████| 62/62 [00:00<00:00, 948.01it/s]\n"
     ]
    },
    {
     "name": "stdout",
     "output_type": "stream",
     "text": [
      "(62, 72, 89)\n",
      "(62, 72, 89)\n"
     ]
    },
    {
     "name": "stderr",
     "output_type": "stream",
     "text": [
      "100%|██████████| 62/62 [00:00<00:00, 853.42it/s]\n",
      " 33%|███▎      | 16/48 [00:02<00:04,  6.49it/s]"
     ]
    },
    {
     "name": "stdout",
     "output_type": "stream",
     "text": [
      "(65, 79, 78)\n",
      "(65, 79, 78)\n"
     ]
    },
    {
     "name": "stderr",
     "output_type": "stream",
     "text": [
      "100%|██████████| 65/65 [00:00<00:00, 883.39it/s]\n"
     ]
    },
    {
     "name": "stdout",
     "output_type": "stream",
     "text": [
      "(65, 79, 78)\n",
      "(65, 79, 78)\n"
     ]
    },
    {
     "name": "stderr",
     "output_type": "stream",
     "text": [
      "100%|██████████| 65/65 [00:00<00:00, 773.38it/s]\n",
      " 35%|███▌      | 17/48 [00:02<00:05,  5.92it/s]"
     ]
    },
    {
     "name": "stdout",
     "output_type": "stream",
     "text": [
      "(62, 67, 93)\n",
      "(62, 67, 93)\n"
     ]
    },
    {
     "name": "stderr",
     "output_type": "stream",
     "text": [
      "100%|██████████| 62/62 [00:00<00:00, 912.67it/s]"
     ]
    },
    {
     "name": "stdout",
     "output_type": "stream",
     "text": [
      "(62, 67, 93)\n"
     ]
    },
    {
     "name": "stderr",
     "output_type": "stream",
     "text": [
      "\n"
     ]
    },
    {
     "name": "stdout",
     "output_type": "stream",
     "text": [
      "(62, 67, 93)\n"
     ]
    },
    {
     "name": "stderr",
     "output_type": "stream",
     "text": [
      "100%|██████████| 62/62 [00:00<00:00, 800.23it/s]\n",
      " 38%|███▊      | 18/48 [00:03<00:05,  5.68it/s]"
     ]
    },
    {
     "name": "stdout",
     "output_type": "stream",
     "text": [
      "(62, 82, 70)\n",
      "(62, 82, 70)\n"
     ]
    },
    {
     "name": "stderr",
     "output_type": "stream",
     "text": [
      "100%|██████████| 62/62 [00:00<00:00, 815.67it/s]"
     ]
    },
    {
     "name": "stdout",
     "output_type": "stream",
     "text": [
      "(62, 82, 70)\n"
     ]
    },
    {
     "name": "stderr",
     "output_type": "stream",
     "text": [
      "\n"
     ]
    },
    {
     "name": "stdout",
     "output_type": "stream",
     "text": [
      "(62, 82, 70)\n"
     ]
    },
    {
     "name": "stderr",
     "output_type": "stream",
     "text": [
      "100%|██████████| 62/62 [00:00<00:00, 483.11it/s]\n",
      " 40%|███▉      | 19/48 [00:03<00:05,  5.06it/s]"
     ]
    },
    {
     "name": "stdout",
     "output_type": "stream",
     "text": [
      "(59, 73, 85)\n",
      "(59, 73, 85)\n"
     ]
    },
    {
     "name": "stderr",
     "output_type": "stream",
     "text": [
      "100%|██████████| 59/59 [00:00<00:00, 950.97it/s]\n"
     ]
    },
    {
     "name": "stdout",
     "output_type": "stream",
     "text": [
      "(59, 73, 85)\n",
      "(59, 73, 85)\n"
     ]
    },
    {
     "name": "stderr",
     "output_type": "stream",
     "text": [
      "100%|██████████| 59/59 [00:00<00:00, 727.26it/s]\n",
      " 42%|████▏     | 20/48 [00:03<00:05,  5.12it/s]"
     ]
    },
    {
     "name": "stdout",
     "output_type": "stream",
     "text": [
      "(61, 75, 79)\n",
      "(61, 75, 79)\n"
     ]
    },
    {
     "name": "stderr",
     "output_type": "stream",
     "text": [
      "100%|██████████| 61/61 [00:00<00:00, 795.96it/s]\n"
     ]
    },
    {
     "name": "stdout",
     "output_type": "stream",
     "text": [
      "(61, 75, 79)\n",
      "(61, 75, 79)\n"
     ]
    },
    {
     "name": "stderr",
     "output_type": "stream",
     "text": [
      "100%|██████████| 61/61 [00:00<00:00, 770.09it/s]\n",
      " 44%|████▍     | 21/48 [00:03<00:05,  5.02it/s]"
     ]
    },
    {
     "name": "stdout",
     "output_type": "stream",
     "text": [
      "(59, 115, 65)\n",
      "(59, 115, 65)\n"
     ]
    },
    {
     "name": "stderr",
     "output_type": "stream",
     "text": [
      "100%|██████████| 59/59 [00:00<00:00, 893.15it/s]\n"
     ]
    },
    {
     "name": "stdout",
     "output_type": "stream",
     "text": [
      "(59, 115, 65)\n",
      "(59, 115, 65)\n"
     ]
    },
    {
     "name": "stderr",
     "output_type": "stream",
     "text": [
      "100%|██████████| 59/59 [00:00<00:00, 864.19it/s]\n",
      " 46%|████▌     | 22/48 [00:03<00:05,  5.08it/s]"
     ]
    },
    {
     "name": "stdout",
     "output_type": "stream",
     "text": [
      "(61, 92, 89)\n",
      "(61, 92, 89)\n"
     ]
    },
    {
     "name": "stderr",
     "output_type": "stream",
     "text": [
      "100%|██████████| 61/61 [00:00<00:00, 843.21it/s]\n"
     ]
    },
    {
     "name": "stdout",
     "output_type": "stream",
     "text": [
      "(61, 92, 89)\n",
      "(61, 92, 89)\n"
     ]
    },
    {
     "name": "stderr",
     "output_type": "stream",
     "text": [
      "100%|██████████| 61/61 [00:00<00:00, 824.72it/s]\n",
      " 48%|████▊     | 23/48 [00:04<00:05,  4.99it/s]"
     ]
    },
    {
     "name": "stdout",
     "output_type": "stream",
     "text": [
      "(63, 99, 66)\n",
      "(63, 99, 66)\n"
     ]
    },
    {
     "name": "stderr",
     "output_type": "stream",
     "text": [
      "100%|██████████| 63/63 [00:00<00:00, 927.04it/s]\n"
     ]
    },
    {
     "name": "stdout",
     "output_type": "stream",
     "text": [
      "(63, 99, 66)\n",
      "(63, 99, 66)\n"
     ]
    },
    {
     "name": "stderr",
     "output_type": "stream",
     "text": [
      "100%|██████████| 63/63 [00:00<00:00, 508.52it/s]\n",
      " 50%|█████     | 24/48 [00:04<00:05,  4.67it/s]"
     ]
    },
    {
     "name": "stdout",
     "output_type": "stream",
     "text": [
      "(60, 70, 75)\n",
      "(60, 70, 75)\n"
     ]
    },
    {
     "name": "stderr",
     "output_type": "stream",
     "text": [
      "100%|██████████| 60/60 [00:00<00:00, 818.75it/s]\n"
     ]
    },
    {
     "name": "stdout",
     "output_type": "stream",
     "text": [
      "(60, 70, 75)\n",
      "(60, 70, 75)\n"
     ]
    },
    {
     "name": "stderr",
     "output_type": "stream",
     "text": [
      "100%|██████████| 60/60 [00:00<00:00, 832.77it/s]\n",
      " 52%|█████▏    | 25/48 [00:04<00:04,  4.85it/s]"
     ]
    },
    {
     "name": "stdout",
     "output_type": "stream",
     "text": [
      "(63, 81, 83)\n",
      "(63, 81, 83)\n"
     ]
    },
    {
     "name": "stderr",
     "output_type": "stream",
     "text": [
      "100%|██████████| 63/63 [00:00<00:00, 961.79it/s]\n"
     ]
    },
    {
     "name": "stdout",
     "output_type": "stream",
     "text": [
      "(63, 81, 83)\n",
      "(63, 81, 83)\n"
     ]
    },
    {
     "name": "stderr",
     "output_type": "stream",
     "text": [
      "100%|██████████| 63/63 [00:00<00:00, 902.71it/s]\n",
      " 54%|█████▍    | 26/48 [00:04<00:04,  5.00it/s]"
     ]
    },
    {
     "name": "stdout",
     "output_type": "stream",
     "text": [
      "(70, 74, 87)\n",
      "(70, 74, 87)\n"
     ]
    },
    {
     "name": "stderr",
     "output_type": "stream",
     "text": [
      "100%|██████████| 70/70 [00:00<00:00, 939.50it/s]\n"
     ]
    },
    {
     "name": "stdout",
     "output_type": "stream",
     "text": [
      "(70, 74, 87)\n",
      "(70, 74, 87)\n"
     ]
    },
    {
     "name": "stderr",
     "output_type": "stream",
     "text": [
      "100%|██████████| 70/70 [00:00<00:00, 807.34it/s]\n",
      " 56%|█████▋    | 27/48 [00:04<00:04,  4.89it/s]"
     ]
    },
    {
     "name": "stdout",
     "output_type": "stream",
     "text": [
      "(63, 74, 71)\n",
      "(63, 74, 71)\n"
     ]
    },
    {
     "name": "stderr",
     "output_type": "stream",
     "text": [
      "100%|██████████| 63/63 [00:00<00:00, 943.53it/s]"
     ]
    },
    {
     "name": "stdout",
     "output_type": "stream",
     "text": [
      "(63, 74, 71)\n"
     ]
    },
    {
     "name": "stderr",
     "output_type": "stream",
     "text": [
      "\n"
     ]
    },
    {
     "name": "stdout",
     "output_type": "stream",
     "text": [
      "(63, 74, 71)\n"
     ]
    },
    {
     "name": "stderr",
     "output_type": "stream",
     "text": [
      "100%|██████████| 63/63 [00:00<00:00, 780.06it/s]\n",
      " 58%|█████▊    | 28/48 [00:05<00:04,  4.83it/s]"
     ]
    },
    {
     "name": "stdout",
     "output_type": "stream",
     "text": [
      "(65, 85, 79)\n",
      "(65, 85, 79)\n"
     ]
    },
    {
     "name": "stderr",
     "output_type": "stream",
     "text": [
      "100%|██████████| 65/65 [00:00<00:00, 903.22it/s]"
     ]
    },
    {
     "name": "stdout",
     "output_type": "stream",
     "text": [
      "(65, 85, 79)\n"
     ]
    },
    {
     "name": "stderr",
     "output_type": "stream",
     "text": [
      "\n"
     ]
    },
    {
     "name": "stdout",
     "output_type": "stream",
     "text": [
      "(65, 85, 79)\n"
     ]
    },
    {
     "name": "stderr",
     "output_type": "stream",
     "text": [
      "100%|██████████| 65/65 [00:00<00:00, 917.29it/s]\n",
      " 60%|██████    | 29/48 [00:05<00:03,  4.91it/s]"
     ]
    },
    {
     "name": "stdout",
     "output_type": "stream",
     "text": [
      "(74, 70, 78)\n",
      "(74, 70, 78)\n"
     ]
    },
    {
     "name": "stderr",
     "output_type": "stream",
     "text": [
      "100%|██████████| 74/74 [00:00<00:00, 639.42it/s]\n"
     ]
    },
    {
     "name": "stdout",
     "output_type": "stream",
     "text": [
      "(74, 70, 78)\n",
      "(74, 70, 78)\n"
     ]
    },
    {
     "name": "stderr",
     "output_type": "stream",
     "text": [
      "100%|██████████| 74/74 [00:00<00:00, 915.22it/s]\n",
      " 62%|██████▎   | 30/48 [00:05<00:03,  4.63it/s]"
     ]
    },
    {
     "name": "stdout",
     "output_type": "stream",
     "text": [
      "(66, 75, 83)\n",
      "(66, 75, 83)\n"
     ]
    },
    {
     "name": "stderr",
     "output_type": "stream",
     "text": [
      "100%|██████████| 66/66 [00:00<00:00, 964.02it/s]\n"
     ]
    },
    {
     "name": "stdout",
     "output_type": "stream",
     "text": [
      "(66, 75, 83)\n",
      "(66, 75, 83)\n"
     ]
    },
    {
     "name": "stderr",
     "output_type": "stream",
     "text": [
      "100%|██████████| 66/66 [00:00<00:00, 817.26it/s]\n",
      " 65%|██████▍   | 31/48 [00:05<00:03,  4.74it/s]"
     ]
    },
    {
     "name": "stdout",
     "output_type": "stream",
     "text": [
      "Skip\n",
      "Skip\n",
      "Skip\n",
      "Skip\n",
      "Skip\n",
      "Skip\n",
      "Skip\n",
      "Skip\n",
      "Skip\n",
      "Skip\n",
      "Skip\n",
      "Skip\n",
      "Skip\n",
      "(61, 65, 59)\n",
      "(61, 65, 59)\n"
     ]
    },
    {
     "name": "stderr",
     "output_type": "stream",
     "text": [
      "100%|██████████| 61/61 [00:00<00:00, 878.10it/s]\n"
     ]
    },
    {
     "name": "stdout",
     "output_type": "stream",
     "text": [
      "(61, 65, 59)\n",
      "(61, 65, 59)\n"
     ]
    },
    {
     "name": "stderr",
     "output_type": "stream",
     "text": [
      "100%|██████████| 61/61 [00:00<00:00, 851.74it/s]\n",
      " 94%|█████████▍| 45/48 [00:05<00:00, 24.36it/s]"
     ]
    },
    {
     "name": "stdout",
     "output_type": "stream",
     "text": [
      "(58, 62, 73)\n",
      "(58, 62, 73)\n"
     ]
    },
    {
     "name": "stderr",
     "output_type": "stream",
     "text": [
      "100%|██████████| 58/58 [00:00<00:00, 853.44it/s]\n"
     ]
    },
    {
     "name": "stdout",
     "output_type": "stream",
     "text": [
      "(58, 62, 73)\n",
      "(58, 62, 73)\n"
     ]
    },
    {
     "name": "stderr",
     "output_type": "stream",
     "text": [
      "100%|██████████| 58/58 [00:00<00:00, 870.35it/s]\n",
      "100%|██████████| 48/48 [00:06<00:00,  7.84it/s]\n"
     ]
    },
    {
     "name": "stdout",
     "output_type": "stream",
     "text": [
      "Skip\n",
      "Skip\n"
     ]
    },
    {
     "name": "stderr",
     "output_type": "stream",
     "text": [
      "  0%|          | 0/182 [00:00<?, ?it/s]"
     ]
    },
    {
     "name": "stdout",
     "output_type": "stream",
     "text": [
      "(65, 93, 93)\n",
      "(65, 93, 93)\n"
     ]
    },
    {
     "name": "stderr",
     "output_type": "stream",
     "text": [
      "100%|██████████| 65/65 [00:00<00:00, 932.17it/s]\n"
     ]
    },
    {
     "name": "stdout",
     "output_type": "stream",
     "text": [
      "(65, 93, 93)\n",
      "(65, 93, 93)\n"
     ]
    },
    {
     "name": "stderr",
     "output_type": "stream",
     "text": [
      "100%|██████████| 65/65 [00:00<00:00, 900.10it/s]\n",
      "  1%|          | 1/182 [00:00<00:38,  4.66it/s]"
     ]
    },
    {
     "name": "stdout",
     "output_type": "stream",
     "text": [
      "(57, 94, 91)\n",
      "(57, 94, 91)\n"
     ]
    },
    {
     "name": "stderr",
     "output_type": "stream",
     "text": [
      "100%|██████████| 57/57 [00:00<00:00, 831.01it/s]\n"
     ]
    },
    {
     "name": "stdout",
     "output_type": "stream",
     "text": [
      "(57, 94, 91)\n",
      "(57, 94, 91)\n"
     ]
    },
    {
     "name": "stderr",
     "output_type": "stream",
     "text": [
      "100%|██████████| 57/57 [00:00<00:00, 848.11it/s]\n",
      "  1%|          | 2/182 [00:00<00:41,  4.32it/s]"
     ]
    },
    {
     "name": "stdout",
     "output_type": "stream",
     "text": [
      "(55, 98, 97)\n",
      "(55, 98, 97)\n"
     ]
    },
    {
     "name": "stderr",
     "output_type": "stream",
     "text": [
      "100%|██████████| 55/55 [00:00<00:00, 887.49it/s]\n"
     ]
    },
    {
     "name": "stdout",
     "output_type": "stream",
     "text": [
      "(55, 98, 97)\n",
      "(55, 98, 97)\n"
     ]
    },
    {
     "name": "stderr",
     "output_type": "stream",
     "text": [
      "100%|██████████| 55/55 [00:00<00:00, 778.04it/s]\n",
      "  2%|▏         | 3/182 [00:00<00:39,  4.58it/s]"
     ]
    },
    {
     "name": "stdout",
     "output_type": "stream",
     "text": [
      "(64, 100, 105)\n",
      "(64, 100, 105)\n"
     ]
    },
    {
     "name": "stderr",
     "output_type": "stream",
     "text": [
      "100%|██████████| 64/64 [00:00<00:00, 809.43it/s]\n"
     ]
    },
    {
     "name": "stdout",
     "output_type": "stream",
     "text": [
      "(64, 100, 105)\n",
      "(64, 100, 105)\n"
     ]
    },
    {
     "name": "stderr",
     "output_type": "stream",
     "text": [
      "100%|██████████| 64/64 [00:00<00:00, 825.55it/s]\n",
      "  2%|▏         | 4/182 [00:00<00:42,  4.15it/s]"
     ]
    },
    {
     "name": "stdout",
     "output_type": "stream",
     "text": [
      "(64, 88, 77)\n",
      "(64, 88, 77)\n"
     ]
    },
    {
     "name": "stderr",
     "output_type": "stream",
     "text": [
      "100%|██████████| 64/64 [00:00<00:00, 947.13it/s]\n"
     ]
    },
    {
     "name": "stdout",
     "output_type": "stream",
     "text": [
      "(64, 88, 77)\n",
      "(64, 88, 77)\n"
     ]
    },
    {
     "name": "stderr",
     "output_type": "stream",
     "text": [
      "100%|██████████| 64/64 [00:00<00:00, 909.55it/s]\n",
      "  3%|▎         | 5/182 [00:01<00:39,  4.49it/s]"
     ]
    },
    {
     "name": "stdout",
     "output_type": "stream",
     "text": [
      "(50, 99, 74)\n",
      "(50, 99, 74)\n"
     ]
    },
    {
     "name": "stderr",
     "output_type": "stream",
     "text": [
      "100%|██████████| 50/50 [00:00<00:00, 840.80it/s]\n"
     ]
    },
    {
     "name": "stdout",
     "output_type": "stream",
     "text": [
      "(50, 99, 74)\n",
      "(50, 99, 74)\n"
     ]
    },
    {
     "name": "stderr",
     "output_type": "stream",
     "text": [
      "100%|██████████| 50/50 [00:00<00:00, 723.69it/s]\n",
      "  3%|▎         | 6/182 [00:01<00:36,  4.85it/s]"
     ]
    },
    {
     "name": "stdout",
     "output_type": "stream",
     "text": [
      "(55, 90, 75)\n",
      "(55, 90, 75)\n"
     ]
    },
    {
     "name": "stderr",
     "output_type": "stream",
     "text": [
      "100%|██████████| 55/55 [00:00<00:00, 861.60it/s]\n"
     ]
    },
    {
     "name": "stdout",
     "output_type": "stream",
     "text": [
      "(55, 90, 75)\n",
      "(55, 90, 75)\n"
     ]
    },
    {
     "name": "stderr",
     "output_type": "stream",
     "text": [
      "100%|██████████| 55/55 [00:00<00:00, 406.35it/s]\n",
      "  4%|▍         | 7/182 [00:01<00:38,  4.52it/s]"
     ]
    },
    {
     "name": "stdout",
     "output_type": "stream",
     "text": [
      "(61, 59, 71)\n",
      "(61, 59, 71)\n"
     ]
    },
    {
     "name": "stderr",
     "output_type": "stream",
     "text": [
      "100%|██████████| 61/61 [00:00<00:00, 874.78it/s]\n"
     ]
    },
    {
     "name": "stdout",
     "output_type": "stream",
     "text": [
      "(61, 59, 71)\n",
      "(61, 59, 71)\n"
     ]
    },
    {
     "name": "stderr",
     "output_type": "stream",
     "text": [
      "100%|██████████| 61/61 [00:00<00:00, 883.94it/s]\n",
      "  4%|▍         | 8/182 [00:01<00:36,  4.83it/s]"
     ]
    },
    {
     "name": "stdout",
     "output_type": "stream",
     "text": [
      "(59, 80, 100)\n",
      "(59, 80, 100)\n"
     ]
    },
    {
     "name": "stderr",
     "output_type": "stream",
     "text": [
      "100%|██████████| 59/59 [00:00<00:00, 893.06it/s]\n"
     ]
    },
    {
     "name": "stdout",
     "output_type": "stream",
     "text": [
      "(59, 80, 100)\n",
      "(59, 80, 100)\n"
     ]
    },
    {
     "name": "stderr",
     "output_type": "stream",
     "text": [
      "100%|██████████| 59/59 [00:00<00:00, 630.61it/s]\n",
      "  5%|▍         | 9/182 [00:01<00:36,  4.74it/s]"
     ]
    },
    {
     "name": "stdout",
     "output_type": "stream",
     "text": [
      "(65, 97, 103)\n",
      "(65, 97, 103)\n"
     ]
    },
    {
     "name": "stderr",
     "output_type": "stream",
     "text": [
      "100%|██████████| 65/65 [00:00<00:00, 754.27it/s]\n"
     ]
    },
    {
     "name": "stdout",
     "output_type": "stream",
     "text": [
      "(65, 97, 103)\n",
      "(65, 97, 103)\n"
     ]
    },
    {
     "name": "stderr",
     "output_type": "stream",
     "text": [
      "100%|██████████| 65/65 [00:00<00:00, 843.76it/s]\n",
      "  5%|▌         | 10/182 [00:02<00:39,  4.40it/s]"
     ]
    },
    {
     "name": "stdout",
     "output_type": "stream",
     "text": [
      "(66, 105, 95)\n",
      "(66, 105, 95)\n"
     ]
    },
    {
     "name": "stderr",
     "output_type": "stream",
     "text": [
      "100%|██████████| 66/66 [00:00<00:00, 755.63it/s]\n"
     ]
    },
    {
     "name": "stdout",
     "output_type": "stream",
     "text": [
      "(66, 105, 95)\n",
      "(66, 105, 95)\n"
     ]
    },
    {
     "name": "stderr",
     "output_type": "stream",
     "text": [
      "100%|██████████| 66/66 [00:00<00:00, 367.43it/s]\n",
      "  6%|▌         | 11/182 [00:02<00:47,  3.61it/s]"
     ]
    },
    {
     "name": "stdout",
     "output_type": "stream",
     "text": [
      "(57, 100, 106)\n",
      "(57, 100, 106)\n"
     ]
    },
    {
     "name": "stderr",
     "output_type": "stream",
     "text": [
      "100%|██████████| 57/57 [00:00<00:00, 321.87it/s]\n"
     ]
    },
    {
     "name": "stdout",
     "output_type": "stream",
     "text": [
      "(57, 100, 106)\n",
      "(57, 100, 106)\n"
     ]
    },
    {
     "name": "stderr",
     "output_type": "stream",
     "text": [
      "100%|██████████| 57/57 [00:00<00:00, 455.64it/s]\n",
      "  7%|▋         | 12/182 [00:03<00:57,  2.94it/s]"
     ]
    },
    {
     "name": "stdout",
     "output_type": "stream",
     "text": [
      "(51, 68, 84)\n",
      "(51, 68, 84)\n"
     ]
    },
    {
     "name": "stderr",
     "output_type": "stream",
     "text": [
      "100%|██████████| 51/51 [00:00<00:00, 526.91it/s]\n"
     ]
    },
    {
     "name": "stdout",
     "output_type": "stream",
     "text": [
      "(51, 68, 84)\n",
      "(51, 68, 84)\n"
     ]
    },
    {
     "name": "stderr",
     "output_type": "stream",
     "text": [
      "100%|██████████| 51/51 [00:00<00:00, 409.33it/s]\n",
      "  7%|▋         | 13/182 [00:03<00:55,  3.02it/s]"
     ]
    },
    {
     "name": "stdout",
     "output_type": "stream",
     "text": [
      "(58, 75, 134)\n",
      "(58, 75, 134)\n"
     ]
    },
    {
     "name": "stderr",
     "output_type": "stream",
     "text": [
      "100%|██████████| 58/58 [00:00<00:00, 490.77it/s]"
     ]
    },
    {
     "name": "stdout",
     "output_type": "stream",
     "text": [
      "(58, 75, 134)\n",
      "(58, 75, 134)\n"
     ]
    },
    {
     "name": "stderr",
     "output_type": "stream",
     "text": [
      "\n",
      "100%|██████████| 58/58 [00:00<00:00, 268.92it/s]\n",
      "  8%|▊         | 14/182 [00:03<01:05,  2.55it/s]"
     ]
    },
    {
     "name": "stdout",
     "output_type": "stream",
     "text": [
      "(58, 58, 26)\n",
      "(58, 58, 26)\n"
     ]
    },
    {
     "name": "stderr",
     "output_type": "stream",
     "text": [
      "100%|██████████| 58/58 [00:00<00:00, 591.50it/s]\n"
     ]
    },
    {
     "name": "stdout",
     "output_type": "stream",
     "text": [
      "(58, 58, 26)\n",
      "(58, 58, 26)\n"
     ]
    },
    {
     "name": "stderr",
     "output_type": "stream",
     "text": [
      "100%|██████████| 58/58 [00:00<00:00, 480.42it/s]\n",
      "  8%|▊         | 15/182 [00:04<00:59,  2.80it/s]"
     ]
    },
    {
     "name": "stdout",
     "output_type": "stream",
     "text": [
      "(59, 83, 73)\n",
      "(59, 83, 73)\n"
     ]
    },
    {
     "name": "stderr",
     "output_type": "stream",
     "text": [
      "100%|██████████| 59/59 [00:00<00:00, 525.03it/s]\n"
     ]
    },
    {
     "name": "stdout",
     "output_type": "stream",
     "text": [
      "(59, 83, 73)\n",
      "(59, 83, 73)\n"
     ]
    },
    {
     "name": "stderr",
     "output_type": "stream",
     "text": [
      "100%|██████████| 59/59 [00:00<00:00, 375.09it/s]\n",
      "  9%|▉         | 16/182 [00:04<01:00,  2.76it/s]"
     ]
    },
    {
     "name": "stdout",
     "output_type": "stream",
     "text": [
      "(63, 93, 68)\n",
      "(63, 93, 68)\n"
     ]
    },
    {
     "name": "stderr",
     "output_type": "stream",
     "text": [
      "100%|██████████| 63/63 [00:00<00:00, 419.83it/s]\n"
     ]
    },
    {
     "name": "stdout",
     "output_type": "stream",
     "text": [
      "(63, 93, 68)\n",
      "(63, 93, 68)\n"
     ]
    },
    {
     "name": "stderr",
     "output_type": "stream",
     "text": [
      "100%|██████████| 63/63 [00:00<00:00, 486.87it/s]\n",
      "  9%|▉         | 17/182 [00:04<01:02,  2.65it/s]"
     ]
    },
    {
     "name": "stdout",
     "output_type": "stream",
     "text": [
      "(63, 89, 89)\n",
      "(63, 89, 89)\n"
     ]
    },
    {
     "name": "stderr",
     "output_type": "stream",
     "text": [
      "100%|██████████| 63/63 [00:00<00:00, 379.92it/s]\n"
     ]
    },
    {
     "name": "stdout",
     "output_type": "stream",
     "text": [
      "(63, 89, 89)\n",
      "(63, 89, 89)\n"
     ]
    },
    {
     "name": "stderr",
     "output_type": "stream",
     "text": [
      "100%|██████████| 63/63 [00:00<00:00, 265.90it/s]\n",
      " 10%|▉         | 18/182 [00:05<01:13,  2.24it/s]"
     ]
    },
    {
     "name": "stdout",
     "output_type": "stream",
     "text": [
      "(56, 87, 105)\n",
      "(56, 87, 105)\n"
     ]
    },
    {
     "name": "stderr",
     "output_type": "stream",
     "text": [
      "100%|██████████| 56/56 [00:00<00:00, 379.03it/s]\n"
     ]
    },
    {
     "name": "stdout",
     "output_type": "stream",
     "text": [
      "(56, 87, 105)\n",
      "(56, 87, 105)\n"
     ]
    },
    {
     "name": "stderr",
     "output_type": "stream",
     "text": [
      "100%|██████████| 56/56 [00:00<00:00, 300.98it/s]\n",
      " 10%|█         | 19/182 [00:06<01:16,  2.12it/s]"
     ]
    },
    {
     "name": "stdout",
     "output_type": "stream",
     "text": [
      "(53, 65, 75)\n",
      "(53, 65, 75)\n"
     ]
    },
    {
     "name": "stderr",
     "output_type": "stream",
     "text": [
      "100%|██████████| 53/53 [00:00<00:00, 676.59it/s]\n"
     ]
    },
    {
     "name": "stdout",
     "output_type": "stream",
     "text": [
      "(53, 65, 75)\n",
      "(53, 65, 75)\n"
     ]
    },
    {
     "name": "stderr",
     "output_type": "stream",
     "text": [
      "100%|██████████| 53/53 [00:00<00:00, 408.50it/s]\n",
      " 11%|█         | 20/182 [00:06<01:07,  2.38it/s]"
     ]
    },
    {
     "name": "stdout",
     "output_type": "stream",
     "text": [
      "Skip\n",
      "(85, 89, 70)\n",
      "(85, 89, 70)\n"
     ]
    },
    {
     "name": "stderr",
     "output_type": "stream",
     "text": [
      "100%|██████████| 85/85 [00:00<00:00, 620.67it/s]"
     ]
    },
    {
     "name": "stdout",
     "output_type": "stream",
     "text": [
      "(85, 89, 70)\n",
      "(85, 89, 70)\n"
     ]
    },
    {
     "name": "stderr",
     "output_type": "stream",
     "text": [
      "\n",
      "100%|██████████| 85/85 [00:00<00:00, 540.53it/s]\n",
      " 12%|█▏        | 22/182 [00:06<00:53,  2.98it/s]"
     ]
    },
    {
     "name": "stdout",
     "output_type": "stream",
     "text": [
      "(74, 59, 54)\n",
      "(74, 59, 54)\n"
     ]
    },
    {
     "name": "stderr",
     "output_type": "stream",
     "text": [
      "100%|██████████| 74/74 [00:00<00:00, 909.54it/s]\n"
     ]
    },
    {
     "name": "stdout",
     "output_type": "stream",
     "text": [
      "(74, 59, 54)\n",
      "(74, 59, 54)\n"
     ]
    },
    {
     "name": "stderr",
     "output_type": "stream",
     "text": [
      "100%|██████████| 74/74 [00:00<00:00, 586.27it/s]\n",
      " 13%|█▎        | 23/182 [00:07<00:50,  3.16it/s]"
     ]
    },
    {
     "name": "stdout",
     "output_type": "stream",
     "text": [
      "(74, 59, 54)\n",
      "(74, 59, 54)\n"
     ]
    },
    {
     "name": "stderr",
     "output_type": "stream",
     "text": [
      "100%|██████████| 74/74 [00:00<00:00, 915.66it/s]\n"
     ]
    },
    {
     "name": "stdout",
     "output_type": "stream",
     "text": [
      "(74, 59, 54)\n",
      "(74, 59, 54)\n"
     ]
    },
    {
     "name": "stderr",
     "output_type": "stream",
     "text": [
      "100%|██████████| 74/74 [00:00<00:00, 459.26it/s]\n",
      "100%|██████████| 182/182 [00:07<00:00, 24.35it/s]"
     ]
    },
    {
     "name": "stdout",
     "output_type": "stream",
     "text": [
      "Skip\n",
      "Skip\n",
      "Skip\n",
      "Skip\n",
      "Skip\n",
      "Skip\n",
      "Skip\n",
      "Skip\n",
      "Skip\n",
      "Skip\n",
      "Skip\n",
      "Skip\n",
      "Skip\n",
      "Skip\n",
      "Skip\n",
      "Skip\n",
      "Skip\n",
      "Skip\n",
      "Skip\n",
      "Skip\n",
      "Skip\n",
      "Skip\n",
      "Skip\n",
      "Skip\n",
      "Skip\n",
      "Skip\n",
      "Skip\n",
      "Skip\n",
      "Skip\n",
      "Skip\n",
      "Skip\n",
      "Skip\n",
      "Skip\n",
      "Skip\n",
      "Skip\n",
      "Skip\n",
      "Skip\n",
      "Skip\n",
      "Skip\n",
      "Skip\n",
      "Skip\n",
      "Skip\n",
      "Skip\n",
      "Skip\n",
      "Skip\n",
      "Skip\n",
      "Skip\n",
      "Skip\n",
      "Skip\n",
      "Skip\n",
      "Skip\n",
      "Skip\n",
      "Skip\n",
      "Skip\n",
      "Skip\n",
      "Skip\n",
      "Skip\n",
      "Skip\n",
      "Skip\n",
      "Skip\n",
      "Skip\n",
      "Skip\n",
      "Skip\n",
      "Skip\n",
      "Skip\n",
      "Skip\n",
      "Skip\n",
      "Skip\n",
      "Skip\n",
      "Skip\n",
      "Skip\n",
      "Skip\n",
      "Skip\n",
      "Skip\n",
      "Skip\n",
      "Skip\n",
      "Skip\n",
      "Skip\n",
      "Skip\n",
      "Skip\n",
      "Skip\n",
      "Skip\n",
      "Skip\n",
      "Skip\n",
      "Skip\n",
      "Skip\n",
      "Skip\n",
      "Skip\n",
      "Skip\n",
      "Skip\n",
      "Skip\n",
      "Skip\n",
      "Skip\n",
      "Skip\n",
      "Skip\n",
      "Skip\n",
      "Skip\n",
      "Skip\n",
      "Skip\n",
      "Skip\n",
      "Skip\n",
      "Skip\n",
      "Skip\n",
      "Skip\n",
      "Skip\n",
      "Skip\n",
      "Skip\n",
      "Skip\n",
      "Skip\n",
      "Skip\n",
      "Skip\n",
      "Skip\n",
      "Skip\n",
      "Skip\n",
      "Skip\n",
      "Skip\n",
      "Skip\n",
      "Skip\n",
      "Skip\n",
      "Skip\n",
      "Skip\n",
      "Skip\n",
      "Skip\n",
      "Skip\n",
      "Skip\n",
      "Skip\n",
      "Skip\n",
      "Skip\n",
      "Skip\n",
      "Skip\n",
      "Skip\n",
      "Skip\n",
      "Skip\n",
      "Skip\n",
      "Skip\n",
      "Skip\n",
      "Skip\n",
      "Skip\n",
      "Skip\n",
      "Skip\n",
      "Skip\n",
      "Skip\n",
      "Skip\n",
      "Skip\n",
      "Skip\n",
      "Skip\n",
      "Skip\n",
      "Skip\n",
      "Skip\n",
      "Skip\n",
      "Skip\n",
      "Skip\n",
      "Skip\n",
      "Skip\n",
      "Skip\n",
      "Skip\n",
      "Skip\n",
      "Skip\n"
     ]
    },
    {
     "name": "stderr",
     "output_type": "stream",
     "text": [
      "\n",
      "  0%|          | 0/228 [00:00<?, ?it/s]"
     ]
    },
    {
     "name": "stdout",
     "output_type": "stream",
     "text": [
      "(66, 76, 81)\n",
      "(66, 76, 81)\n"
     ]
    },
    {
     "name": "stderr",
     "output_type": "stream",
     "text": [
      "100%|██████████| 66/66 [00:00<00:00, 558.47it/s]\n"
     ]
    },
    {
     "name": "stdout",
     "output_type": "stream",
     "text": [
      "(66, 76, 81)\n",
      "(66, 76, 81)\n"
     ]
    },
    {
     "name": "stderr",
     "output_type": "stream",
     "text": [
      "100%|██████████| 66/66 [00:00<00:00, 467.50it/s]\n",
      "  0%|          | 1/228 [00:00<01:24,  2.70it/s]"
     ]
    },
    {
     "name": "stdout",
     "output_type": "stream",
     "text": [
      "(71, 58, 29)\n",
      "(71, 58, 29)\n"
     ]
    },
    {
     "name": "stderr",
     "output_type": "stream",
     "text": [
      "100%|██████████| 71/71 [00:00<00:00, 595.15it/s]\n"
     ]
    },
    {
     "name": "stdout",
     "output_type": "stream",
     "text": [
      "(71, 58, 29)\n",
      "(71, 58, 29)\n"
     ]
    },
    {
     "name": "stderr",
     "output_type": "stream",
     "text": [
      "100%|██████████| 71/71 [00:00<00:00, 473.11it/s]\n",
      "  1%|          | 2/228 [00:00<01:22,  2.73it/s]"
     ]
    },
    {
     "name": "stdout",
     "output_type": "stream",
     "text": [
      "(62, 63, 90)\n",
      "(62, 63, 90)\n"
     ]
    },
    {
     "name": "stderr",
     "output_type": "stream",
     "text": [
      "100%|██████████| 62/62 [00:00<00:00, 761.62it/s]\n"
     ]
    },
    {
     "name": "stdout",
     "output_type": "stream",
     "text": [
      "(62, 63, 90)\n",
      "(62, 63, 90)\n"
     ]
    },
    {
     "name": "stderr",
     "output_type": "stream",
     "text": [
      "100%|██████████| 62/62 [00:00<00:00, 658.23it/s]\n",
      "  1%|▏         | 3/228 [00:00<01:09,  3.26it/s]"
     ]
    },
    {
     "name": "stdout",
     "output_type": "stream",
     "text": [
      "(69, 107, 65)\n",
      "(69, 107, 65)\n"
     ]
    },
    {
     "name": "stderr",
     "output_type": "stream",
     "text": [
      "100%|██████████| 69/69 [00:00<00:00, 715.65it/s]\n"
     ]
    },
    {
     "name": "stdout",
     "output_type": "stream",
     "text": [
      "(69, 107, 65)\n",
      "(69, 107, 65)\n"
     ]
    },
    {
     "name": "stderr",
     "output_type": "stream",
     "text": [
      "100%|██████████| 69/69 [00:00<00:00, 719.42it/s]\n",
      "  2%|▏         | 4/228 [00:01<01:06,  3.38it/s]"
     ]
    },
    {
     "name": "stdout",
     "output_type": "stream",
     "text": [
      "(71, 70, 43)\n",
      "(71, 70, 43)\n"
     ]
    },
    {
     "name": "stderr",
     "output_type": "stream",
     "text": [
      "100%|██████████| 71/71 [00:00<00:00, 920.72it/s]\n"
     ]
    },
    {
     "name": "stdout",
     "output_type": "stream",
     "text": [
      "(71, 70, 43)\n",
      "(71, 70, 43)\n"
     ]
    },
    {
     "name": "stderr",
     "output_type": "stream",
     "text": [
      "100%|██████████| 71/71 [00:00<00:00, 885.27it/s]\n",
      "  2%|▏         | 5/228 [00:01<00:58,  3.84it/s]"
     ]
    },
    {
     "name": "stdout",
     "output_type": "stream",
     "text": [
      "Skip\n",
      "(62, 95, 61)\n",
      "(62, 95, 61)\n"
     ]
    },
    {
     "name": "stderr",
     "output_type": "stream",
     "text": [
      "100%|██████████| 62/62 [00:00<00:00, 759.58it/s]\n"
     ]
    },
    {
     "name": "stdout",
     "output_type": "stream",
     "text": [
      "(62, 95, 61)\n",
      "(62, 95, 61)\n"
     ]
    },
    {
     "name": "stderr",
     "output_type": "stream",
     "text": [
      "100%|██████████| 62/62 [00:00<00:00, 771.19it/s]\n",
      "  3%|▎         | 7/228 [00:01<00:40,  5.44it/s]"
     ]
    },
    {
     "name": "stdout",
     "output_type": "stream",
     "text": [
      "(66, 88, 70)\n",
      "(66, 88, 70)\n"
     ]
    },
    {
     "name": "stderr",
     "output_type": "stream",
     "text": [
      "100%|██████████| 66/66 [00:00<00:00, 829.73it/s]\n"
     ]
    },
    {
     "name": "stdout",
     "output_type": "stream",
     "text": [
      "(66, 88, 70)\n",
      "(66, 88, 70)\n"
     ]
    },
    {
     "name": "stderr",
     "output_type": "stream",
     "text": [
      "100%|██████████| 66/66 [00:00<00:00, 723.68it/s]\n",
      "  4%|▎         | 8/228 [00:01<00:43,  5.07it/s]"
     ]
    },
    {
     "name": "stdout",
     "output_type": "stream",
     "text": [
      "(73, 71, 80)\n",
      "(73, 71, 80)\n"
     ]
    },
    {
     "name": "stderr",
     "output_type": "stream",
     "text": [
      "100%|██████████| 73/73 [00:00<00:00, 391.57it/s]\n"
     ]
    },
    {
     "name": "stdout",
     "output_type": "stream",
     "text": [
      "(73, 71, 80)\n",
      "(73, 71, 80)\n"
     ]
    },
    {
     "name": "stderr",
     "output_type": "stream",
     "text": [
      "100%|██████████| 73/73 [00:00<00:00, 778.24it/s]\n",
      "  4%|▍         | 9/228 [00:02<00:52,  4.20it/s]"
     ]
    },
    {
     "name": "stdout",
     "output_type": "stream",
     "text": [
      "(65, 77, 68)\n",
      "(65, 77, 68)\n"
     ]
    },
    {
     "name": "stderr",
     "output_type": "stream",
     "text": [
      "100%|██████████| 65/65 [00:00<00:00, 813.09it/s]\n"
     ]
    },
    {
     "name": "stdout",
     "output_type": "stream",
     "text": [
      "(65, 77, 68)\n",
      "(65, 77, 68)\n"
     ]
    },
    {
     "name": "stderr",
     "output_type": "stream",
     "text": [
      "100%|██████████| 65/65 [00:00<00:00, 736.69it/s]\n",
      "  4%|▍         | 10/228 [00:02<00:50,  4.31it/s]"
     ]
    },
    {
     "name": "stdout",
     "output_type": "stream",
     "text": [
      "(65, 56, 27)\n",
      "(65, 56, 27)\n"
     ]
    },
    {
     "name": "stderr",
     "output_type": "stream",
     "text": [
      "100%|██████████| 65/65 [00:00<00:00, 918.27it/s]\n"
     ]
    },
    {
     "name": "stdout",
     "output_type": "stream",
     "text": [
      "(65, 56, 27)\n",
      "(65, 56, 27)\n"
     ]
    },
    {
     "name": "stderr",
     "output_type": "stream",
     "text": [
      "100%|██████████| 65/65 [00:00<00:00, 800.09it/s]\n",
      "  5%|▍         | 11/228 [00:02<00:46,  4.65it/s]"
     ]
    },
    {
     "name": "stdout",
     "output_type": "stream",
     "text": [
      "(63, 85, 80)\n",
      "(63, 85, 80)\n"
     ]
    },
    {
     "name": "stderr",
     "output_type": "stream",
     "text": [
      "100%|██████████| 63/63 [00:00<00:00, 750.38it/s]\n"
     ]
    },
    {
     "name": "stdout",
     "output_type": "stream",
     "text": [
      "(63, 85, 80)\n",
      "(63, 85, 80)\n"
     ]
    },
    {
     "name": "stderr",
     "output_type": "stream",
     "text": [
      "100%|██████████| 63/63 [00:00<00:00, 688.90it/s]\n",
      "  5%|▌         | 12/228 [00:02<00:48,  4.49it/s]"
     ]
    },
    {
     "name": "stdout",
     "output_type": "stream",
     "text": [
      "(74, 78, 65)\n",
      "(74, 78, 65)\n"
     ]
    },
    {
     "name": "stderr",
     "output_type": "stream",
     "text": [
      "100%|██████████| 74/74 [00:00<00:00, 484.88it/s]\n"
     ]
    },
    {
     "name": "stdout",
     "output_type": "stream",
     "text": [
      "(74, 78, 65)\n",
      "(74, 78, 65)\n"
     ]
    },
    {
     "name": "stderr",
     "output_type": "stream",
     "text": [
      "100%|██████████| 74/74 [00:00<00:00, 701.55it/s]\n",
      "  6%|▌         | 13/228 [00:03<00:54,  3.92it/s]"
     ]
    },
    {
     "name": "stdout",
     "output_type": "stream",
     "text": [
      "(83, 75, 79)\n",
      "(83, 75, 79)\n"
     ]
    },
    {
     "name": "stderr",
     "output_type": "stream",
     "text": [
      "100%|██████████| 83/83 [00:00<00:00, 702.25it/s]\n"
     ]
    },
    {
     "name": "stdout",
     "output_type": "stream",
     "text": [
      "(83, 75, 79)\n",
      "(83, 75, 79)\n"
     ]
    },
    {
     "name": "stderr",
     "output_type": "stream",
     "text": [
      "100%|██████████| 83/83 [00:00<00:00, 848.63it/s]\n",
      "  6%|▌         | 14/228 [00:03<00:56,  3.78it/s]"
     ]
    },
    {
     "name": "stdout",
     "output_type": "stream",
     "text": [
      "(82, 65, 58)\n",
      "(82, 65, 58)\n"
     ]
    },
    {
     "name": "stderr",
     "output_type": "stream",
     "text": [
      "100%|██████████| 82/82 [00:00<00:00, 833.29it/s]\n"
     ]
    },
    {
     "name": "stdout",
     "output_type": "stream",
     "text": [
      "(82, 65, 58)\n",
      "(82, 65, 58)\n"
     ]
    },
    {
     "name": "stderr",
     "output_type": "stream",
     "text": [
      "100%|██████████| 82/82 [00:00<00:00, 750.00it/s]\n",
      "  7%|▋         | 15/228 [00:03<00:55,  3.81it/s]"
     ]
    },
    {
     "name": "stdout",
     "output_type": "stream",
     "text": [
      "(78, 85, 58)\n",
      "(78, 85, 58)\n"
     ]
    },
    {
     "name": "stderr",
     "output_type": "stream",
     "text": [
      "100%|██████████| 78/78 [00:00<00:00, 794.86it/s]\n"
     ]
    },
    {
     "name": "stdout",
     "output_type": "stream",
     "text": [
      "(78, 85, 58)\n",
      "(78, 85, 58)\n"
     ]
    },
    {
     "name": "stderr",
     "output_type": "stream",
     "text": [
      "100%|██████████| 78/78 [00:00<00:00, 713.98it/s]\n",
      "  7%|▋         | 16/228 [00:04<00:56,  3.78it/s]"
     ]
    },
    {
     "name": "stdout",
     "output_type": "stream",
     "text": [
      "(81, 82, 89)\n",
      "(81, 82, 89)\n"
     ]
    },
    {
     "name": "stderr",
     "output_type": "stream",
     "text": [
      "100%|██████████| 81/81 [00:00<00:00, 894.14it/s]\n"
     ]
    },
    {
     "name": "stdout",
     "output_type": "stream",
     "text": [
      "(81, 82, 89)\n",
      "(81, 82, 89)\n"
     ]
    },
    {
     "name": "stderr",
     "output_type": "stream",
     "text": [
      "100%|██████████| 81/81 [00:00<00:00, 548.57it/s]\n",
      "  7%|▋         | 17/228 [00:04<00:59,  3.52it/s]"
     ]
    },
    {
     "name": "stdout",
     "output_type": "stream",
     "text": [
      "(65, 89, 83)\n",
      "(65, 89, 83)\n"
     ]
    },
    {
     "name": "stderr",
     "output_type": "stream",
     "text": [
      "100%|██████████| 65/65 [00:00<00:00, 614.05it/s]\n"
     ]
    },
    {
     "name": "stdout",
     "output_type": "stream",
     "text": [
      "(65, 89, 83)\n",
      "(65, 89, 83)\n"
     ]
    },
    {
     "name": "stderr",
     "output_type": "stream",
     "text": [
      "100%|██████████| 65/65 [00:00<00:00, 851.41it/s]\n",
      "  8%|▊         | 18/228 [00:04<00:58,  3.57it/s]"
     ]
    },
    {
     "name": "stdout",
     "output_type": "stream",
     "text": [
      "(74, 80, 87)\n",
      "(74, 80, 87)\n"
     ]
    },
    {
     "name": "stderr",
     "output_type": "stream",
     "text": [
      "100%|██████████| 74/74 [00:00<00:00, 847.08it/s]\n"
     ]
    },
    {
     "name": "stdout",
     "output_type": "stream",
     "text": [
      "(74, 80, 87)\n",
      "(74, 80, 87)\n"
     ]
    },
    {
     "name": "stderr",
     "output_type": "stream",
     "text": [
      "100%|██████████| 74/74 [00:00<00:00, 703.68it/s]\n",
      "  8%|▊         | 19/228 [00:04<00:57,  3.64it/s]"
     ]
    },
    {
     "name": "stdout",
     "output_type": "stream",
     "text": [
      "(67, 63, 62)\n",
      "(67, 63, 62)\n"
     ]
    },
    {
     "name": "stderr",
     "output_type": "stream",
     "text": [
      "100%|██████████| 67/67 [00:00<00:00, 951.17it/s]\n"
     ]
    },
    {
     "name": "stdout",
     "output_type": "stream",
     "text": [
      "(67, 63, 62)\n",
      "(67, 63, 62)\n"
     ]
    },
    {
     "name": "stderr",
     "output_type": "stream",
     "text": [
      "100%|██████████| 67/67 [00:00<00:00, 682.04it/s]\n",
      "  9%|▉         | 20/228 [00:05<00:53,  3.91it/s]"
     ]
    },
    {
     "name": "stdout",
     "output_type": "stream",
     "text": [
      "(80, 78, 86)\n",
      "(80, 78, 86)\n"
     ]
    },
    {
     "name": "stderr",
     "output_type": "stream",
     "text": [
      "100%|██████████| 80/80 [00:00<00:00, 920.62it/s]\n"
     ]
    },
    {
     "name": "stdout",
     "output_type": "stream",
     "text": [
      "(80, 78, 86)\n",
      "(80, 78, 86)\n"
     ]
    },
    {
     "name": "stderr",
     "output_type": "stream",
     "text": [
      "100%|██████████| 80/80 [00:00<00:00, 882.19it/s]\n",
      "  9%|▉         | 21/228 [00:05<00:52,  3.97it/s]"
     ]
    },
    {
     "name": "stdout",
     "output_type": "stream",
     "text": [
      "(83, 98, 93)\n",
      "(83, 98, 93)\n"
     ]
    },
    {
     "name": "stderr",
     "output_type": "stream",
     "text": [
      "100%|██████████| 83/83 [00:00<00:00, 933.62it/s]\n"
     ]
    },
    {
     "name": "stdout",
     "output_type": "stream",
     "text": [
      "(83, 98, 93)\n",
      "(83, 98, 93)\n"
     ]
    },
    {
     "name": "stderr",
     "output_type": "stream",
     "text": [
      "100%|██████████| 83/83 [00:00<00:00, 910.33it/s]\n",
      " 10%|▉         | 22/228 [00:05<00:53,  3.86it/s]"
     ]
    },
    {
     "name": "stdout",
     "output_type": "stream",
     "text": [
      "(83, 126, 102)\n",
      "(83, 126, 102)\n"
     ]
    },
    {
     "name": "stderr",
     "output_type": "stream",
     "text": [
      "100%|██████████| 83/83 [00:00<00:00, 910.22it/s]\n"
     ]
    },
    {
     "name": "stdout",
     "output_type": "stream",
     "text": [
      "(83, 126, 102)\n",
      "(83, 126, 102)\n"
     ]
    },
    {
     "name": "stderr",
     "output_type": "stream",
     "text": [
      "100%|██████████| 83/83 [00:00<00:00, 949.46it/s]\n",
      " 10%|█         | 23/228 [00:05<00:56,  3.64it/s]"
     ]
    },
    {
     "name": "stdout",
     "output_type": "stream",
     "text": [
      "(64, 51, 26)\n",
      "(64, 51, 26)\n"
     ]
    },
    {
     "name": "stderr",
     "output_type": "stream",
     "text": [
      "100%|██████████| 64/64 [00:00<00:00, 1123.32it/s]\n"
     ]
    },
    {
     "name": "stdout",
     "output_type": "stream",
     "text": [
      "(64, 51, 26)\n",
      "(64, 51, 26)\n"
     ]
    },
    {
     "name": "stderr",
     "output_type": "stream",
     "text": [
      "100%|██████████| 64/64 [00:00<00:00, 616.49it/s]\n",
      " 11%|█         | 24/228 [00:06<00:50,  4.07it/s]"
     ]
    },
    {
     "name": "stdout",
     "output_type": "stream",
     "text": [
      "(79, 77, 68)\n",
      "(79, 77, 68)\n"
     ]
    },
    {
     "name": "stderr",
     "output_type": "stream",
     "text": [
      "100%|██████████| 79/79 [00:00<00:00, 1051.93it/s]\n"
     ]
    },
    {
     "name": "stdout",
     "output_type": "stream",
     "text": [
      "(79, 77, 68)\n",
      "(79, 77, 68)\n"
     ]
    },
    {
     "name": "stderr",
     "output_type": "stream",
     "text": [
      "100%|██████████| 79/79 [00:00<00:00, 968.84it/s]\n",
      " 11%|█         | 25/228 [00:06<00:47,  4.25it/s]"
     ]
    },
    {
     "name": "stdout",
     "output_type": "stream",
     "text": [
      "(77, 77, 61)\n",
      "(77, 77, 61)\n"
     ]
    },
    {
     "name": "stderr",
     "output_type": "stream",
     "text": [
      "100%|██████████| 77/77 [00:00<00:00, 1068.51it/s]\n"
     ]
    },
    {
     "name": "stdout",
     "output_type": "stream",
     "text": [
      "(77, 77, 61)\n",
      "(77, 77, 61)\n"
     ]
    },
    {
     "name": "stderr",
     "output_type": "stream",
     "text": [
      "100%|██████████| 77/77 [00:00<00:00, 905.85it/s]\n",
      " 11%|█▏        | 26/228 [00:06<00:45,  4.43it/s]"
     ]
    },
    {
     "name": "stdout",
     "output_type": "stream",
     "text": [
      "(76, 86, 63)\n",
      "(76, 86, 63)\n"
     ]
    },
    {
     "name": "stderr",
     "output_type": "stream",
     "text": [
      "100%|██████████| 76/76 [00:00<00:00, 893.71it/s]\n"
     ]
    },
    {
     "name": "stdout",
     "output_type": "stream",
     "text": [
      "(76, 86, 63)\n",
      "(76, 86, 63)\n"
     ]
    },
    {
     "name": "stderr",
     "output_type": "stream",
     "text": [
      "100%|██████████| 76/76 [00:00<00:00, 952.97it/s]\n",
      " 12%|█▏        | 27/228 [00:06<00:45,  4.47it/s]"
     ]
    },
    {
     "name": "stdout",
     "output_type": "stream",
     "text": [
      "Skip\n",
      "Skip\n",
      "Skip\n",
      "Skip\n",
      "Skip\n",
      "Skip\n",
      "Skip\n",
      "Skip\n",
      "Skip\n",
      "Skip\n",
      "Skip\n",
      "Skip\n",
      "Skip\n",
      "Skip\n",
      "Skip\n",
      "Skip\n",
      "Skip\n",
      "Skip\n",
      "Skip\n",
      "Skip\n",
      "Skip\n",
      "Skip\n",
      "Skip\n",
      "Skip\n",
      "Skip\n",
      "Skip\n",
      "Skip\n",
      "Skip\n",
      "Skip\n",
      "Skip\n",
      "Skip\n",
      "Skip\n",
      "Skip\n",
      "Skip\n",
      "Skip\n",
      "Skip\n",
      "Skip\n",
      "Skip\n",
      "Skip\n",
      "Skip\n",
      "Skip\n",
      "Skip\n",
      "Skip\n",
      "Skip\n",
      "Skip\n",
      "Skip\n",
      "Skip\n",
      "Skip\n",
      "Skip\n",
      "Skip\n",
      "Skip\n",
      "Skip\n",
      "Skip\n",
      "Skip\n",
      "Skip\n",
      "Skip\n",
      "Skip\n",
      "Skip\n",
      "Skip\n",
      "Skip\n",
      "Skip\n",
      "Skip\n",
      "Skip\n",
      "Skip\n",
      "Skip\n",
      "Skip\n",
      "Skip\n",
      "Skip\n",
      "Skip\n",
      "Skip\n",
      "(73, 73, 66)\n",
      "(73, 73, 66)\n"
     ]
    },
    {
     "name": "stderr",
     "output_type": "stream",
     "text": [
      "100%|██████████| 73/73 [00:00<00:00, 439.05it/s]\n"
     ]
    },
    {
     "name": "stdout",
     "output_type": "stream",
     "text": [
      "(73, 73, 66)\n",
      "(73, 73, 66)\n"
     ]
    },
    {
     "name": "stderr",
     "output_type": "stream",
     "text": [
      "100%|██████████| 73/73 [00:00<00:00, 514.48it/s]\n",
      " 43%|████▎     | 98/228 [00:07<00:01, 81.90it/s]"
     ]
    },
    {
     "name": "stdout",
     "output_type": "stream",
     "text": [
      "Skip\n",
      "Skip\n",
      "Skip\n",
      "Skip\n",
      "Skip\n",
      "Skip\n",
      "Skip\n",
      "Skip\n",
      "Skip\n",
      "Skip\n",
      "Skip\n",
      "Skip\n",
      "Skip\n",
      "Skip\n",
      "Skip\n",
      "Skip\n",
      "Skip\n",
      "Skip\n",
      "Skip\n",
      "Skip\n",
      "Skip\n",
      "Skip\n",
      "Skip\n",
      "Skip\n",
      "Skip\n",
      "Skip\n",
      "Skip\n",
      "Skip\n",
      "Skip\n",
      "Skip\n",
      "Skip\n",
      "Skip\n",
      "(68, 81, 103)\n",
      "(68, 81, 103)\n"
     ]
    },
    {
     "name": "stderr",
     "output_type": "stream",
     "text": [
      "100%|██████████| 68/68 [00:00<00:00, 558.80it/s]\n"
     ]
    },
    {
     "name": "stdout",
     "output_type": "stream",
     "text": [
      "(68, 81, 103)\n",
      "(68, 81, 103)\n"
     ]
    },
    {
     "name": "stderr",
     "output_type": "stream",
     "text": [
      "100%|██████████| 68/68 [00:00<00:00, 611.51it/s]\n",
      " 57%|█████▋    | 131/228 [00:07<00:01, 84.50it/s]"
     ]
    },
    {
     "name": "stdout",
     "output_type": "stream",
     "text": [
      "Skip\n",
      "Skip\n",
      "(65, 97, 83)\n",
      "(65, 97, 83)\n"
     ]
    },
    {
     "name": "stderr",
     "output_type": "stream",
     "text": [
      "100%|██████████| 65/65 [00:00<00:00, 881.86it/s]\n"
     ]
    },
    {
     "name": "stdout",
     "output_type": "stream",
     "text": [
      "(65, 97, 83)\n",
      "(65, 97, 83)\n"
     ]
    },
    {
     "name": "stderr",
     "output_type": "stream",
     "text": [
      "100%|██████████| 65/65 [00:00<00:00, 474.41it/s]\n",
      "100%|██████████| 228/228 [00:07<00:00, 29.32it/s]\n"
     ]
    },
    {
     "name": "stdout",
     "output_type": "stream",
     "text": [
      "Skip\n",
      "Skip\n",
      "Skip\n",
      "Skip\n",
      "Skip\n",
      "Skip\n",
      "Skip\n",
      "Skip\n",
      "Skip\n",
      "Skip\n",
      "Skip\n",
      "Skip\n",
      "Skip\n",
      "Skip\n",
      "Skip\n",
      "Skip\n",
      "Skip\n",
      "Skip\n",
      "Skip\n",
      "Skip\n",
      "Skip\n",
      "Skip\n",
      "Skip\n",
      "Skip\n",
      "Skip\n",
      "Skip\n",
      "Skip\n",
      "Skip\n",
      "Skip\n",
      "Skip\n",
      "Skip\n",
      "Skip\n",
      "Skip\n",
      "Skip\n",
      "Skip\n",
      "Skip\n",
      "Skip\n",
      "Skip\n",
      "Skip\n",
      "Skip\n",
      "Skip\n",
      "Skip\n",
      "Skip\n",
      "Skip\n",
      "Skip\n",
      "Skip\n",
      "Skip\n",
      "Skip\n",
      "Skip\n",
      "Skip\n",
      "Skip\n",
      "Skip\n",
      "Skip\n",
      "Skip\n",
      "Skip\n",
      "Skip\n",
      "Skip\n",
      "Skip\n",
      "Skip\n",
      "Skip\n",
      "Skip\n",
      "Skip\n",
      "Skip\n",
      "Skip\n",
      "Skip\n",
      "Skip\n",
      "Skip\n",
      "Skip\n",
      "Skip\n",
      "Skip\n",
      "Skip\n",
      "Skip\n",
      "Skip\n",
      "Skip\n",
      "Skip\n",
      "Skip\n",
      "Skip\n",
      "Skip\n",
      "Skip\n",
      "Skip\n",
      "Skip\n",
      "Skip\n",
      "Skip\n",
      "Skip\n",
      "Skip\n",
      "Skip\n",
      "Skip\n",
      "Skip\n",
      "Skip\n",
      "Skip\n",
      "Skip\n",
      "Skip\n",
      "Skip\n",
      "Skip\n"
     ]
    },
    {
     "name": "stderr",
     "output_type": "stream",
     "text": [
      "  0%|          | 0/410 [00:00<?, ?it/s]"
     ]
    },
    {
     "name": "stdout",
     "output_type": "stream",
     "text": [
      "(63, 112, 93)\n",
      "(63, 112, 93)\n"
     ]
    },
    {
     "name": "stderr",
     "output_type": "stream",
     "text": [
      "100%|██████████| 63/63 [00:00<00:00, 716.45it/s]\n"
     ]
    },
    {
     "name": "stdout",
     "output_type": "stream",
     "text": [
      "(63, 112, 93)\n",
      "(63, 112, 93)\n"
     ]
    },
    {
     "name": "stderr",
     "output_type": "stream",
     "text": [
      "100%|██████████| 63/63 [00:00<00:00, 541.52it/s]\n",
      "  0%|          | 1/410 [00:00<02:23,  2.86it/s]"
     ]
    },
    {
     "name": "stdout",
     "output_type": "stream",
     "text": [
      "(61, 112, 80)\n",
      "(61, 112, 80)\n"
     ]
    },
    {
     "name": "stderr",
     "output_type": "stream",
     "text": [
      "100%|██████████| 61/61 [00:00<00:00, 664.66it/s]\n"
     ]
    },
    {
     "name": "stdout",
     "output_type": "stream",
     "text": [
      "(61, 112, 80)\n",
      "(61, 112, 80)\n"
     ]
    },
    {
     "name": "stderr",
     "output_type": "stream",
     "text": [
      "100%|██████████| 61/61 [00:00<00:00, 612.09it/s]\n",
      "  0%|          | 2/410 [00:00<02:06,  3.23it/s]"
     ]
    },
    {
     "name": "stdout",
     "output_type": "stream",
     "text": [
      "(64, 91, 71)\n",
      "(64, 91, 71)\n"
     ]
    },
    {
     "name": "stderr",
     "output_type": "stream",
     "text": [
      "100%|██████████| 64/64 [00:00<00:00, 664.13it/s]\n"
     ]
    },
    {
     "name": "stdout",
     "output_type": "stream",
     "text": [
      "(64, 91, 71)\n",
      "(64, 91, 71)\n"
     ]
    },
    {
     "name": "stderr",
     "output_type": "stream",
     "text": [
      "100%|██████████| 64/64 [00:00<00:00, 464.60it/s]\n",
      "  1%|          | 3/410 [00:01<02:17,  2.96it/s]"
     ]
    },
    {
     "name": "stdout",
     "output_type": "stream",
     "text": [
      "(70, 101, 103)\n",
      "(70, 101, 103)\n"
     ]
    },
    {
     "name": "stderr",
     "output_type": "stream",
     "text": [
      "100%|██████████| 70/70 [00:00<00:00, 535.34it/s]\n"
     ]
    },
    {
     "name": "stdout",
     "output_type": "stream",
     "text": [
      "(70, 101, 103)\n",
      "(70, 101, 103)\n"
     ]
    },
    {
     "name": "stderr",
     "output_type": "stream",
     "text": [
      "100%|██████████| 70/70 [00:00<00:00, 391.05it/s]\n",
      "  1%|          | 4/410 [00:01<02:49,  2.39it/s]"
     ]
    },
    {
     "name": "stdout",
     "output_type": "stream",
     "text": [
      "(61, 95, 67)\n",
      "(61, 95, 67)\n"
     ]
    },
    {
     "name": "stderr",
     "output_type": "stream",
     "text": [
      "100%|██████████| 61/61 [00:00<00:00, 648.07it/s]\n"
     ]
    },
    {
     "name": "stdout",
     "output_type": "stream",
     "text": [
      "(61, 95, 67)\n",
      "(61, 95, 67)\n"
     ]
    },
    {
     "name": "stderr",
     "output_type": "stream",
     "text": [
      "100%|██████████| 61/61 [00:00<00:00, 721.82it/s]\n",
      "  1%|          | 5/410 [00:01<02:23,  2.82it/s]"
     ]
    },
    {
     "name": "stdout",
     "output_type": "stream",
     "text": [
      "(71, 80, 74)\n",
      "(71, 80, 74)\n"
     ]
    },
    {
     "name": "stderr",
     "output_type": "stream",
     "text": [
      "100%|██████████| 71/71 [00:00<00:00, 764.65it/s]\n"
     ]
    },
    {
     "name": "stdout",
     "output_type": "stream",
     "text": [
      "(71, 80, 74)\n",
      "(71, 80, 74)\n"
     ]
    },
    {
     "name": "stderr",
     "output_type": "stream",
     "text": [
      "100%|██████████| 71/71 [00:00<00:00, 260.23it/s]\n",
      "  1%|▏         | 6/410 [00:02<02:43,  2.47it/s]"
     ]
    },
    {
     "name": "stdout",
     "output_type": "stream",
     "text": [
      "(61, 65, 92)\n",
      "(61, 65, 92)\n"
     ]
    },
    {
     "name": "stderr",
     "output_type": "stream",
     "text": [
      "100%|██████████| 61/61 [00:00<00:00, 475.15it/s]\n"
     ]
    },
    {
     "name": "stdout",
     "output_type": "stream",
     "text": [
      "(61, 65, 92)\n",
      "(61, 65, 92)\n"
     ]
    },
    {
     "name": "stderr",
     "output_type": "stream",
     "text": [
      "100%|██████████| 61/61 [00:00<00:00, 498.50it/s]\n",
      "  2%|▏         | 7/410 [00:02<02:34,  2.61it/s]"
     ]
    },
    {
     "name": "stdout",
     "output_type": "stream",
     "text": [
      "(61, 86, 33)\n",
      "(61, 86, 33)\n"
     ]
    },
    {
     "name": "stderr",
     "output_type": "stream",
     "text": [
      "100%|██████████| 61/61 [00:00<00:00, 651.53it/s]\n"
     ]
    },
    {
     "name": "stdout",
     "output_type": "stream",
     "text": [
      "(61, 86, 33)\n",
      "(61, 86, 33)\n"
     ]
    },
    {
     "name": "stderr",
     "output_type": "stream",
     "text": [
      "100%|██████████| 61/61 [00:00<00:00, 571.67it/s]\n",
      "  2%|▏         | 8/410 [00:02<02:15,  2.97it/s]"
     ]
    },
    {
     "name": "stdout",
     "output_type": "stream",
     "text": [
      "(63, 101, 67)\n",
      "(63, 101, 67)\n"
     ]
    },
    {
     "name": "stderr",
     "output_type": "stream",
     "text": [
      "100%|██████████| 63/63 [00:00<00:00, 437.59it/s]\n"
     ]
    },
    {
     "name": "stdout",
     "output_type": "stream",
     "text": [
      "(63, 101, 67)\n",
      "(63, 101, 67)\n"
     ]
    },
    {
     "name": "stderr",
     "output_type": "stream",
     "text": [
      "100%|██████████| 63/63 [00:00<00:00, 544.06it/s]\n",
      "  2%|▏         | 9/410 [00:03<02:16,  2.94it/s]"
     ]
    },
    {
     "name": "stdout",
     "output_type": "stream",
     "text": [
      "(58, 84, 72)\n",
      "(58, 84, 72)\n"
     ]
    },
    {
     "name": "stderr",
     "output_type": "stream",
     "text": [
      "100%|██████████| 58/58 [00:00<00:00, 675.64it/s]\n"
     ]
    },
    {
     "name": "stdout",
     "output_type": "stream",
     "text": [
      "(58, 84, 72)\n",
      "(58, 84, 72)\n"
     ]
    },
    {
     "name": "stderr",
     "output_type": "stream",
     "text": [
      "100%|██████████| 58/58 [00:00<00:00, 597.80it/s]\n",
      "  2%|▏         | 10/410 [00:03<02:05,  3.19it/s]"
     ]
    },
    {
     "name": "stdout",
     "output_type": "stream",
     "text": [
      "(57, 88, 75)\n",
      "(57, 88, 75)\n"
     ]
    },
    {
     "name": "stderr",
     "output_type": "stream",
     "text": [
      "100%|██████████| 57/57 [00:00<00:00, 662.95it/s]\n"
     ]
    },
    {
     "name": "stdout",
     "output_type": "stream",
     "text": [
      "(57, 88, 75)\n",
      "(57, 88, 75)\n"
     ]
    },
    {
     "name": "stderr",
     "output_type": "stream",
     "text": [
      "100%|██████████| 57/57 [00:00<00:00, 415.57it/s]\n",
      "  3%|▎         | 11/410 [00:03<02:02,  3.26it/s]"
     ]
    },
    {
     "name": "stdout",
     "output_type": "stream",
     "text": [
      "(56, 79, 78)\n",
      "(56, 79, 78)\n"
     ]
    },
    {
     "name": "stderr",
     "output_type": "stream",
     "text": [
      "100%|██████████| 56/56 [00:00<00:00, 350.22it/s]\n"
     ]
    },
    {
     "name": "stdout",
     "output_type": "stream",
     "text": [
      "(56, 79, 78)\n",
      "(56, 79, 78)\n"
     ]
    },
    {
     "name": "stderr",
     "output_type": "stream",
     "text": [
      "100%|██████████| 56/56 [00:00<00:00, 417.93it/s]\n",
      "  3%|▎         | 12/410 [00:04<02:10,  3.04it/s]"
     ]
    },
    {
     "name": "stdout",
     "output_type": "stream",
     "text": [
      "(69, 82, 75)\n",
      "(69, 82, 75)\n"
     ]
    },
    {
     "name": "stderr",
     "output_type": "stream",
     "text": [
      "100%|██████████| 69/69 [00:00<00:00, 782.18it/s]\n"
     ]
    },
    {
     "name": "stdout",
     "output_type": "stream",
     "text": [
      "(69, 82, 75)\n",
      "(69, 82, 75)\n"
     ]
    },
    {
     "name": "stderr",
     "output_type": "stream",
     "text": [
      "100%|██████████| 69/69 [00:00<00:00, 451.15it/s]\n",
      "  3%|▎         | 13/410 [00:04<02:08,  3.09it/s]"
     ]
    },
    {
     "name": "stdout",
     "output_type": "stream",
     "text": [
      "(69, 89, 96)\n",
      "(69, 89, 96)\n"
     ]
    },
    {
     "name": "stderr",
     "output_type": "stream",
     "text": [
      "100%|██████████| 69/69 [00:00<00:00, 552.15it/s]\n"
     ]
    },
    {
     "name": "stdout",
     "output_type": "stream",
     "text": [
      "(69, 89, 96)\n",
      "(69, 89, 96)\n"
     ]
    },
    {
     "name": "stderr",
     "output_type": "stream",
     "text": [
      "100%|██████████| 69/69 [00:00<00:00, 647.10it/s]\n",
      "  3%|▎         | 14/410 [00:04<02:10,  3.04it/s]"
     ]
    },
    {
     "name": "stdout",
     "output_type": "stream",
     "text": [
      "(58, 99, 64)\n",
      "(58, 99, 64)\n"
     ]
    },
    {
     "name": "stderr",
     "output_type": "stream",
     "text": [
      "100%|██████████| 58/58 [00:00<00:00, 644.89it/s]\n"
     ]
    },
    {
     "name": "stdout",
     "output_type": "stream",
     "text": [
      "(58, 99, 64)\n",
      "(58, 99, 64)\n"
     ]
    },
    {
     "name": "stderr",
     "output_type": "stream",
     "text": [
      "100%|██████████| 58/58 [00:00<00:00, 613.37it/s]\n",
      "  4%|▎         | 15/410 [00:05<02:00,  3.27it/s]"
     ]
    },
    {
     "name": "stdout",
     "output_type": "stream",
     "text": [
      "(83, 88, 81)\n",
      "(83, 88, 81)\n"
     ]
    },
    {
     "name": "stderr",
     "output_type": "stream",
     "text": [
      "100%|██████████| 83/83 [00:00<00:00, 717.30it/s]\n"
     ]
    },
    {
     "name": "stdout",
     "output_type": "stream",
     "text": [
      "(83, 88, 81)\n",
      "(83, 88, 81)\n"
     ]
    },
    {
     "name": "stderr",
     "output_type": "stream",
     "text": [
      "100%|██████████| 83/83 [00:00<00:00, 489.91it/s]\n",
      "  4%|▍         | 16/410 [00:05<02:11,  2.99it/s]"
     ]
    },
    {
     "name": "stdout",
     "output_type": "stream",
     "text": [
      "(57, 96, 109)\n",
      "(57, 96, 109)\n"
     ]
    },
    {
     "name": "stderr",
     "output_type": "stream",
     "text": [
      "100%|██████████| 57/57 [00:00<00:00, 640.65it/s]\n"
     ]
    },
    {
     "name": "stdout",
     "output_type": "stream",
     "text": [
      "(57, 96, 109)\n",
      "(57, 96, 109)\n"
     ]
    },
    {
     "name": "stderr",
     "output_type": "stream",
     "text": [
      "100%|██████████| 57/57 [00:00<00:00, 329.59it/s]\n",
      "  4%|▍         | 17/410 [00:05<02:25,  2.71it/s]"
     ]
    },
    {
     "name": "stdout",
     "output_type": "stream",
     "text": [
      "(60, 85, 85)\n",
      "(60, 85, 85)\n"
     ]
    },
    {
     "name": "stderr",
     "output_type": "stream",
     "text": [
      "100%|██████████| 60/60 [00:00<00:00, 711.31it/s]\n"
     ]
    },
    {
     "name": "stdout",
     "output_type": "stream",
     "text": [
      "(60, 85, 85)\n",
      "(60, 85, 85)\n"
     ]
    },
    {
     "name": "stderr",
     "output_type": "stream",
     "text": [
      "100%|██████████| 60/60 [00:00<00:00, 464.71it/s]\n",
      "  4%|▍         | 18/410 [00:06<02:15,  2.89it/s]"
     ]
    },
    {
     "name": "stdout",
     "output_type": "stream",
     "text": [
      "(61, 90, 55)\n",
      "(61, 90, 55)\n"
     ]
    },
    {
     "name": "stderr",
     "output_type": "stream",
     "text": [
      "100%|██████████| 61/61 [00:00<00:00, 783.42it/s]\n"
     ]
    },
    {
     "name": "stdout",
     "output_type": "stream",
     "text": [
      "(61, 90, 55)\n",
      "(61, 90, 55)\n"
     ]
    },
    {
     "name": "stderr",
     "output_type": "stream",
     "text": [
      "100%|██████████| 61/61 [00:00<00:00, 443.58it/s]\n",
      "  5%|▍         | 19/410 [00:06<02:06,  3.08it/s]"
     ]
    },
    {
     "name": "stdout",
     "output_type": "stream",
     "text": [
      "(84, 99, 76)\n",
      "(84, 99, 76)\n"
     ]
    },
    {
     "name": "stderr",
     "output_type": "stream",
     "text": [
      "100%|██████████| 84/84 [00:00<00:00, 528.69it/s]\n"
     ]
    },
    {
     "name": "stdout",
     "output_type": "stream",
     "text": [
      "(84, 99, 76)\n",
      "(84, 99, 76)\n"
     ]
    },
    {
     "name": "stderr",
     "output_type": "stream",
     "text": [
      "100%|██████████| 84/84 [00:00<00:00, 615.52it/s]\n",
      "  5%|▍         | 20/410 [00:06<02:26,  2.66it/s]"
     ]
    },
    {
     "name": "stdout",
     "output_type": "stream",
     "text": [
      "(83, 129, 100)\n",
      "(83, 129, 100)\n"
     ]
    },
    {
     "name": "stderr",
     "output_type": "stream",
     "text": [
      "100%|██████████| 83/83 [00:00<00:00, 535.73it/s]\n"
     ]
    },
    {
     "name": "stdout",
     "output_type": "stream",
     "text": [
      "(83, 129, 100)\n",
      "(83, 129, 100)\n"
     ]
    },
    {
     "name": "stderr",
     "output_type": "stream",
     "text": [
      "100%|██████████| 83/83 [00:00<00:00, 555.46it/s]\n",
      "  5%|▌         | 21/410 [00:07<02:40,  2.42it/s]"
     ]
    },
    {
     "name": "stdout",
     "output_type": "stream",
     "text": [
      "Skip\n",
      "(58, 86, 88)\n",
      "(58, 86, 88)\n"
     ]
    },
    {
     "name": "stderr",
     "output_type": "stream",
     "text": [
      "100%|██████████| 58/58 [00:00<00:00, 642.08it/s]\n"
     ]
    },
    {
     "name": "stdout",
     "output_type": "stream",
     "text": [
      "(58, 86, 88)\n",
      "(58, 86, 88)\n"
     ]
    },
    {
     "name": "stderr",
     "output_type": "stream",
     "text": [
      "100%|██████████| 58/58 [00:00<00:00, 425.09it/s]\n",
      "  6%|▌         | 23/410 [00:07<01:54,  3.38it/s]"
     ]
    },
    {
     "name": "stdout",
     "output_type": "stream",
     "text": [
      "Skip\n",
      "Skip\n",
      "Skip\n",
      "Skip\n",
      "Skip\n",
      "Skip\n",
      "Skip\n",
      "Skip\n",
      "Skip\n",
      "Skip\n",
      "Skip\n",
      "Skip\n",
      "Skip\n",
      "Skip\n",
      "Skip\n",
      "Skip\n",
      "Skip\n",
      "Skip\n",
      "Skip\n",
      "Skip\n",
      "Skip\n",
      "Skip\n",
      "Skip\n",
      "Skip\n",
      "Skip\n",
      "Skip\n",
      "Skip\n",
      "Skip\n",
      "Skip\n",
      "Skip\n",
      "Skip\n",
      "Skip\n",
      "Skip\n",
      "Skip\n",
      "Skip\n",
      "Skip\n",
      "Skip\n",
      "Skip\n",
      "Skip\n",
      "Skip\n",
      "Skip\n",
      "Skip\n",
      "Skip\n",
      "Skip\n",
      "Skip\n",
      "Skip\n",
      "Skip\n",
      "Skip\n",
      "Skip\n",
      "Skip\n",
      "Skip\n",
      "Skip\n",
      "Skip\n",
      "Skip\n",
      "Skip\n",
      "Skip\n",
      "Skip\n",
      "Skip\n",
      "Skip\n",
      "Skip\n",
      "Skip\n",
      "Skip\n",
      "Skip\n",
      "Skip\n",
      "Skip\n",
      "Skip\n",
      "Skip\n",
      "Skip\n",
      "Skip\n",
      "Skip\n",
      "Skip\n",
      "Skip\n",
      "Skip\n",
      "Skip\n",
      "Skip\n",
      "Skip\n",
      "Skip\n",
      "Skip\n",
      "Skip\n",
      "Skip\n",
      "Skip\n",
      "Skip\n",
      "Skip\n",
      "Skip\n",
      "Skip\n",
      "Skip\n",
      "Skip\n",
      "Skip\n",
      "Skip\n",
      "Skip\n",
      "Skip\n",
      "Skip\n",
      "Skip\n",
      "Skip\n",
      "Skip\n",
      "Skip\n",
      "Skip\n",
      "Skip\n",
      "Skip\n",
      "Skip\n",
      "Skip\n",
      "Skip\n",
      "Skip\n",
      "Skip\n",
      "Skip\n",
      "Skip\n",
      "Skip\n",
      "Skip\n",
      "Skip\n",
      "Skip\n",
      "Skip\n",
      "Skip\n",
      "Skip\n",
      "Skip\n",
      "Skip\n",
      "Skip\n",
      "Skip\n",
      "Skip\n",
      "Skip\n",
      "Skip\n",
      "Skip\n",
      "Skip\n",
      "Skip\n",
      "Skip\n",
      "Skip\n",
      "Skip\n",
      "Skip\n",
      "Skip\n",
      "Skip\n",
      "Skip\n",
      "Skip\n",
      "Skip\n",
      "Skip\n",
      "Skip\n",
      "Skip\n",
      "Skip\n",
      "Skip\n",
      "Skip\n",
      "Skip\n",
      "Skip\n",
      "Skip\n",
      "Skip\n",
      "Skip\n",
      "Skip\n",
      "Skip\n",
      "Skip\n",
      "Skip\n",
      "Skip\n",
      "Skip\n",
      "Skip\n",
      "Skip\n",
      "Skip\n",
      "Skip\n",
      "Skip\n",
      "Skip\n",
      "Skip\n",
      "Skip\n",
      "Skip\n",
      "Skip\n",
      "Skip\n",
      "Skip\n",
      "Skip\n",
      "Skip\n",
      "Skip\n",
      "Skip\n",
      "Skip\n",
      "Skip\n",
      "Skip\n",
      "Skip\n",
      "Skip\n",
      "Skip\n",
      "Skip\n",
      "Skip\n",
      "Skip\n",
      "Skip\n",
      "Skip\n",
      "Skip\n",
      "Skip\n",
      "Skip\n",
      "Skip\n",
      "Skip\n",
      "Skip\n",
      "Skip\n",
      "Skip\n",
      "Skip\n",
      "Skip\n",
      "Skip\n",
      "Skip\n",
      "Skip\n",
      "Skip\n",
      "Skip\n",
      "Skip\n",
      "Skip\n",
      "Skip\n",
      "Skip\n",
      "Skip\n",
      "Skip\n",
      "Skip\n",
      "Skip\n",
      "Skip\n",
      "Skip\n",
      "Skip\n",
      "Skip\n",
      "Skip\n",
      "Skip\n",
      "Skip\n",
      "Skip\n",
      "Skip\n",
      "Skip\n",
      "Skip\n",
      "Skip\n",
      "Skip\n",
      "Skip\n",
      "Skip\n",
      "Skip\n",
      "Skip\n",
      "Skip\n",
      "Skip\n",
      "Skip\n",
      "Skip\n",
      "Skip\n",
      "Skip\n",
      "Skip\n",
      "Skip\n",
      "Skip\n",
      "Skip\n",
      "Skip\n",
      "Skip\n",
      "Skip\n",
      "Skip\n",
      "Skip\n",
      "Skip\n",
      "Skip\n",
      "Skip\n",
      "Skip\n",
      "Skip\n",
      "Skip\n",
      "Skip\n",
      "Skip\n",
      "Skip\n",
      "Skip\n",
      "Skip\n",
      "Skip\n",
      "Skip\n",
      "Skip\n",
      "Skip\n",
      "Skip\n",
      "Skip\n",
      "Skip\n",
      "Skip\n",
      "Skip\n",
      "Skip\n",
      "Skip\n",
      "Skip\n",
      "Skip\n",
      "Skip\n",
      "Skip\n",
      "Skip\n",
      "Skip\n",
      "Skip\n",
      "Skip\n",
      "Skip\n",
      "Skip\n",
      "Skip\n",
      "Skip\n",
      "Skip\n",
      "Skip\n",
      "Skip\n",
      "(56, 85, 59)\n",
      "(56, 85, 59)\n"
     ]
    },
    {
     "name": "stderr",
     "output_type": "stream",
     "text": [
      "100%|██████████| 56/56 [00:00<00:00, 506.91it/s]\n"
     ]
    },
    {
     "name": "stdout",
     "output_type": "stream",
     "text": [
      "(56, 85, 59)\n",
      "(56, 85, 59)\n"
     ]
    },
    {
     "name": "stderr",
     "output_type": "stream",
     "text": [
      "100%|██████████| 56/56 [00:00<00:00, 518.30it/s]\n",
      "100%|██████████| 410/410 [00:08<00:00, 50.95it/s] \n"
     ]
    },
    {
     "name": "stdout",
     "output_type": "stream",
     "text": [
      "Skip\n",
      "Skip\n",
      "Skip\n",
      "Skip\n",
      "Skip\n",
      "Skip\n",
      "Skip\n",
      "Skip\n",
      "Skip\n",
      "Skip\n",
      "Skip\n",
      "Skip\n",
      "Skip\n",
      "Skip\n",
      "Skip\n",
      "Skip\n",
      "Skip\n",
      "Skip\n",
      "Skip\n",
      "Skip\n",
      "Skip\n",
      "Skip\n",
      "Skip\n",
      "Skip\n",
      "Skip\n",
      "Skip\n",
      "Skip\n",
      "Skip\n",
      "Skip\n",
      "Skip\n",
      "Skip\n",
      "Skip\n",
      "Skip\n",
      "Skip\n",
      "Skip\n",
      "Skip\n",
      "Skip\n",
      "Skip\n",
      "Skip\n",
      "Skip\n",
      "Skip\n",
      "Skip\n",
      "Skip\n",
      "Skip\n",
      "Skip\n",
      "Skip\n",
      "Skip\n",
      "Skip\n",
      "Skip\n",
      "Skip\n",
      "Skip\n",
      "Skip\n",
      "Skip\n",
      "Skip\n",
      "Skip\n",
      "Skip\n",
      "Skip\n",
      "Skip\n",
      "Skip\n",
      "Skip\n",
      "Skip\n",
      "Skip\n",
      "Skip\n",
      "Skip\n",
      "Skip\n",
      "Skip\n",
      "Skip\n",
      "Skip\n",
      "Skip\n",
      "Skip\n",
      "Skip\n",
      "Skip\n",
      "Skip\n",
      "Skip\n",
      "Skip\n",
      "Skip\n",
      "Skip\n",
      "Skip\n",
      "Skip\n",
      "Skip\n",
      "Skip\n",
      "Skip\n",
      "Skip\n",
      "Skip\n",
      "Skip\n",
      "Skip\n",
      "Skip\n",
      "Skip\n",
      "Skip\n",
      "Skip\n",
      "Skip\n",
      "Skip\n",
      "Skip\n",
      "Skip\n",
      "Skip\n",
      "Skip\n",
      "Skip\n",
      "Skip\n",
      "Skip\n",
      "Skip\n",
      "Skip\n",
      "Skip\n",
      "Skip\n",
      "Skip\n",
      "Skip\n",
      "Skip\n",
      "Skip\n",
      "Skip\n",
      "Skip\n",
      "Skip\n",
      "Skip\n",
      "Skip\n",
      "Skip\n",
      "Skip\n",
      "Skip\n",
      "Skip\n",
      "Skip\n",
      "Skip\n"
     ]
    },
    {
     "name": "stderr",
     "output_type": "stream",
     "text": [
      "  0%|          | 0/91 [00:00<?, ?it/s]"
     ]
    },
    {
     "name": "stdout",
     "output_type": "stream",
     "text": [
      "(62, 91, 66)\n",
      "(62, 91, 66)\n"
     ]
    },
    {
     "name": "stderr",
     "output_type": "stream",
     "text": [
      "100%|██████████| 62/62 [00:00<00:00, 877.76it/s]\n"
     ]
    },
    {
     "name": "stdout",
     "output_type": "stream",
     "text": [
      "(62, 91, 66)\n",
      "(62, 91, 66)\n"
     ]
    },
    {
     "name": "stderr",
     "output_type": "stream",
     "text": [
      "100%|██████████| 62/62 [00:00<00:00, 787.56it/s]\n",
      "  1%|          | 1/91 [00:00<00:18,  4.85it/s]"
     ]
    },
    {
     "name": "stdout",
     "output_type": "stream",
     "text": [
      "(62, 75, 87)\n",
      "(62, 75, 87)\n"
     ]
    },
    {
     "name": "stderr",
     "output_type": "stream",
     "text": [
      "100%|██████████| 62/62 [00:00<00:00, 1002.47it/s]\n"
     ]
    },
    {
     "name": "stdout",
     "output_type": "stream",
     "text": [
      "(62, 75, 87)\n",
      "(62, 75, 87)\n"
     ]
    },
    {
     "name": "stderr",
     "output_type": "stream",
     "text": [
      "100%|██████████| 62/62 [00:00<00:00, 919.90it/s]\n",
      "  2%|▏         | 2/91 [00:00<00:17,  5.08it/s]"
     ]
    },
    {
     "name": "stdout",
     "output_type": "stream",
     "text": [
      "(71, 91, 98)\n",
      "(71, 91, 98)\n"
     ]
    },
    {
     "name": "stderr",
     "output_type": "stream",
     "text": [
      "100%|██████████| 71/71 [00:00<00:00, 601.81it/s]\n"
     ]
    },
    {
     "name": "stdout",
     "output_type": "stream",
     "text": [
      "(71, 91, 98)\n",
      "(71, 91, 98)\n"
     ]
    },
    {
     "name": "stderr",
     "output_type": "stream",
     "text": [
      "100%|██████████| 71/71 [00:00<00:00, 904.48it/s]\n",
      "  3%|▎         | 3/91 [00:00<00:20,  4.23it/s]"
     ]
    },
    {
     "name": "stdout",
     "output_type": "stream",
     "text": [
      "(85, 91, 89)\n",
      "(85, 91, 89)\n"
     ]
    },
    {
     "name": "stderr",
     "output_type": "stream",
     "text": [
      "100%|██████████| 85/85 [00:00<00:00, 900.18it/s]\n"
     ]
    },
    {
     "name": "stdout",
     "output_type": "stream",
     "text": [
      "(85, 91, 89)\n",
      "(85, 91, 89)\n"
     ]
    },
    {
     "name": "stderr",
     "output_type": "stream",
     "text": [
      "100%|██████████| 85/85 [00:00<00:00, 895.36it/s]\n",
      "  4%|▍         | 4/91 [00:00<00:21,  3.98it/s]"
     ]
    },
    {
     "name": "stdout",
     "output_type": "stream",
     "text": [
      "(67, 60, 68)\n",
      "(67, 60, 68)\n"
     ]
    },
    {
     "name": "stderr",
     "output_type": "stream",
     "text": [
      "100%|██████████| 67/67 [00:00<00:00, 1152.63it/s]\n"
     ]
    },
    {
     "name": "stdout",
     "output_type": "stream",
     "text": [
      "(67, 60, 68)\n",
      "(67, 60, 68)\n"
     ]
    },
    {
     "name": "stderr",
     "output_type": "stream",
     "text": [
      "100%|██████████| 67/67 [00:00<00:00, 971.66it/s]\n",
      "  5%|▌         | 5/91 [00:01<00:18,  4.54it/s]"
     ]
    },
    {
     "name": "stdout",
     "output_type": "stream",
     "text": [
      "(63, 86, 92)\n",
      "(63, 86, 92)\n"
     ]
    },
    {
     "name": "stderr",
     "output_type": "stream",
     "text": [
      "100%|██████████| 63/63 [00:00<00:00, 953.90it/s]\n"
     ]
    },
    {
     "name": "stdout",
     "output_type": "stream",
     "text": [
      "(63, 86, 92)\n",
      "(63, 86, 92)\n"
     ]
    },
    {
     "name": "stderr",
     "output_type": "stream",
     "text": [
      "100%|██████████| 63/63 [00:00<00:00, 886.07it/s]\n",
      "  7%|▋         | 6/91 [00:01<00:18,  4.68it/s]"
     ]
    },
    {
     "name": "stdout",
     "output_type": "stream",
     "text": [
      "(67, 109, 88)\n",
      "(67, 109, 88)\n"
     ]
    },
    {
     "name": "stderr",
     "output_type": "stream",
     "text": [
      "100%|██████████| 67/67 [00:00<00:00, 1045.49it/s]\n"
     ]
    },
    {
     "name": "stdout",
     "output_type": "stream",
     "text": [
      "(67, 109, 88)\n",
      "(67, 109, 88)\n"
     ]
    },
    {
     "name": "stderr",
     "output_type": "stream",
     "text": [
      "100%|██████████| 67/67 [00:00<00:00, 940.98it/s]\n",
      "  8%|▊         | 7/91 [00:01<00:18,  4.64it/s]"
     ]
    },
    {
     "name": "stdout",
     "output_type": "stream",
     "text": [
      "(58, 95, 66)\n",
      "(58, 95, 66)\n"
     ]
    },
    {
     "name": "stderr",
     "output_type": "stream",
     "text": [
      "100%|██████████| 58/58 [00:00<00:00, 883.89it/s]\n"
     ]
    },
    {
     "name": "stdout",
     "output_type": "stream",
     "text": [
      "(58, 95, 66)\n",
      "(58, 95, 66)\n"
     ]
    },
    {
     "name": "stderr",
     "output_type": "stream",
     "text": [
      "100%|██████████| 58/58 [00:00<00:00, 836.41it/s]\n",
      "  9%|▉         | 8/91 [00:01<00:17,  4.84it/s]"
     ]
    },
    {
     "name": "stdout",
     "output_type": "stream",
     "text": [
      "(59, 100, 77)\n",
      "(59, 100, 77)\n"
     ]
    },
    {
     "name": "stderr",
     "output_type": "stream",
     "text": [
      "100%|██████████| 59/59 [00:00<00:00, 889.31it/s]\n"
     ]
    },
    {
     "name": "stdout",
     "output_type": "stream",
     "text": [
      "(59, 100, 77)\n",
      "(59, 100, 77)\n"
     ]
    },
    {
     "name": "stderr",
     "output_type": "stream",
     "text": [
      "100%|██████████| 59/59 [00:00<00:00, 921.92it/s]\n",
      " 10%|▉         | 9/91 [00:01<00:16,  4.96it/s]"
     ]
    },
    {
     "name": "stdout",
     "output_type": "stream",
     "text": [
      "(59, 82, 79)\n",
      "(59, 82, 79)\n"
     ]
    },
    {
     "name": "stderr",
     "output_type": "stream",
     "text": [
      "100%|██████████| 59/59 [00:00<00:00, 942.79it/s]\n"
     ]
    },
    {
     "name": "stdout",
     "output_type": "stream",
     "text": [
      "(59, 82, 79)\n",
      "(59, 82, 79)\n"
     ]
    },
    {
     "name": "stderr",
     "output_type": "stream",
     "text": [
      "100%|██████████| 59/59 [00:00<00:00, 979.40it/s]\n",
      " 11%|█         | 10/91 [00:02<00:15,  5.18it/s]"
     ]
    },
    {
     "name": "stdout",
     "output_type": "stream",
     "text": [
      "(61, 96, 97)\n",
      "(61, 96, 97)\n"
     ]
    },
    {
     "name": "stderr",
     "output_type": "stream",
     "text": [
      "100%|██████████| 61/61 [00:00<00:00, 1004.54it/s]\n"
     ]
    },
    {
     "name": "stdout",
     "output_type": "stream",
     "text": [
      "(61, 96, 97)\n",
      "(61, 96, 97)\n"
     ]
    },
    {
     "name": "stderr",
     "output_type": "stream",
     "text": [
      "100%|██████████| 61/61 [00:00<00:00, 892.75it/s]\n",
      " 12%|█▏        | 11/91 [00:02<00:15,  5.15it/s]"
     ]
    },
    {
     "name": "stdout",
     "output_type": "stream",
     "text": [
      "(54, 98, 89)\n",
      "(54, 98, 89)\n"
     ]
    },
    {
     "name": "stderr",
     "output_type": "stream",
     "text": [
      "100%|██████████| 54/54 [00:00<00:00, 783.62it/s]\n"
     ]
    },
    {
     "name": "stdout",
     "output_type": "stream",
     "text": [
      "(54, 98, 89)\n",
      "(54, 98, 89)\n"
     ]
    },
    {
     "name": "stderr",
     "output_type": "stream",
     "text": [
      "100%|██████████| 54/54 [00:00<00:00, 949.28it/s]\n",
      " 13%|█▎        | 12/91 [00:02<00:15,  4.97it/s]"
     ]
    },
    {
     "name": "stdout",
     "output_type": "stream",
     "text": [
      "Skip\n",
      "Skip\n",
      "(63, 75, 82)\n",
      "(63, 75, 82)\n"
     ]
    },
    {
     "name": "stderr",
     "output_type": "stream",
     "text": [
      "100%|██████████| 63/63 [00:00<00:00, 781.95it/s]\n"
     ]
    },
    {
     "name": "stdout",
     "output_type": "stream",
     "text": [
      "(63, 75, 82)\n",
      "(63, 75, 82)\n"
     ]
    },
    {
     "name": "stderr",
     "output_type": "stream",
     "text": [
      "100%|██████████| 63/63 [00:00<00:00, 476.76it/s]\n",
      " 16%|█▋        | 15/91 [00:02<00:11,  6.89it/s]"
     ]
    },
    {
     "name": "stdout",
     "output_type": "stream",
     "text": [
      "(62, 78, 60)\n",
      "(62, 78, 60)\n"
     ]
    },
    {
     "name": "stderr",
     "output_type": "stream",
     "text": [
      "100%|██████████| 62/62 [00:00<00:00, 810.55it/s]\n"
     ]
    },
    {
     "name": "stdout",
     "output_type": "stream",
     "text": [
      "(62, 78, 60)\n",
      "(62, 78, 60)\n"
     ]
    },
    {
     "name": "stderr",
     "output_type": "stream",
     "text": [
      "100%|██████████| 62/62 [00:00<00:00, 902.19it/s]\n",
      " 18%|█▊        | 16/91 [00:03<00:11,  6.40it/s]"
     ]
    },
    {
     "name": "stdout",
     "output_type": "stream",
     "text": [
      "(70, 92, 106)\n",
      "(70, 92, 106)\n"
     ]
    },
    {
     "name": "stderr",
     "output_type": "stream",
     "text": [
      "100%|██████████| 70/70 [00:00<00:00, 978.00it/s]\n"
     ]
    },
    {
     "name": "stdout",
     "output_type": "stream",
     "text": [
      "(70, 92, 106)\n",
      "(70, 92, 106)\n"
     ]
    },
    {
     "name": "stderr",
     "output_type": "stream",
     "text": [
      "100%|██████████| 70/70 [00:00<00:00, 898.83it/s]\n",
      " 19%|█▊        | 17/91 [00:03<00:12,  5.70it/s]"
     ]
    },
    {
     "name": "stdout",
     "output_type": "stream",
     "text": [
      "(71, 90, 82)\n",
      "(71, 90, 82)\n"
     ]
    },
    {
     "name": "stderr",
     "output_type": "stream",
     "text": [
      "100%|██████████| 71/71 [00:00<00:00, 940.31it/s]\n"
     ]
    },
    {
     "name": "stdout",
     "output_type": "stream",
     "text": [
      "(71, 90, 82)\n",
      "(71, 90, 82)\n"
     ]
    },
    {
     "name": "stderr",
     "output_type": "stream",
     "text": [
      "100%|██████████| 71/71 [00:00<00:00, 505.28it/s]\n",
      " 20%|█▉        | 18/91 [00:03<00:14,  4.92it/s]"
     ]
    },
    {
     "name": "stdout",
     "output_type": "stream",
     "text": [
      "(61, 64, 54)\n",
      "(61, 64, 54)\n"
     ]
    },
    {
     "name": "stderr",
     "output_type": "stream",
     "text": [
      "100%|██████████| 61/61 [00:00<00:00, 667.53it/s]\n"
     ]
    },
    {
     "name": "stdout",
     "output_type": "stream",
     "text": [
      "(61, 64, 54)\n",
      "(61, 64, 54)\n"
     ]
    },
    {
     "name": "stderr",
     "output_type": "stream",
     "text": [
      "100%|██████████| 61/61 [00:00<00:00, 773.88it/s]\n",
      " 21%|██        | 19/91 [00:03<00:14,  4.85it/s]"
     ]
    },
    {
     "name": "stdout",
     "output_type": "stream",
     "text": [
      "(51, 54, 13)\n",
      "(51, 54, 13)\n"
     ]
    },
    {
     "name": "stderr",
     "output_type": "stream",
     "text": [
      "100%|██████████| 51/51 [00:00<00:00, 1173.11it/s]\n"
     ]
    },
    {
     "name": "stdout",
     "output_type": "stream",
     "text": [
      "(51, 54, 13)\n",
      "(51, 54, 13)\n"
     ]
    },
    {
     "name": "stderr",
     "output_type": "stream",
     "text": [
      "100%|██████████| 51/51 [00:00<00:00, 806.06it/s]\n",
      " 22%|██▏       | 20/91 [00:03<00:12,  5.48it/s]"
     ]
    },
    {
     "name": "stdout",
     "output_type": "stream",
     "text": [
      "(64, 94, 81)\n",
      "(64, 94, 81)\n"
     ]
    },
    {
     "name": "stderr",
     "output_type": "stream",
     "text": [
      "100%|██████████| 64/64 [00:00<00:00, 913.42it/s]\n"
     ]
    },
    {
     "name": "stdout",
     "output_type": "stream",
     "text": [
      "(64, 94, 81)\n",
      "(64, 94, 81)\n"
     ]
    },
    {
     "name": "stderr",
     "output_type": "stream",
     "text": [
      "100%|██████████| 64/64 [00:00<00:00, 872.85it/s]\n",
      " 23%|██▎       | 21/91 [00:04<00:13,  5.31it/s]"
     ]
    },
    {
     "name": "stdout",
     "output_type": "stream",
     "text": [
      "(68, 88, 89)\n",
      "(68, 88, 89)\n"
     ]
    },
    {
     "name": "stderr",
     "output_type": "stream",
     "text": [
      "100%|██████████| 68/68 [00:00<00:00, 636.75it/s]\n"
     ]
    },
    {
     "name": "stdout",
     "output_type": "stream",
     "text": [
      "(68, 88, 89)\n",
      "(68, 88, 89)\n"
     ]
    },
    {
     "name": "stderr",
     "output_type": "stream",
     "text": [
      "100%|██████████| 68/68 [00:00<00:00, 579.73it/s]\n",
      " 24%|██▍       | 22/91 [00:04<00:16,  4.17it/s]"
     ]
    },
    {
     "name": "stdout",
     "output_type": "stream",
     "text": [
      "(71, 71, 53)\n",
      "(71, 71, 53)\n"
     ]
    },
    {
     "name": "stderr",
     "output_type": "stream",
     "text": [
      "100%|██████████| 71/71 [00:00<00:00, 740.02it/s]\n"
     ]
    },
    {
     "name": "stdout",
     "output_type": "stream",
     "text": [
      "(71, 71, 53)\n",
      "(71, 71, 53)\n"
     ]
    },
    {
     "name": "stderr",
     "output_type": "stream",
     "text": [
      "100%|██████████| 71/71 [00:00<00:00, 763.25it/s]\n",
      " 25%|██▌       | 23/91 [00:04<00:17,  3.91it/s]"
     ]
    },
    {
     "name": "stdout",
     "output_type": "stream",
     "text": [
      "(63, 67, 102)\n",
      "(63, 67, 102)\n"
     ]
    },
    {
     "name": "stderr",
     "output_type": "stream",
     "text": [
      "100%|██████████| 63/63 [00:00<00:00, 848.20it/s]\n"
     ]
    },
    {
     "name": "stdout",
     "output_type": "stream",
     "text": [
      "(63, 67, 102)\n",
      "(63, 67, 102)\n"
     ]
    },
    {
     "name": "stderr",
     "output_type": "stream",
     "text": [
      "100%|██████████| 63/63 [00:00<00:00, 980.41it/s]\n",
      " 26%|██▋       | 24/91 [00:04<00:15,  4.21it/s]"
     ]
    },
    {
     "name": "stdout",
     "output_type": "stream",
     "text": [
      "(58, 99, 82)\n",
      "(58, 99, 82)\n"
     ]
    },
    {
     "name": "stderr",
     "output_type": "stream",
     "text": [
      "100%|██████████| 58/58 [00:00<00:00, 750.34it/s]\n"
     ]
    },
    {
     "name": "stdout",
     "output_type": "stream",
     "text": [
      "(58, 99, 82)\n",
      "(58, 99, 82)\n"
     ]
    },
    {
     "name": "stderr",
     "output_type": "stream",
     "text": [
      "100%|██████████| 58/58 [00:00<00:00, 769.02it/s]\n",
      " 27%|██▋       | 25/91 [00:05<00:15,  4.33it/s]"
     ]
    },
    {
     "name": "stdout",
     "output_type": "stream",
     "text": [
      "(67, 72, 79)\n",
      "(67, 72, 79)\n"
     ]
    },
    {
     "name": "stderr",
     "output_type": "stream",
     "text": [
      "100%|██████████| 67/67 [00:00<00:00, 978.97it/s]\n"
     ]
    },
    {
     "name": "stdout",
     "output_type": "stream",
     "text": [
      "(67, 72, 79)\n",
      "(67, 72, 79)\n"
     ]
    },
    {
     "name": "stderr",
     "output_type": "stream",
     "text": [
      "100%|██████████| 67/67 [00:00<00:00, 826.73it/s]\n",
      " 29%|██▊       | 26/91 [00:05<00:14,  4.52it/s]"
     ]
    },
    {
     "name": "stdout",
     "output_type": "stream",
     "text": [
      "Skip\n",
      "Skip\n",
      "(53, 51, 13)\n",
      "(53, 51, 13)\n"
     ]
    },
    {
     "name": "stderr",
     "output_type": "stream",
     "text": [
      "100%|██████████| 53/53 [00:00<00:00, 1456.68it/s]\n"
     ]
    },
    {
     "name": "stdout",
     "output_type": "stream",
     "text": [
      "(53, 51, 13)\n",
      "(53, 51, 13)\n"
     ]
    },
    {
     "name": "stderr",
     "output_type": "stream",
     "text": [
      "100%|██████████| 53/53 [00:00<00:00, 1032.19it/s]\n",
      "100%|██████████| 91/91 [00:05<00:00, 16.73it/s]\n"
     ]
    },
    {
     "name": "stdout",
     "output_type": "stream",
     "text": [
      "Skip\n",
      "Skip\n",
      "Skip\n",
      "Skip\n",
      "Skip\n",
      "Skip\n",
      "Skip\n",
      "Skip\n",
      "Skip\n",
      "Skip\n",
      "Skip\n",
      "Skip\n",
      "Skip\n",
      "Skip\n",
      "Skip\n",
      "Skip\n",
      "Skip\n",
      "Skip\n",
      "Skip\n",
      "Skip\n",
      "Skip\n",
      "Skip\n",
      "Skip\n",
      "Skip\n",
      "Skip\n",
      "Skip\n",
      "Skip\n",
      "Skip\n",
      "Skip\n",
      "Skip\n",
      "Skip\n",
      "Skip\n",
      "Skip\n",
      "Skip\n",
      "Skip\n",
      "Skip\n",
      "Skip\n",
      "Skip\n",
      "Skip\n",
      "Skip\n",
      "Skip\n",
      "Skip\n",
      "Skip\n",
      "Skip\n",
      "Skip\n",
      "Skip\n",
      "Skip\n",
      "Skip\n",
      "Skip\n",
      "Skip\n",
      "Skip\n",
      "Skip\n",
      "Skip\n",
      "Skip\n",
      "Skip\n",
      "Skip\n",
      "Skip\n",
      "Skip\n",
      "Skip\n",
      "Skip\n",
      "Skip\n",
      "Skip\n"
     ]
    },
    {
     "name": "stderr",
     "output_type": "stream",
     "text": [
      "  0%|          | 0/53 [00:00<?, ?it/s]"
     ]
    },
    {
     "name": "stdout",
     "output_type": "stream",
     "text": [
      "(57, 84, 94)\n",
      "(57, 84, 94)\n"
     ]
    },
    {
     "name": "stderr",
     "output_type": "stream",
     "text": [
      "100%|██████████| 57/57 [00:00<00:00, 541.70it/s]\n"
     ]
    },
    {
     "name": "stdout",
     "output_type": "stream",
     "text": [
      "(57, 84, 94)\n",
      "(57, 84, 94)\n"
     ]
    },
    {
     "name": "stderr",
     "output_type": "stream",
     "text": [
      "100%|██████████| 57/57 [00:00<00:00, 448.38it/s]\n",
      "  2%|▏         | 1/53 [00:00<00:16,  3.19it/s]"
     ]
    },
    {
     "name": "stdout",
     "output_type": "stream",
     "text": [
      "(70, 92, 89)\n",
      "(70, 92, 89)\n"
     ]
    },
    {
     "name": "stderr",
     "output_type": "stream",
     "text": [
      "100%|██████████| 70/70 [00:00<00:00, 719.34it/s]\n"
     ]
    },
    {
     "name": "stdout",
     "output_type": "stream",
     "text": [
      "(70, 92, 89)\n",
      "(70, 92, 89)\n"
     ]
    },
    {
     "name": "stderr",
     "output_type": "stream",
     "text": [
      "100%|██████████| 70/70 [00:00<00:00, 963.77it/s]\n",
      "  4%|▍         | 2/53 [00:00<00:13,  3.68it/s]"
     ]
    },
    {
     "name": "stdout",
     "output_type": "stream",
     "text": [
      "(77, 54, 100)\n",
      "(77, 54, 100)\n"
     ]
    },
    {
     "name": "stderr",
     "output_type": "stream",
     "text": [
      "100%|██████████| 77/77 [00:00<00:00, 1059.16it/s]\n"
     ]
    },
    {
     "name": "stdout",
     "output_type": "stream",
     "text": [
      "(77, 54, 100)\n",
      "(77, 54, 100)\n"
     ]
    },
    {
     "name": "stderr",
     "output_type": "stream",
     "text": [
      "100%|██████████| 77/77 [00:00<00:00, 559.09it/s]\n",
      "  6%|▌         | 3/53 [00:00<00:13,  3.72it/s]"
     ]
    },
    {
     "name": "stdout",
     "output_type": "stream",
     "text": [
      "(69, 85, 78)\n",
      "(69, 85, 78)\n"
     ]
    },
    {
     "name": "stderr",
     "output_type": "stream",
     "text": [
      "100%|██████████| 69/69 [00:00<00:00, 1058.77it/s]\n"
     ]
    },
    {
     "name": "stdout",
     "output_type": "stream",
     "text": [
      "(69, 85, 78)\n",
      "(69, 85, 78)\n"
     ]
    },
    {
     "name": "stderr",
     "output_type": "stream",
     "text": [
      "100%|██████████| 69/69 [00:00<00:00, 845.59it/s]\n",
      "  8%|▊         | 4/53 [00:01<00:11,  4.14it/s]"
     ]
    },
    {
     "name": "stdout",
     "output_type": "stream",
     "text": [
      "(61, 78, 87)\n",
      "(61, 78, 87)\n"
     ]
    },
    {
     "name": "stderr",
     "output_type": "stream",
     "text": [
      "100%|██████████| 61/61 [00:00<00:00, 1023.18it/s]\n"
     ]
    },
    {
     "name": "stdout",
     "output_type": "stream",
     "text": [
      "(61, 78, 87)\n",
      "(61, 78, 87)\n"
     ]
    },
    {
     "name": "stderr",
     "output_type": "stream",
     "text": [
      "100%|██████████| 61/61 [00:00<00:00, 882.42it/s]\n",
      "  9%|▉         | 5/53 [00:01<00:10,  4.54it/s]"
     ]
    },
    {
     "name": "stdout",
     "output_type": "stream",
     "text": [
      "(58, 73, 89)\n",
      "(58, 73, 89)\n"
     ]
    },
    {
     "name": "stderr",
     "output_type": "stream",
     "text": [
      "100%|██████████| 58/58 [00:00<00:00, 1010.59it/s]\n"
     ]
    },
    {
     "name": "stdout",
     "output_type": "stream",
     "text": [
      "(58, 73, 89)\n",
      "(58, 73, 89)\n"
     ]
    },
    {
     "name": "stderr",
     "output_type": "stream",
     "text": [
      "100%|██████████| 58/58 [00:00<00:00, 912.05it/s]\n",
      " 11%|█▏        | 6/53 [00:01<00:09,  4.94it/s]"
     ]
    },
    {
     "name": "stdout",
     "output_type": "stream",
     "text": [
      "(62, 76, 76)\n",
      "(62, 76, 76)\n"
     ]
    },
    {
     "name": "stderr",
     "output_type": "stream",
     "text": [
      "100%|██████████| 62/62 [00:00<00:00, 1111.61it/s]\n"
     ]
    },
    {
     "name": "stdout",
     "output_type": "stream",
     "text": [
      "(62, 76, 76)\n",
      "(62, 76, 76)\n"
     ]
    },
    {
     "name": "stderr",
     "output_type": "stream",
     "text": [
      "100%|██████████| 62/62 [00:00<00:00, 943.43it/s]\n",
      " 13%|█▎        | 7/53 [00:01<00:08,  5.24it/s]"
     ]
    },
    {
     "name": "stdout",
     "output_type": "stream",
     "text": [
      "(69, 62, 85)\n",
      "(69, 62, 85)\n"
     ]
    },
    {
     "name": "stderr",
     "output_type": "stream",
     "text": [
      "100%|██████████| 69/69 [00:00<00:00, 888.12it/s]\n"
     ]
    },
    {
     "name": "stdout",
     "output_type": "stream",
     "text": [
      "(69, 62, 85)\n",
      "(69, 62, 85)\n"
     ]
    },
    {
     "name": "stderr",
     "output_type": "stream",
     "text": [
      "100%|██████████| 69/69 [00:00<00:00, 901.00it/s]\n",
      " 15%|█▌        | 8/53 [00:01<00:08,  5.08it/s]"
     ]
    },
    {
     "name": "stdout",
     "output_type": "stream",
     "text": [
      "Skip\n",
      "(75, 73, 83)\n",
      "(75, 73, 83)\n"
     ]
    },
    {
     "name": "stderr",
     "output_type": "stream",
     "text": [
      "100%|██████████| 75/75 [00:00<00:00, 910.05it/s]\n"
     ]
    },
    {
     "name": "stdout",
     "output_type": "stream",
     "text": [
      "(75, 73, 83)\n",
      "(75, 73, 83)\n"
     ]
    },
    {
     "name": "stderr",
     "output_type": "stream",
     "text": [
      "100%|██████████| 75/75 [00:00<00:00, 885.35it/s]\n",
      " 19%|█▉        | 10/53 [00:01<00:06,  6.38it/s]"
     ]
    },
    {
     "name": "stdout",
     "output_type": "stream",
     "text": [
      "(61, 97, 79)\n",
      "(61, 97, 79)\n"
     ]
    },
    {
     "name": "stderr",
     "output_type": "stream",
     "text": [
      "100%|██████████| 61/61 [00:00<00:00, 955.48it/s]\n"
     ]
    },
    {
     "name": "stdout",
     "output_type": "stream",
     "text": [
      "(61, 97, 79)\n",
      "(61, 97, 79)\n"
     ]
    },
    {
     "name": "stderr",
     "output_type": "stream",
     "text": [
      "100%|██████████| 61/61 [00:00<00:00, 584.98it/s]\n",
      " 21%|██        | 11/53 [00:02<00:07,  5.68it/s]"
     ]
    },
    {
     "name": "stdout",
     "output_type": "stream",
     "text": [
      "(64, 92, 97)\n",
      "(64, 92, 97)\n"
     ]
    },
    {
     "name": "stderr",
     "output_type": "stream",
     "text": [
      "100%|██████████| 64/64 [00:00<00:00, 1003.13it/s]\n"
     ]
    },
    {
     "name": "stdout",
     "output_type": "stream",
     "text": [
      "(64, 92, 97)\n",
      "(64, 92, 97)\n"
     ]
    },
    {
     "name": "stderr",
     "output_type": "stream",
     "text": [
      "100%|██████████| 64/64 [00:00<00:00, 579.07it/s]\n",
      " 23%|██▎       | 12/53 [00:02<00:07,  5.17it/s]"
     ]
    },
    {
     "name": "stdout",
     "output_type": "stream",
     "text": [
      "(61, 97, 72)\n",
      "(61, 97, 72)\n"
     ]
    },
    {
     "name": "stderr",
     "output_type": "stream",
     "text": [
      "100%|██████████| 61/61 [00:00<00:00, 906.73it/s]\n"
     ]
    },
    {
     "name": "stdout",
     "output_type": "stream",
     "text": [
      "(61, 97, 72)\n",
      "(61, 97, 72)\n"
     ]
    },
    {
     "name": "stderr",
     "output_type": "stream",
     "text": [
      "100%|██████████| 61/61 [00:00<00:00, 853.23it/s]\n",
      " 25%|██▍       | 13/53 [00:02<00:07,  5.09it/s]"
     ]
    },
    {
     "name": "stdout",
     "output_type": "stream",
     "text": [
      "Skip\n",
      "Skip\n",
      "(64, 88, 73)\n",
      "(64, 88, 73)\n"
     ]
    },
    {
     "name": "stderr",
     "output_type": "stream",
     "text": [
      "100%|██████████| 64/64 [00:00<00:00, 1156.75it/s]\n"
     ]
    },
    {
     "name": "stdout",
     "output_type": "stream",
     "text": [
      "(64, 88, 73)\n",
      "(64, 88, 73)\n"
     ]
    },
    {
     "name": "stderr",
     "output_type": "stream",
     "text": [
      "100%|██████████| 64/64 [00:00<00:00, 1019.37it/s]\n",
      " 30%|███       | 16/53 [00:02<00:04,  8.33it/s]"
     ]
    },
    {
     "name": "stdout",
     "output_type": "stream",
     "text": [
      "(61, 77, 76)\n",
      "(61, 77, 76)\n"
     ]
    },
    {
     "name": "stderr",
     "output_type": "stream",
     "text": [
      "100%|██████████| 61/61 [00:00<00:00, 935.38it/s]\n"
     ]
    },
    {
     "name": "stdout",
     "output_type": "stream",
     "text": [
      "(61, 77, 76)\n",
      "(61, 77, 76)\n"
     ]
    },
    {
     "name": "stderr",
     "output_type": "stream",
     "text": [
      "100%|██████████| 61/61 [00:00<00:00, 886.50it/s]\n",
      " 32%|███▏      | 17/53 [00:03<00:04,  7.50it/s]"
     ]
    },
    {
     "name": "stdout",
     "output_type": "stream",
     "text": [
      "(60, 96, 75)\n",
      "(60, 96, 75)\n"
     ]
    },
    {
     "name": "stderr",
     "output_type": "stream",
     "text": [
      "100%|██████████| 60/60 [00:00<00:00, 935.74it/s]\n"
     ]
    },
    {
     "name": "stdout",
     "output_type": "stream",
     "text": [
      "(60, 96, 75)\n",
      "(60, 96, 75)\n"
     ]
    },
    {
     "name": "stderr",
     "output_type": "stream",
     "text": [
      "100%|██████████| 60/60 [00:00<00:00, 961.40it/s]\n",
      " 34%|███▍      | 18/53 [00:03<00:05,  6.97it/s]"
     ]
    },
    {
     "name": "stdout",
     "output_type": "stream",
     "text": [
      "(62, 86, 81)\n",
      "(62, 86, 81)\n"
     ]
    },
    {
     "name": "stderr",
     "output_type": "stream",
     "text": [
      "100%|██████████| 62/62 [00:00<00:00, 1138.72it/s]\n"
     ]
    },
    {
     "name": "stdout",
     "output_type": "stream",
     "text": [
      "(62, 86, 81)\n",
      "(62, 86, 81)\n"
     ]
    },
    {
     "name": "stderr",
     "output_type": "stream",
     "text": [
      "100%|██████████| 62/62 [00:00<00:00, 850.11it/s]\n",
      " 36%|███▌      | 19/53 [00:03<00:05,  6.55it/s]"
     ]
    },
    {
     "name": "stdout",
     "output_type": "stream",
     "text": [
      "(83, 56, 81)\n",
      "(83, 56, 81)\n"
     ]
    },
    {
     "name": "stderr",
     "output_type": "stream",
     "text": [
      "100%|██████████| 83/83 [00:00<00:00, 1025.01it/s]\n"
     ]
    },
    {
     "name": "stdout",
     "output_type": "stream",
     "text": [
      "(83, 56, 81)\n",
      "(83, 56, 81)\n"
     ]
    },
    {
     "name": "stderr",
     "output_type": "stream",
     "text": [
      "100%|██████████| 83/83 [00:00<00:00, 1079.23it/s]\n",
      " 38%|███▊      | 20/53 [00:03<00:05,  5.95it/s]"
     ]
    },
    {
     "name": "stdout",
     "output_type": "stream",
     "text": [
      "Skip\n",
      "(57, 84, 79)\n",
      "(57, 84, 79)\n"
     ]
    },
    {
     "name": "stderr",
     "output_type": "stream",
     "text": [
      "100%|██████████| 57/57 [00:00<00:00, 811.85it/s]\n"
     ]
    },
    {
     "name": "stdout",
     "output_type": "stream",
     "text": [
      "(57, 84, 79)\n",
      "(57, 84, 79)\n"
     ]
    },
    {
     "name": "stderr",
     "output_type": "stream",
     "text": [
      "100%|██████████| 57/57 [00:00<00:00, 773.88it/s]\n",
      " 42%|████▏     | 22/53 [00:03<00:04,  6.78it/s]"
     ]
    },
    {
     "name": "stdout",
     "output_type": "stream",
     "text": [
      "(63, 89, 69)\n",
      "(63, 89, 69)\n"
     ]
    },
    {
     "name": "stderr",
     "output_type": "stream",
     "text": [
      "100%|██████████| 63/63 [00:00<00:00, 933.46it/s]\n"
     ]
    },
    {
     "name": "stdout",
     "output_type": "stream",
     "text": [
      "(63, 89, 69)\n",
      "(63, 89, 69)\n"
     ]
    },
    {
     "name": "stderr",
     "output_type": "stream",
     "text": [
      "100%|██████████| 63/63 [00:00<00:00, 809.93it/s]\n",
      " 43%|████▎     | 23/53 [00:04<00:04,  6.21it/s]"
     ]
    },
    {
     "name": "stdout",
     "output_type": "stream",
     "text": [
      "(74, 95, 86)\n",
      "(74, 95, 86)\n"
     ]
    },
    {
     "name": "stderr",
     "output_type": "stream",
     "text": [
      "100%|██████████| 74/74 [00:00<00:00, 943.26it/s]\n"
     ]
    },
    {
     "name": "stdout",
     "output_type": "stream",
     "text": [
      "(74, 95, 86)\n",
      "(74, 95, 86)\n"
     ]
    },
    {
     "name": "stderr",
     "output_type": "stream",
     "text": [
      "100%|██████████| 74/74 [00:00<00:00, 816.25it/s]\n",
      " 45%|████▌     | 24/53 [00:04<00:05,  5.45it/s]"
     ]
    },
    {
     "name": "stdout",
     "output_type": "stream",
     "text": [
      "(67, 61, 71)\n",
      "(67, 61, 71)\n"
     ]
    },
    {
     "name": "stderr",
     "output_type": "stream",
     "text": [
      "100%|██████████| 67/67 [00:00<00:00, 1121.92it/s]\n"
     ]
    },
    {
     "name": "stdout",
     "output_type": "stream",
     "text": [
      "(67, 61, 71)\n",
      "(67, 61, 71)\n"
     ]
    },
    {
     "name": "stderr",
     "output_type": "stream",
     "text": [
      "100%|██████████| 67/67 [00:00<00:00, 1093.73it/s]\n",
      " 47%|████▋     | 25/53 [00:04<00:04,  5.64it/s]"
     ]
    },
    {
     "name": "stdout",
     "output_type": "stream",
     "text": [
      "Skip\n",
      "(60, 81, 69)\n",
      "(60, 81, 69)\n"
     ]
    },
    {
     "name": "stderr",
     "output_type": "stream",
     "text": [
      "100%|██████████| 60/60 [00:00<00:00, 1264.70it/s]\n"
     ]
    },
    {
     "name": "stdout",
     "output_type": "stream",
     "text": [
      "(60, 81, 69)\n",
      "(60, 81, 69)\n"
     ]
    },
    {
     "name": "stderr",
     "output_type": "stream",
     "text": [
      "100%|██████████| 60/60 [00:00<00:00, 796.99it/s]\n",
      " 51%|█████     | 27/53 [00:04<00:03,  7.30it/s]"
     ]
    },
    {
     "name": "stdout",
     "output_type": "stream",
     "text": [
      "(68, 67, 88)\n",
      "(68, 67, 88)\n"
     ]
    },
    {
     "name": "stderr",
     "output_type": "stream",
     "text": [
      "100%|██████████| 68/68 [00:00<00:00, 1204.39it/s]\n"
     ]
    },
    {
     "name": "stdout",
     "output_type": "stream",
     "text": [
      "(68, 67, 88)\n",
      "(68, 67, 88)\n"
     ]
    },
    {
     "name": "stderr",
     "output_type": "stream",
     "text": [
      "100%|██████████| 68/68 [00:00<00:00, 1003.99it/s]\n",
      "100%|██████████| 53/53 [00:04<00:00, 11.10it/s]\n"
     ]
    },
    {
     "name": "stdout",
     "output_type": "stream",
     "text": [
      "Skip\n",
      "Skip\n",
      "Skip\n",
      "Skip\n",
      "Skip\n",
      "Skip\n",
      "Skip\n",
      "Skip\n",
      "Skip\n",
      "Skip\n",
      "Skip\n",
      "Skip\n",
      "Skip\n",
      "Skip\n",
      "Skip\n",
      "Skip\n",
      "Skip\n",
      "Skip\n",
      "Skip\n",
      "Skip\n",
      "Skip\n",
      "Skip\n",
      "Skip\n",
      "Skip\n",
      "Skip\n"
     ]
    },
    {
     "name": "stderr",
     "output_type": "stream",
     "text": [
      "  0%|          | 0/46 [00:00<?, ?it/s]"
     ]
    },
    {
     "name": "stdout",
     "output_type": "stream",
     "text": [
      "(62, 83, 75)\n",
      "(62, 83, 75)\n"
     ]
    },
    {
     "name": "stderr",
     "output_type": "stream",
     "text": [
      "100%|██████████| 62/62 [00:00<00:00, 972.61it/s]\n"
     ]
    },
    {
     "name": "stdout",
     "output_type": "stream",
     "text": [
      "(62, 83, 75)\n",
      "(62, 83, 75)\n"
     ]
    },
    {
     "name": "stderr",
     "output_type": "stream",
     "text": [
      "100%|██████████| 62/62 [00:00<00:00, 911.98it/s]\n",
      "  2%|▏         | 1/46 [00:00<00:08,  5.39it/s]"
     ]
    },
    {
     "name": "stdout",
     "output_type": "stream",
     "text": [
      "(69, 94, 78)\n",
      "(69, 94, 78)\n"
     ]
    },
    {
     "name": "stderr",
     "output_type": "stream",
     "text": [
      "100%|██████████| 69/69 [00:00<00:00, 424.20it/s]\n"
     ]
    },
    {
     "name": "stdout",
     "output_type": "stream",
     "text": [
      "(69, 94, 78)\n",
      "(69, 94, 78)\n"
     ]
    },
    {
     "name": "stderr",
     "output_type": "stream",
     "text": [
      "100%|██████████| 69/69 [00:00<00:00, 866.47it/s]\n",
      "  4%|▍         | 2/46 [00:00<00:11,  3.85it/s]"
     ]
    },
    {
     "name": "stdout",
     "output_type": "stream",
     "text": [
      "(61, 96, 67)\n",
      "(61, 96, 67)\n"
     ]
    },
    {
     "name": "stderr",
     "output_type": "stream",
     "text": [
      "100%|██████████| 61/61 [00:00<00:00, 983.93it/s]"
     ]
    },
    {
     "name": "stdout",
     "output_type": "stream",
     "text": [
      "(61, 96, 67)\n",
      "(61, 96, 67)\n"
     ]
    },
    {
     "name": "stderr",
     "output_type": "stream",
     "text": [
      "\n",
      "100%|██████████| 61/61 [00:00<00:00, 920.32it/s]\n",
      "  7%|▋         | 3/46 [00:00<00:09,  4.47it/s]"
     ]
    },
    {
     "name": "stdout",
     "output_type": "stream",
     "text": [
      "Skip\n",
      "(66, 59, 73)\n",
      "(66, 59, 73)\n"
     ]
    },
    {
     "name": "stderr",
     "output_type": "stream",
     "text": [
      "100%|██████████| 66/66 [00:00<00:00, 978.11it/s]\n"
     ]
    },
    {
     "name": "stdout",
     "output_type": "stream",
     "text": [
      "(66, 59, 73)\n",
      "(66, 59, 73)\n"
     ]
    },
    {
     "name": "stderr",
     "output_type": "stream",
     "text": [
      "100%|██████████| 66/66 [00:00<00:00, 991.64it/s]\n",
      " 11%|█         | 5/46 [00:00<00:06,  6.81it/s]"
     ]
    },
    {
     "name": "stdout",
     "output_type": "stream",
     "text": [
      "(60, 76, 76)\n",
      "(60, 76, 76)\n"
     ]
    },
    {
     "name": "stderr",
     "output_type": "stream",
     "text": [
      "100%|██████████| 60/60 [00:00<00:00, 1133.94it/s]\n"
     ]
    },
    {
     "name": "stdout",
     "output_type": "stream",
     "text": [
      "(60, 76, 76)\n",
      "(60, 76, 76)\n"
     ]
    },
    {
     "name": "stderr",
     "output_type": "stream",
     "text": [
      "100%|██████████| 60/60 [00:00<00:00, 1081.23it/s]\n",
      " 13%|█▎        | 6/46 [00:01<00:05,  6.74it/s]"
     ]
    },
    {
     "name": "stdout",
     "output_type": "stream",
     "text": [
      "(54, 95, 67)\n",
      "(54, 95, 67)\n"
     ]
    },
    {
     "name": "stderr",
     "output_type": "stream",
     "text": [
      "100%|██████████| 54/54 [00:00<00:00, 1138.38it/s]\n"
     ]
    },
    {
     "name": "stdout",
     "output_type": "stream",
     "text": [
      "(54, 95, 67)\n",
      "(54, 95, 67)\n"
     ]
    },
    {
     "name": "stderr",
     "output_type": "stream",
     "text": [
      "100%|██████████| 54/54 [00:00<00:00, 952.63it/s]\n",
      " 15%|█▌        | 7/46 [00:01<00:05,  6.75it/s]"
     ]
    },
    {
     "name": "stdout",
     "output_type": "stream",
     "text": [
      "(63, 63, 81)\n",
      "(63, 63, 81)\n"
     ]
    },
    {
     "name": "stderr",
     "output_type": "stream",
     "text": [
      "100%|██████████| 63/63 [00:00<00:00, 852.28it/s]\n"
     ]
    },
    {
     "name": "stdout",
     "output_type": "stream",
     "text": [
      "(63, 63, 81)\n",
      "(63, 63, 81)\n"
     ]
    },
    {
     "name": "stderr",
     "output_type": "stream",
     "text": [
      "100%|██████████| 63/63 [00:00<00:00, 868.27it/s]\n",
      " 17%|█▋        | 8/46 [00:01<00:06,  6.13it/s]"
     ]
    },
    {
     "name": "stdout",
     "output_type": "stream",
     "text": [
      "(59, 90, 81)\n",
      "(59, 90, 81)\n"
     ]
    },
    {
     "name": "stderr",
     "output_type": "stream",
     "text": [
      "100%|██████████| 59/59 [00:00<00:00, 1043.54it/s]\n"
     ]
    },
    {
     "name": "stdout",
     "output_type": "stream",
     "text": [
      "(59, 90, 81)\n",
      "(59, 90, 81)\n"
     ]
    },
    {
     "name": "stderr",
     "output_type": "stream",
     "text": [
      "100%|██████████| 59/59 [00:00<00:00, 825.37it/s]\n",
      " 20%|█▉        | 9/46 [00:01<00:06,  5.93it/s]"
     ]
    },
    {
     "name": "stdout",
     "output_type": "stream",
     "text": [
      "(59, 83, 81)\n",
      "(59, 83, 81)\n"
     ]
    },
    {
     "name": "stderr",
     "output_type": "stream",
     "text": [
      "100%|██████████| 59/59 [00:00<00:00, 846.58it/s]\n"
     ]
    },
    {
     "name": "stdout",
     "output_type": "stream",
     "text": [
      "(59, 83, 81)\n",
      "(59, 83, 81)\n"
     ]
    },
    {
     "name": "stderr",
     "output_type": "stream",
     "text": [
      "100%|██████████| 59/59 [00:00<00:00, 717.51it/s]\n",
      " 22%|██▏       | 10/46 [00:01<00:07,  4.96it/s]"
     ]
    },
    {
     "name": "stdout",
     "output_type": "stream",
     "text": [
      "(62, 71, 86)\n",
      "(62, 71, 86)\n"
     ]
    },
    {
     "name": "stderr",
     "output_type": "stream",
     "text": [
      "100%|██████████| 62/62 [00:00<00:00, 1121.77it/s]\n"
     ]
    },
    {
     "name": "stdout",
     "output_type": "stream",
     "text": [
      "(62, 71, 86)\n",
      "(62, 71, 86)\n"
     ]
    },
    {
     "name": "stderr",
     "output_type": "stream",
     "text": [
      "100%|██████████| 62/62 [00:00<00:00, 1052.21it/s]\n",
      " 24%|██▍       | 11/46 [00:01<00:06,  5.26it/s]"
     ]
    },
    {
     "name": "stdout",
     "output_type": "stream",
     "text": [
      "(61, 85, 67)\n",
      "(61, 85, 67)\n"
     ]
    },
    {
     "name": "stderr",
     "output_type": "stream",
     "text": [
      "100%|██████████| 61/61 [00:00<00:00, 1012.78it/s]\n"
     ]
    },
    {
     "name": "stdout",
     "output_type": "stream",
     "text": [
      "(61, 85, 67)\n",
      "(61, 85, 67)\n"
     ]
    },
    {
     "name": "stderr",
     "output_type": "stream",
     "text": [
      "100%|██████████| 61/61 [00:00<00:00, 899.16it/s]\n",
      " 26%|██▌       | 12/46 [00:02<00:06,  5.40it/s]"
     ]
    },
    {
     "name": "stdout",
     "output_type": "stream",
     "text": [
      "Skip\n",
      "(63, 92, 71)\n",
      "(63, 92, 71)\n"
     ]
    },
    {
     "name": "stderr",
     "output_type": "stream",
     "text": [
      "100%|██████████| 63/63 [00:00<00:00, 1110.68it/s]\n"
     ]
    },
    {
     "name": "stdout",
     "output_type": "stream",
     "text": [
      "(63, 92, 71)\n",
      "(63, 92, 71)\n"
     ]
    },
    {
     "name": "stderr",
     "output_type": "stream",
     "text": [
      "100%|██████████| 63/63 [00:00<00:00, 1032.20it/s]\n",
      " 30%|███       | 14/46 [00:02<00:04,  7.22it/s]"
     ]
    },
    {
     "name": "stdout",
     "output_type": "stream",
     "text": [
      "(66, 74, 38)\n",
      "(66, 74, 38)\n"
     ]
    },
    {
     "name": "stderr",
     "output_type": "stream",
     "text": [
      "100%|██████████| 66/66 [00:00<00:00, 1059.95it/s]\n"
     ]
    },
    {
     "name": "stdout",
     "output_type": "stream",
     "text": [
      "(66, 74, 38)\n",
      "(66, 74, 38)\n"
     ]
    },
    {
     "name": "stderr",
     "output_type": "stream",
     "text": [
      "100%|██████████| 66/66 [00:00<00:00, 870.60it/s]\n",
      " 33%|███▎      | 15/46 [00:02<00:04,  6.90it/s]"
     ]
    },
    {
     "name": "stdout",
     "output_type": "stream",
     "text": [
      "(58, 83, 75)\n",
      "(58, 83, 75)\n"
     ]
    },
    {
     "name": "stderr",
     "output_type": "stream",
     "text": [
      "100%|██████████| 58/58 [00:00<00:00, 981.94it/s]\n"
     ]
    },
    {
     "name": "stdout",
     "output_type": "stream",
     "text": [
      "(58, 83, 75)\n",
      "(58, 83, 75)\n"
     ]
    },
    {
     "name": "stderr",
     "output_type": "stream",
     "text": [
      "100%|██████████| 58/58 [00:00<00:00, 1013.28it/s]\n",
      " 35%|███▍      | 16/46 [00:02<00:04,  6.73it/s]"
     ]
    },
    {
     "name": "stdout",
     "output_type": "stream",
     "text": [
      "(54, 57, 36)\n",
      "(54, 57, 36)\n"
     ]
    },
    {
     "name": "stderr",
     "output_type": "stream",
     "text": [
      "100%|██████████| 54/54 [00:00<00:00, 986.41it/s]\n"
     ]
    },
    {
     "name": "stdout",
     "output_type": "stream",
     "text": [
      "(54, 57, 36)\n",
      "(54, 57, 36)\n"
     ]
    },
    {
     "name": "stderr",
     "output_type": "stream",
     "text": [
      "100%|██████████| 54/54 [00:00<00:00, 1055.53it/s]\n",
      " 37%|███▋      | 17/46 [00:02<00:04,  7.01it/s]"
     ]
    },
    {
     "name": "stdout",
     "output_type": "stream",
     "text": [
      "(67, 73, 53)\n",
      "(67, 73, 53)\n"
     ]
    },
    {
     "name": "stderr",
     "output_type": "stream",
     "text": [
      "100%|██████████| 67/67 [00:00<00:00, 1214.89it/s]\n"
     ]
    },
    {
     "name": "stdout",
     "output_type": "stream",
     "text": [
      "(67, 73, 53)\n",
      "(67, 73, 53)\n"
     ]
    },
    {
     "name": "stderr",
     "output_type": "stream",
     "text": [
      "100%|██████████| 67/67 [00:00<00:00, 894.22it/s]\n",
      " 39%|███▉      | 18/46 [00:02<00:04,  6.76it/s]"
     ]
    },
    {
     "name": "stdout",
     "output_type": "stream",
     "text": [
      "(61, 76, 91)\n",
      "(61, 76, 91)\n"
     ]
    },
    {
     "name": "stderr",
     "output_type": "stream",
     "text": [
      "100%|██████████| 61/61 [00:00<00:00, 813.82it/s]\n"
     ]
    },
    {
     "name": "stdout",
     "output_type": "stream",
     "text": [
      "(61, 76, 91)\n",
      "(61, 76, 91)\n"
     ]
    },
    {
     "name": "stderr",
     "output_type": "stream",
     "text": [
      "100%|██████████| 61/61 [00:00<00:00, 509.98it/s]\n",
      " 41%|████▏     | 19/46 [00:03<00:04,  5.55it/s]"
     ]
    },
    {
     "name": "stdout",
     "output_type": "stream",
     "text": [
      "(61, 70, 81)\n",
      "(61, 70, 81)\n"
     ]
    },
    {
     "name": "stderr",
     "output_type": "stream",
     "text": [
      "100%|██████████| 61/61 [00:00<00:00, 923.92it/s]\n"
     ]
    },
    {
     "name": "stdout",
     "output_type": "stream",
     "text": [
      "(61, 70, 81)\n",
      "(61, 70, 81)\n"
     ]
    },
    {
     "name": "stderr",
     "output_type": "stream",
     "text": [
      "100%|██████████| 61/61 [00:00<00:00, 893.34it/s]\n",
      " 43%|████▎     | 20/46 [00:03<00:04,  5.57it/s]"
     ]
    },
    {
     "name": "stdout",
     "output_type": "stream",
     "text": [
      "(76, 91, 81)\n",
      "(76, 91, 81)\n"
     ]
    },
    {
     "name": "stderr",
     "output_type": "stream",
     "text": [
      "100%|██████████| 76/76 [00:00<00:00, 1000.14it/s]\n"
     ]
    },
    {
     "name": "stdout",
     "output_type": "stream",
     "text": [
      "(76, 91, 81)\n",
      "(76, 91, 81)\n"
     ]
    },
    {
     "name": "stderr",
     "output_type": "stream",
     "text": [
      "100%|██████████| 76/76 [00:00<00:00, 957.11it/s]\n",
      " 46%|████▌     | 21/46 [00:03<00:04,  5.17it/s]"
     ]
    },
    {
     "name": "stdout",
     "output_type": "stream",
     "text": [
      "(67, 90, 82)\n",
      "(67, 90, 82)\n"
     ]
    },
    {
     "name": "stderr",
     "output_type": "stream",
     "text": [
      "100%|██████████| 67/67 [00:00<00:00, 668.66it/s]\n"
     ]
    },
    {
     "name": "stdout",
     "output_type": "stream",
     "text": [
      "(67, 90, 82)\n",
      "(67, 90, 82)\n"
     ]
    },
    {
     "name": "stderr",
     "output_type": "stream",
     "text": [
      "100%|██████████| 67/67 [00:00<00:00, 957.17it/s]\n",
      " 48%|████▊     | 22/46 [00:03<00:05,  4.76it/s]"
     ]
    },
    {
     "name": "stdout",
     "output_type": "stream",
     "text": [
      "(64, 82, 67)\n",
      "(64, 82, 67)\n"
     ]
    },
    {
     "name": "stderr",
     "output_type": "stream",
     "text": [
      "100%|██████████| 64/64 [00:00<00:00, 1012.69it/s]\n"
     ]
    },
    {
     "name": "stdout",
     "output_type": "stream",
     "text": [
      "(64, 82, 67)\n",
      "(64, 82, 67)\n"
     ]
    },
    {
     "name": "stderr",
     "output_type": "stream",
     "text": [
      "100%|██████████| 64/64 [00:00<00:00, 983.87it/s]\n",
      " 50%|█████     | 23/46 [00:04<00:04,  5.02it/s]"
     ]
    },
    {
     "name": "stdout",
     "output_type": "stream",
     "text": [
      "(59, 74, 23)\n",
      "(59, 74, 23)\n"
     ]
    },
    {
     "name": "stderr",
     "output_type": "stream",
     "text": [
      "100%|██████████| 59/59 [00:00<00:00, 1117.95it/s]\n"
     ]
    },
    {
     "name": "stdout",
     "output_type": "stream",
     "text": [
      "(59, 74, 23)\n",
      "(59, 74, 23)\n"
     ]
    },
    {
     "name": "stderr",
     "output_type": "stream",
     "text": [
      "100%|██████████| 59/59 [00:00<00:00, 981.06it/s]\n",
      " 52%|█████▏    | 24/46 [00:04<00:03,  5.58it/s]"
     ]
    },
    {
     "name": "stdout",
     "output_type": "stream",
     "text": [
      "(69, 67, 67)\n",
      "(69, 67, 67)\n"
     ]
    },
    {
     "name": "stderr",
     "output_type": "stream",
     "text": [
      "100%|██████████| 69/69 [00:00<00:00, 980.37it/s]\n"
     ]
    },
    {
     "name": "stdout",
     "output_type": "stream",
     "text": [
      "(69, 67, 67)\n",
      "(69, 67, 67)\n"
     ]
    },
    {
     "name": "stderr",
     "output_type": "stream",
     "text": [
      "100%|██████████| 69/69 [00:00<00:00, 965.57it/s]\n",
      " 54%|█████▍    | 25/46 [00:04<00:03,  5.57it/s]"
     ]
    },
    {
     "name": "stdout",
     "output_type": "stream",
     "text": [
      "(69, 64, 31)\n",
      "(69, 64, 31)\n"
     ]
    },
    {
     "name": "stderr",
     "output_type": "stream",
     "text": [
      "100%|██████████| 69/69 [00:00<00:00, 1209.68it/s]\n"
     ]
    },
    {
     "name": "stdout",
     "output_type": "stream",
     "text": [
      "(69, 64, 31)\n",
      "(69, 64, 31)\n"
     ]
    },
    {
     "name": "stderr",
     "output_type": "stream",
     "text": [
      "100%|██████████| 69/69 [00:00<00:00, 1028.30it/s]\n",
      " 57%|█████▋    | 26/46 [00:04<00:03,  5.90it/s]"
     ]
    },
    {
     "name": "stdout",
     "output_type": "stream",
     "text": [
      "(72, 73, 57)\n",
      "(72, 73, 57)\n"
     ]
    },
    {
     "name": "stderr",
     "output_type": "stream",
     "text": [
      "100%|██████████| 72/72 [00:00<00:00, 1058.81it/s]\n"
     ]
    },
    {
     "name": "stdout",
     "output_type": "stream",
     "text": [
      "(72, 73, 57)\n",
      "(72, 73, 57)\n"
     ]
    },
    {
     "name": "stderr",
     "output_type": "stream",
     "text": [
      "100%|██████████| 72/72 [00:00<00:00, 805.59it/s]\n",
      " 59%|█████▊    | 27/46 [00:04<00:03,  5.19it/s]"
     ]
    },
    {
     "name": "stdout",
     "output_type": "stream",
     "text": [
      "(67, 79, 61)\n",
      "(67, 79, 61)\n"
     ]
    },
    {
     "name": "stderr",
     "output_type": "stream",
     "text": [
      "100%|██████████| 67/67 [00:00<00:00, 1078.68it/s]\n"
     ]
    },
    {
     "name": "stdout",
     "output_type": "stream",
     "text": [
      "(67, 79, 61)\n",
      "(67, 79, 61)\n"
     ]
    },
    {
     "name": "stderr",
     "output_type": "stream",
     "text": [
      "100%|██████████| 67/67 [00:00<00:00, 964.35it/s]\n",
      "100%|██████████| 46/46 [00:04<00:00,  9.39it/s]\n"
     ]
    },
    {
     "name": "stdout",
     "output_type": "stream",
     "text": [
      "Skip\n",
      "Skip\n",
      "Skip\n",
      "Skip\n",
      "Skip\n",
      "Skip\n",
      "Skip\n",
      "Skip\n",
      "Skip\n",
      "Skip\n",
      "Skip\n",
      "Skip\n",
      "Skip\n",
      "Skip\n",
      "Skip\n",
      "Skip\n",
      "Skip\n",
      "Skip\n"
     ]
    },
    {
     "name": "stderr",
     "output_type": "stream",
     "text": [
      "  0%|          | 0/57 [00:00<?, ?it/s]"
     ]
    },
    {
     "name": "stdout",
     "output_type": "stream",
     "text": [
      "(67, 84, 95)\n",
      "(67, 84, 95)\n"
     ]
    },
    {
     "name": "stderr",
     "output_type": "stream",
     "text": [
      "100%|██████████| 67/67 [00:00<00:00, 934.68it/s]\n"
     ]
    },
    {
     "name": "stdout",
     "output_type": "stream",
     "text": [
      "(67, 84, 95)\n",
      "(67, 84, 95)\n"
     ]
    },
    {
     "name": "stderr",
     "output_type": "stream",
     "text": [
      "100%|██████████| 67/67 [00:00<00:00, 904.47it/s]\n",
      "  2%|▏         | 1/57 [00:00<00:12,  4.37it/s]"
     ]
    },
    {
     "name": "stdout",
     "output_type": "stream",
     "text": [
      "(60, 93, 93)\n",
      "(60, 93, 93)\n"
     ]
    },
    {
     "name": "stderr",
     "output_type": "stream",
     "text": [
      "100%|██████████| 60/60 [00:00<00:00, 1031.39it/s]\n"
     ]
    },
    {
     "name": "stdout",
     "output_type": "stream",
     "text": [
      "(60, 93, 93)\n",
      "(60, 93, 93)\n"
     ]
    },
    {
     "name": "stderr",
     "output_type": "stream",
     "text": [
      "100%|██████████| 60/60 [00:00<00:00, 906.23it/s]\n",
      "  4%|▎         | 2/57 [00:00<00:11,  4.71it/s]"
     ]
    },
    {
     "name": "stdout",
     "output_type": "stream",
     "text": [
      "(60, 76, 70)\n",
      "(60, 76, 70)\n"
     ]
    },
    {
     "name": "stderr",
     "output_type": "stream",
     "text": [
      "100%|██████████| 60/60 [00:00<00:00, 1112.76it/s]\n"
     ]
    },
    {
     "name": "stdout",
     "output_type": "stream",
     "text": [
      "(60, 76, 70)\n",
      "(60, 76, 70)\n"
     ]
    },
    {
     "name": "stderr",
     "output_type": "stream",
     "text": [
      "100%|██████████| 60/60 [00:00<00:00, 924.41it/s]\n",
      "  5%|▌         | 3/57 [00:00<00:10,  5.31it/s]"
     ]
    },
    {
     "name": "stdout",
     "output_type": "stream",
     "text": [
      "(61, 86, 67)\n",
      "(61, 86, 67)\n"
     ]
    },
    {
     "name": "stderr",
     "output_type": "stream",
     "text": [
      "100%|██████████| 61/61 [00:00<00:00, 909.46it/s]\n"
     ]
    },
    {
     "name": "stdout",
     "output_type": "stream",
     "text": [
      "(61, 86, 67)\n",
      "(61, 86, 67)\n"
     ]
    },
    {
     "name": "stderr",
     "output_type": "stream",
     "text": [
      "100%|██████████| 61/61 [00:00<00:00, 777.30it/s]\n",
      "  7%|▋         | 4/57 [00:00<00:10,  5.20it/s]"
     ]
    },
    {
     "name": "stdout",
     "output_type": "stream",
     "text": [
      "(64, 69, 70)\n",
      "(64, 69, 70)\n"
     ]
    },
    {
     "name": "stderr",
     "output_type": "stream",
     "text": [
      "100%|██████████| 64/64 [00:00<00:00, 845.24it/s]\n"
     ]
    },
    {
     "name": "stdout",
     "output_type": "stream",
     "text": [
      "(64, 69, 70)\n",
      "(64, 69, 70)\n"
     ]
    },
    {
     "name": "stderr",
     "output_type": "stream",
     "text": [
      "100%|██████████| 64/64 [00:00<00:00, 813.72it/s]\n",
      "  9%|▉         | 5/57 [00:00<00:10,  5.03it/s]"
     ]
    },
    {
     "name": "stdout",
     "output_type": "stream",
     "text": [
      "(54, 82, 80)\n",
      "(54, 82, 80)\n"
     ]
    },
    {
     "name": "stderr",
     "output_type": "stream",
     "text": [
      "100%|██████████| 54/54 [00:00<00:00, 760.49it/s]\n"
     ]
    },
    {
     "name": "stdout",
     "output_type": "stream",
     "text": [
      "(54, 82, 80)\n",
      "(54, 82, 80)\n"
     ]
    },
    {
     "name": "stderr",
     "output_type": "stream",
     "text": [
      "100%|██████████| 54/54 [00:00<00:00, 802.36it/s]\n",
      " 11%|█         | 6/57 [00:01<00:10,  4.64it/s]"
     ]
    },
    {
     "name": "stdout",
     "output_type": "stream",
     "text": [
      "(66, 95, 91)\n",
      "(66, 95, 91)\n"
     ]
    },
    {
     "name": "stderr",
     "output_type": "stream",
     "text": [
      "100%|██████████| 66/66 [00:00<00:00, 835.86it/s]\n"
     ]
    },
    {
     "name": "stdout",
     "output_type": "stream",
     "text": [
      "(66, 95, 91)\n",
      "(66, 95, 91)\n"
     ]
    },
    {
     "name": "stderr",
     "output_type": "stream",
     "text": [
      "100%|██████████| 66/66 [00:00<00:00, 568.30it/s]\n",
      " 12%|█▏        | 7/57 [00:01<00:12,  4.16it/s]"
     ]
    },
    {
     "name": "stdout",
     "output_type": "stream",
     "text": [
      "(67, 87, 84)\n",
      "(67, 87, 84)\n"
     ]
    },
    {
     "name": "stderr",
     "output_type": "stream",
     "text": [
      "100%|██████████| 67/67 [00:00<00:00, 594.30it/s]\n"
     ]
    },
    {
     "name": "stdout",
     "output_type": "stream",
     "text": [
      "(67, 87, 84)\n",
      "(67, 87, 84)\n"
     ]
    },
    {
     "name": "stderr",
     "output_type": "stream",
     "text": [
      "100%|██████████| 67/67 [00:00<00:00, 677.43it/s]\n",
      " 14%|█▍        | 8/57 [00:01<00:13,  3.62it/s]"
     ]
    },
    {
     "name": "stdout",
     "output_type": "stream",
     "text": [
      "(64, 98, 94)\n",
      "(64, 98, 94)\n"
     ]
    },
    {
     "name": "stderr",
     "output_type": "stream",
     "text": [
      "100%|██████████| 64/64 [00:00<00:00, 792.38it/s]\n"
     ]
    },
    {
     "name": "stdout",
     "output_type": "stream",
     "text": [
      "(64, 98, 94)\n",
      "(64, 98, 94)\n"
     ]
    },
    {
     "name": "stderr",
     "output_type": "stream",
     "text": [
      "100%|██████████| 64/64 [00:00<00:00, 735.71it/s]\n",
      " 16%|█▌        | 9/57 [00:02<00:13,  3.64it/s]"
     ]
    },
    {
     "name": "stdout",
     "output_type": "stream",
     "text": [
      "(67, 74, 77)\n",
      "(67, 74, 77)\n"
     ]
    },
    {
     "name": "stderr",
     "output_type": "stream",
     "text": [
      "100%|██████████| 67/67 [00:00<00:00, 1091.88it/s]\n"
     ]
    },
    {
     "name": "stdout",
     "output_type": "stream",
     "text": [
      "(67, 74, 77)\n",
      "(67, 74, 77)\n"
     ]
    },
    {
     "name": "stderr",
     "output_type": "stream",
     "text": [
      "100%|██████████| 67/67 [00:00<00:00, 998.85it/s]\n",
      " 18%|█▊        | 10/57 [00:02<00:11,  4.08it/s]"
     ]
    },
    {
     "name": "stdout",
     "output_type": "stream",
     "text": [
      "(71, 72, 90)\n",
      "(71, 72, 90)\n"
     ]
    },
    {
     "name": "stderr",
     "output_type": "stream",
     "text": [
      "100%|██████████| 71/71 [00:00<00:00, 1049.49it/s]\n"
     ]
    },
    {
     "name": "stdout",
     "output_type": "stream",
     "text": [
      "(71, 72, 90)\n",
      "(71, 72, 90)\n"
     ]
    },
    {
     "name": "stderr",
     "output_type": "stream",
     "text": [
      "100%|██████████| 71/71 [00:00<00:00, 889.68it/s]\n",
      " 19%|█▉        | 11/57 [00:02<00:10,  4.30it/s]"
     ]
    },
    {
     "name": "stdout",
     "output_type": "stream",
     "text": [
      "(65, 74, 73)\n",
      "(65, 74, 73)\n"
     ]
    },
    {
     "name": "stderr",
     "output_type": "stream",
     "text": [
      "100%|██████████| 65/65 [00:00<00:00, 885.24it/s]\n"
     ]
    },
    {
     "name": "stdout",
     "output_type": "stream",
     "text": [
      "(65, 74, 73)\n",
      "(65, 74, 73)\n"
     ]
    },
    {
     "name": "stderr",
     "output_type": "stream",
     "text": [
      "100%|██████████| 65/65 [00:00<00:00, 837.38it/s]\n",
      " 21%|██        | 12/57 [00:02<00:09,  4.51it/s]"
     ]
    },
    {
     "name": "stdout",
     "output_type": "stream",
     "text": [
      "(66, 66, 95)\n",
      "(66, 66, 95)\n"
     ]
    },
    {
     "name": "stderr",
     "output_type": "stream",
     "text": [
      "100%|██████████| 66/66 [00:00<00:00, 473.63it/s]\n"
     ]
    },
    {
     "name": "stdout",
     "output_type": "stream",
     "text": [
      "(66, 66, 95)\n",
      "(66, 66, 95)\n"
     ]
    },
    {
     "name": "stderr",
     "output_type": "stream",
     "text": [
      "100%|██████████| 66/66 [00:00<00:00, 869.20it/s]\n",
      " 23%|██▎       | 13/57 [00:03<00:10,  4.17it/s]"
     ]
    },
    {
     "name": "stdout",
     "output_type": "stream",
     "text": [
      "(65, 82, 72)\n",
      "(65, 82, 72)\n"
     ]
    },
    {
     "name": "stderr",
     "output_type": "stream",
     "text": [
      "100%|██████████| 65/65 [00:00<00:00, 923.21it/s]\n"
     ]
    },
    {
     "name": "stdout",
     "output_type": "stream",
     "text": [
      "(65, 82, 72)\n",
      "(65, 82, 72)\n"
     ]
    },
    {
     "name": "stderr",
     "output_type": "stream",
     "text": [
      "100%|██████████| 65/65 [00:00<00:00, 907.69it/s]\n",
      " 25%|██▍       | 14/57 [00:03<00:09,  4.45it/s]"
     ]
    },
    {
     "name": "stdout",
     "output_type": "stream",
     "text": [
      "(65, 64, 72)\n",
      "(65, 64, 72)\n"
     ]
    },
    {
     "name": "stderr",
     "output_type": "stream",
     "text": [
      "100%|██████████| 65/65 [00:00<00:00, 848.90it/s]\n"
     ]
    },
    {
     "name": "stdout",
     "output_type": "stream",
     "text": [
      "(65, 64, 72)\n",
      "(65, 64, 72)\n"
     ]
    },
    {
     "name": "stderr",
     "output_type": "stream",
     "text": [
      "100%|██████████| 65/65 [00:00<00:00, 868.54it/s]\n",
      " 26%|██▋       | 15/57 [00:03<00:09,  4.66it/s]"
     ]
    },
    {
     "name": "stdout",
     "output_type": "stream",
     "text": [
      "(65, 76, 75)\n",
      "(65, 76, 75)\n"
     ]
    },
    {
     "name": "stderr",
     "output_type": "stream",
     "text": [
      "100%|██████████| 65/65 [00:00<00:00, 904.33it/s]\n"
     ]
    },
    {
     "name": "stdout",
     "output_type": "stream",
     "text": [
      "(65, 76, 75)\n",
      "(65, 76, 75)\n"
     ]
    },
    {
     "name": "stderr",
     "output_type": "stream",
     "text": [
      "100%|██████████| 65/65 [00:00<00:00, 1024.25it/s]\n",
      " 28%|██▊       | 16/57 [00:03<00:08,  4.92it/s]"
     ]
    },
    {
     "name": "stdout",
     "output_type": "stream",
     "text": [
      "(75, 58, 77)\n",
      "(75, 58, 77)\n"
     ]
    },
    {
     "name": "stderr",
     "output_type": "stream",
     "text": [
      "100%|██████████| 75/75 [00:00<00:00, 1000.79it/s]\n"
     ]
    },
    {
     "name": "stdout",
     "output_type": "stream",
     "text": [
      "(75, 58, 77)\n",
      "(75, 58, 77)\n"
     ]
    },
    {
     "name": "stderr",
     "output_type": "stream",
     "text": [
      "100%|██████████| 75/75 [00:00<00:00, 924.03it/s]\n",
      " 30%|██▉       | 17/57 [00:03<00:08,  4.95it/s]"
     ]
    },
    {
     "name": "stdout",
     "output_type": "stream",
     "text": [
      "(73, 61, 67)\n",
      "(73, 61, 67)\n"
     ]
    },
    {
     "name": "stderr",
     "output_type": "stream",
     "text": [
      "100%|██████████| 73/73 [00:00<00:00, 978.50it/s]\n"
     ]
    },
    {
     "name": "stdout",
     "output_type": "stream",
     "text": [
      "(73, 61, 67)\n",
      "(73, 61, 67)\n"
     ]
    },
    {
     "name": "stderr",
     "output_type": "stream",
     "text": [
      "100%|██████████| 73/73 [00:00<00:00, 851.06it/s]\n",
      " 32%|███▏      | 18/57 [00:03<00:07,  4.96it/s]"
     ]
    },
    {
     "name": "stdout",
     "output_type": "stream",
     "text": [
      "(67, 80, 102)\n",
      "(67, 80, 102)\n"
     ]
    },
    {
     "name": "stderr",
     "output_type": "stream",
     "text": [
      "100%|██████████| 67/67 [00:00<00:00, 859.70it/s]\n"
     ]
    },
    {
     "name": "stdout",
     "output_type": "stream",
     "text": [
      "(67, 80, 102)\n",
      "(67, 80, 102)\n"
     ]
    },
    {
     "name": "stderr",
     "output_type": "stream",
     "text": [
      "100%|██████████| 67/67 [00:00<00:00, 708.60it/s]\n",
      " 33%|███▎      | 19/57 [00:04<00:08,  4.41it/s]"
     ]
    },
    {
     "name": "stdout",
     "output_type": "stream",
     "text": [
      "(68, 76, 48)\n",
      "(68, 76, 48)\n"
     ]
    },
    {
     "name": "stderr",
     "output_type": "stream",
     "text": [
      "100%|██████████| 68/68 [00:00<00:00, 1126.65it/s]\n"
     ]
    },
    {
     "name": "stdout",
     "output_type": "stream",
     "text": [
      "(68, 76, 48)\n",
      "(68, 76, 48)\n"
     ]
    },
    {
     "name": "stderr",
     "output_type": "stream",
     "text": [
      "100%|██████████| 68/68 [00:00<00:00, 1029.71it/s]\n",
      " 35%|███▌      | 20/57 [00:04<00:07,  4.84it/s]"
     ]
    },
    {
     "name": "stdout",
     "output_type": "stream",
     "text": [
      "Skip\n",
      "Skip\n",
      "(78, 81, 89)\n",
      "(78, 81, 89)\n"
     ]
    },
    {
     "name": "stderr",
     "output_type": "stream",
     "text": [
      "100%|██████████| 78/78 [00:00<00:00, 1069.84it/s]\n"
     ]
    },
    {
     "name": "stdout",
     "output_type": "stream",
     "text": [
      "(78, 81, 89)\n",
      "(78, 81, 89)\n"
     ]
    },
    {
     "name": "stderr",
     "output_type": "stream",
     "text": [
      "100%|██████████| 78/78 [00:00<00:00, 962.75it/s]\n",
      " 40%|████      | 23/57 [00:04<00:04,  7.52it/s]"
     ]
    },
    {
     "name": "stdout",
     "output_type": "stream",
     "text": [
      "Skip\n",
      "(70, 79, 74)\n",
      "(70, 79, 74)\n"
     ]
    },
    {
     "name": "stderr",
     "output_type": "stream",
     "text": [
      "100%|██████████| 70/70 [00:00<00:00, 2167.92it/s]\n"
     ]
    },
    {
     "name": "stdout",
     "output_type": "stream",
     "text": [
      "(70, 79, 74)\n",
      "(70, 79, 74)\n"
     ]
    },
    {
     "name": "stderr",
     "output_type": "stream",
     "text": [
      "100%|██████████| 70/70 [00:00<00:00, 2168.74it/s]\n",
      "100%|██████████| 57/57 [00:04<00:00, 11.91it/s]\n"
     ]
    },
    {
     "name": "stdout",
     "output_type": "stream",
     "text": [
      "Skip\n",
      "Skip\n",
      "Skip\n",
      "Skip\n",
      "Skip\n",
      "Skip\n",
      "Skip\n",
      "Skip\n",
      "Skip\n",
      "Skip\n",
      "Skip\n",
      "Skip\n",
      "Skip\n",
      "Skip\n",
      "Skip\n",
      "Skip\n",
      "Skip\n",
      "Skip\n",
      "Skip\n",
      "Skip\n",
      "Skip\n",
      "Skip\n",
      "Skip\n",
      "Skip\n",
      "Skip\n",
      "Skip\n",
      "Skip\n",
      "Skip\n",
      "Skip\n",
      "Skip\n",
      "Skip\n",
      "Skip\n"
     ]
    },
    {
     "name": "stderr",
     "output_type": "stream",
     "text": [
      "  0%|          | 0/58 [00:00<?, ?it/s]"
     ]
    },
    {
     "name": "stdout",
     "output_type": "stream",
     "text": [
      "(64, 95, 88)\n",
      "(64, 95, 88)\n"
     ]
    },
    {
     "name": "stderr",
     "output_type": "stream",
     "text": [
      "100%|██████████| 64/64 [00:00<00:00, 951.10it/s]\n"
     ]
    },
    {
     "name": "stdout",
     "output_type": "stream",
     "text": [
      "(64, 95, 88)\n",
      "(64, 95, 88)\n"
     ]
    },
    {
     "name": "stderr",
     "output_type": "stream",
     "text": [
      "100%|██████████| 64/64 [00:00<00:00, 929.84it/s]\n",
      "  2%|▏         | 1/58 [00:00<00:11,  4.96it/s]"
     ]
    },
    {
     "name": "stdout",
     "output_type": "stream",
     "text": [
      "(68, 84, 88)\n",
      "(68, 84, 88)\n"
     ]
    },
    {
     "name": "stderr",
     "output_type": "stream",
     "text": [
      "100%|██████████| 68/68 [00:00<00:00, 1007.04it/s]\n"
     ]
    },
    {
     "name": "stdout",
     "output_type": "stream",
     "text": [
      "(68, 84, 88)\n",
      "(68, 84, 88)\n"
     ]
    },
    {
     "name": "stderr",
     "output_type": "stream",
     "text": [
      "100%|██████████| 68/68 [00:00<00:00, 875.29it/s]\n",
      "  3%|▎         | 2/58 [00:00<00:11,  4.92it/s]"
     ]
    },
    {
     "name": "stdout",
     "output_type": "stream",
     "text": [
      "(72, 51, 118)\n",
      "(72, 51, 118)\n"
     ]
    },
    {
     "name": "stderr",
     "output_type": "stream",
     "text": [
      "100%|██████████| 72/72 [00:00<00:00, 988.59it/s]"
     ]
    },
    {
     "name": "stdout",
     "output_type": "stream",
     "text": [
      "(72, 51, 118)\n"
     ]
    },
    {
     "name": "stderr",
     "output_type": "stream",
     "text": [
      "\n"
     ]
    },
    {
     "name": "stdout",
     "output_type": "stream",
     "text": [
      "(72, 51, 118)\n"
     ]
    },
    {
     "name": "stderr",
     "output_type": "stream",
     "text": [
      "100%|██████████| 72/72 [00:00<00:00, 736.33it/s]\n",
      "  5%|▌         | 3/58 [00:00<00:13,  4.18it/s]"
     ]
    },
    {
     "name": "stdout",
     "output_type": "stream",
     "text": [
      "(65, 88, 65)\n",
      "(65, 88, 65)\n"
     ]
    },
    {
     "name": "stderr",
     "output_type": "stream",
     "text": [
      "100%|██████████| 65/65 [00:00<00:00, 1167.57it/s]\n"
     ]
    },
    {
     "name": "stdout",
     "output_type": "stream",
     "text": [
      "(65, 88, 65)\n",
      "(65, 88, 65)\n"
     ]
    },
    {
     "name": "stderr",
     "output_type": "stream",
     "text": [
      "100%|██████████| 65/65 [00:00<00:00, 1024.37it/s]\n",
      "  7%|▋         | 4/58 [00:00<00:11,  4.79it/s]"
     ]
    },
    {
     "name": "stdout",
     "output_type": "stream",
     "text": [
      "(58, 77, 29)\n",
      "(58, 77, 29)\n"
     ]
    },
    {
     "name": "stderr",
     "output_type": "stream",
     "text": [
      "100%|██████████| 58/58 [00:00<00:00, 1018.04it/s]\n"
     ]
    },
    {
     "name": "stdout",
     "output_type": "stream",
     "text": [
      "(58, 77, 29)\n",
      "(58, 77, 29)\n"
     ]
    },
    {
     "name": "stderr",
     "output_type": "stream",
     "text": [
      "100%|██████████| 58/58 [00:00<00:00, 881.77it/s]\n",
      "  9%|▊         | 5/58 [00:00<00:09,  5.36it/s]"
     ]
    },
    {
     "name": "stdout",
     "output_type": "stream",
     "text": [
      "(63, 79, 87)\n",
      "(63, 79, 87)\n"
     ]
    },
    {
     "name": "stderr",
     "output_type": "stream",
     "text": [
      "100%|██████████| 63/63 [00:00<00:00, 925.65it/s]\n"
     ]
    },
    {
     "name": "stdout",
     "output_type": "stream",
     "text": [
      "(63, 79, 87)\n",
      "(63, 79, 87)\n"
     ]
    },
    {
     "name": "stderr",
     "output_type": "stream",
     "text": [
      "100%|██████████| 63/63 [00:00<00:00, 942.83it/s]\n",
      " 10%|█         | 6/58 [00:01<00:09,  5.38it/s]"
     ]
    },
    {
     "name": "stdout",
     "output_type": "stream",
     "text": [
      "(68, 109, 77)\n",
      "(68, 109, 77)\n"
     ]
    },
    {
     "name": "stderr",
     "output_type": "stream",
     "text": [
      "100%|██████████| 68/68 [00:00<00:00, 1020.23it/s]\n"
     ]
    },
    {
     "name": "stdout",
     "output_type": "stream",
     "text": [
      "(68, 109, 77)\n",
      "(68, 109, 77)\n"
     ]
    },
    {
     "name": "stderr",
     "output_type": "stream",
     "text": [
      "100%|██████████| 68/68 [00:00<00:00, 934.44it/s]\n",
      " 12%|█▏        | 7/58 [00:01<00:09,  5.22it/s]"
     ]
    },
    {
     "name": "stdout",
     "output_type": "stream",
     "text": [
      "(65, 65, 99)\n",
      "(65, 65, 99)\n"
     ]
    },
    {
     "name": "stderr",
     "output_type": "stream",
     "text": [
      "100%|██████████| 65/65 [00:00<00:00, 990.13it/s]\n"
     ]
    },
    {
     "name": "stdout",
     "output_type": "stream",
     "text": [
      "(65, 65, 99)\n",
      "(65, 65, 99)\n"
     ]
    },
    {
     "name": "stderr",
     "output_type": "stream",
     "text": [
      "100%|██████████| 65/65 [00:00<00:00, 960.91it/s]\n",
      " 14%|█▍        | 8/58 [00:01<00:09,  5.27it/s]"
     ]
    },
    {
     "name": "stdout",
     "output_type": "stream",
     "text": [
      "(67, 67, 90)\n",
      "(67, 67, 90)\n"
     ]
    },
    {
     "name": "stderr",
     "output_type": "stream",
     "text": [
      "100%|██████████| 67/67 [00:00<00:00, 987.73it/s]\n"
     ]
    },
    {
     "name": "stdout",
     "output_type": "stream",
     "text": [
      "(67, 67, 90)\n",
      "(67, 67, 90)\n"
     ]
    },
    {
     "name": "stderr",
     "output_type": "stream",
     "text": [
      "100%|██████████| 67/67 [00:00<00:00, 451.86it/s]\n",
      " 16%|█▌        | 9/58 [00:01<00:10,  4.68it/s]"
     ]
    },
    {
     "name": "stdout",
     "output_type": "stream",
     "text": [
      "(66, 67, 60)\n",
      "(66, 67, 60)\n"
     ]
    },
    {
     "name": "stderr",
     "output_type": "stream",
     "text": [
      "100%|██████████| 66/66 [00:00<00:00, 1200.18it/s]\n"
     ]
    },
    {
     "name": "stdout",
     "output_type": "stream",
     "text": [
      "(66, 67, 60)\n",
      "(66, 67, 60)\n"
     ]
    },
    {
     "name": "stderr",
     "output_type": "stream",
     "text": [
      "100%|██████████| 66/66 [00:00<00:00, 1107.00it/s]\n",
      " 17%|█▋        | 10/58 [00:01<00:09,  5.14it/s]"
     ]
    },
    {
     "name": "stdout",
     "output_type": "stream",
     "text": [
      "Skip\n",
      "(63, 78, 77)\n",
      "(63, 78, 77)\n"
     ]
    },
    {
     "name": "stderr",
     "output_type": "stream",
     "text": [
      "100%|██████████| 63/63 [00:00<00:00, 1171.24it/s]\n"
     ]
    },
    {
     "name": "stdout",
     "output_type": "stream",
     "text": [
      "(63, 78, 77)\n",
      "(63, 78, 77)\n"
     ]
    },
    {
     "name": "stderr",
     "output_type": "stream",
     "text": [
      "100%|██████████| 63/63 [00:00<00:00, 930.36it/s]\n",
      " 21%|██        | 12/58 [00:02<00:06,  7.04it/s]"
     ]
    },
    {
     "name": "stdout",
     "output_type": "stream",
     "text": [
      "(67, 98, 86)\n",
      "(67, 98, 86)\n"
     ]
    },
    {
     "name": "stderr",
     "output_type": "stream",
     "text": [
      "100%|██████████| 67/67 [00:00<00:00, 1007.64it/s]\n"
     ]
    },
    {
     "name": "stdout",
     "output_type": "stream",
     "text": [
      "(67, 98, 86)\n",
      "(67, 98, 86)\n"
     ]
    },
    {
     "name": "stderr",
     "output_type": "stream",
     "text": [
      "100%|██████████| 67/67 [00:00<00:00, 1004.06it/s]\n",
      " 22%|██▏       | 13/58 [00:02<00:06,  6.44it/s]"
     ]
    },
    {
     "name": "stdout",
     "output_type": "stream",
     "text": [
      "(63, 92, 70)\n",
      "(63, 92, 70)\n"
     ]
    },
    {
     "name": "stderr",
     "output_type": "stream",
     "text": [
      "100%|██████████| 63/63 [00:00<00:00, 1026.12it/s]\n"
     ]
    },
    {
     "name": "stdout",
     "output_type": "stream",
     "text": [
      "(63, 92, 70)\n",
      "(63, 92, 70)\n"
     ]
    },
    {
     "name": "stderr",
     "output_type": "stream",
     "text": [
      "100%|██████████| 63/63 [00:00<00:00, 856.21it/s]\n",
      " 24%|██▍       | 14/58 [00:02<00:07,  6.15it/s]"
     ]
    },
    {
     "name": "stdout",
     "output_type": "stream",
     "text": [
      "(61, 54, 81)\n",
      "(61, 54, 81)\n"
     ]
    },
    {
     "name": "stderr",
     "output_type": "stream",
     "text": [
      "100%|██████████| 61/61 [00:00<00:00, 991.18it/s]\n"
     ]
    },
    {
     "name": "stdout",
     "output_type": "stream",
     "text": [
      "(61, 54, 81)\n",
      "(61, 54, 81)\n"
     ]
    },
    {
     "name": "stderr",
     "output_type": "stream",
     "text": [
      "100%|██████████| 61/61 [00:00<00:00, 881.49it/s]\n",
      " 26%|██▌       | 15/58 [00:02<00:07,  6.10it/s]"
     ]
    },
    {
     "name": "stdout",
     "output_type": "stream",
     "text": [
      "(56, 56, 89)\n",
      "(56, 56, 89)\n"
     ]
    },
    {
     "name": "stderr",
     "output_type": "stream",
     "text": [
      "100%|██████████| 56/56 [00:00<00:00, 892.65it/s]\n"
     ]
    },
    {
     "name": "stdout",
     "output_type": "stream",
     "text": [
      "(56, 56, 89)\n",
      "(56, 56, 89)\n"
     ]
    },
    {
     "name": "stderr",
     "output_type": "stream",
     "text": [
      "100%|██████████| 56/56 [00:00<00:00, 869.32it/s]\n",
      " 28%|██▊       | 16/58 [00:02<00:06,  6.07it/s]"
     ]
    },
    {
     "name": "stdout",
     "output_type": "stream",
     "text": [
      "(59, 77, 77)\n",
      "(59, 77, 77)\n"
     ]
    },
    {
     "name": "stderr",
     "output_type": "stream",
     "text": [
      "100%|██████████| 59/59 [00:00<00:00, 901.23it/s]\n"
     ]
    },
    {
     "name": "stdout",
     "output_type": "stream",
     "text": [
      "(59, 77, 77)\n",
      "(59, 77, 77)\n"
     ]
    },
    {
     "name": "stderr",
     "output_type": "stream",
     "text": [
      "100%|██████████| 59/59 [00:00<00:00, 459.90it/s]\n",
      " 29%|██▉       | 17/58 [00:03<00:07,  5.36it/s]"
     ]
    },
    {
     "name": "stdout",
     "output_type": "stream",
     "text": [
      "(62, 84, 84)\n",
      "(62, 84, 84)\n"
     ]
    },
    {
     "name": "stderr",
     "output_type": "stream",
     "text": [
      "100%|██████████| 62/62 [00:00<00:00, 856.85it/s]\n"
     ]
    },
    {
     "name": "stdout",
     "output_type": "stream",
     "text": [
      "(62, 84, 84)\n",
      "(62, 84, 84)\n"
     ]
    },
    {
     "name": "stderr",
     "output_type": "stream",
     "text": [
      "100%|██████████| 62/62 [00:00<00:00, 774.22it/s]\n",
      " 31%|███       | 18/58 [00:03<00:07,  5.18it/s]"
     ]
    },
    {
     "name": "stdout",
     "output_type": "stream",
     "text": [
      "(69, 108, 96)\n",
      "(69, 108, 96)\n"
     ]
    },
    {
     "name": "stderr",
     "output_type": "stream",
     "text": [
      "100%|██████████| 69/69 [00:00<00:00, 828.18it/s]\n"
     ]
    },
    {
     "name": "stdout",
     "output_type": "stream",
     "text": [
      "(69, 108, 96)\n",
      "(69, 108, 96)\n"
     ]
    },
    {
     "name": "stderr",
     "output_type": "stream",
     "text": [
      "100%|██████████| 69/69 [00:00<00:00, 811.02it/s]\n",
      " 33%|███▎      | 19/58 [00:03<00:08,  4.61it/s]"
     ]
    },
    {
     "name": "stdout",
     "output_type": "stream",
     "text": [
      "(66, 58, 87)\n",
      "(66, 58, 87)\n"
     ]
    },
    {
     "name": "stderr",
     "output_type": "stream",
     "text": [
      "100%|██████████| 66/66 [00:00<00:00, 686.72it/s]\n"
     ]
    },
    {
     "name": "stdout",
     "output_type": "stream",
     "text": [
      "(66, 58, 87)\n",
      "(66, 58, 87)\n"
     ]
    },
    {
     "name": "stderr",
     "output_type": "stream",
     "text": [
      "100%|██████████| 66/66 [00:00<00:00, 804.43it/s]\n",
      " 34%|███▍      | 20/58 [00:03<00:08,  4.55it/s]"
     ]
    },
    {
     "name": "stdout",
     "output_type": "stream",
     "text": [
      "(63, 86, 75)\n",
      "(63, 86, 75)\n"
     ]
    },
    {
     "name": "stderr",
     "output_type": "stream",
     "text": [
      "100%|██████████| 63/63 [00:00<00:00, 707.91it/s]\n"
     ]
    },
    {
     "name": "stdout",
     "output_type": "stream",
     "text": [
      "(63, 86, 75)\n",
      "(63, 86, 75)\n"
     ]
    },
    {
     "name": "stderr",
     "output_type": "stream",
     "text": [
      "100%|██████████| 63/63 [00:00<00:00, 770.59it/s]\n",
      " 36%|███▌      | 21/58 [00:04<00:08,  4.44it/s]"
     ]
    },
    {
     "name": "stdout",
     "output_type": "stream",
     "text": [
      "(75, 90, 102)\n",
      "(75, 90, 102)\n"
     ]
    },
    {
     "name": "stderr",
     "output_type": "stream",
     "text": [
      "100%|██████████| 75/75 [00:00<00:00, 990.91it/s]\n"
     ]
    },
    {
     "name": "stdout",
     "output_type": "stream",
     "text": [
      "(75, 90, 102)\n",
      "(75, 90, 102)\n"
     ]
    },
    {
     "name": "stderr",
     "output_type": "stream",
     "text": [
      "100%|██████████| 75/75 [00:00<00:00, 984.80it/s]\n",
      " 38%|███▊      | 22/58 [00:04<00:08,  4.35it/s]"
     ]
    },
    {
     "name": "stdout",
     "output_type": "stream",
     "text": [
      "(63, 85, 96)\n",
      "(63, 85, 96)\n"
     ]
    },
    {
     "name": "stderr",
     "output_type": "stream",
     "text": [
      "100%|██████████| 63/63 [00:00<00:00, 976.46it/s]\n"
     ]
    },
    {
     "name": "stdout",
     "output_type": "stream",
     "text": [
      "(63, 85, 96)\n",
      "(63, 85, 96)\n"
     ]
    },
    {
     "name": "stderr",
     "output_type": "stream",
     "text": [
      "100%|██████████| 63/63 [00:00<00:00, 938.95it/s]\n",
      " 40%|███▉      | 23/58 [00:04<00:07,  4.53it/s]"
     ]
    },
    {
     "name": "stdout",
     "output_type": "stream",
     "text": [
      "(68, 70, 68)\n",
      "(68, 70, 68)\n"
     ]
    },
    {
     "name": "stderr",
     "output_type": "stream",
     "text": [
      "100%|██████████| 68/68 [00:00<00:00, 780.28it/s]\n"
     ]
    },
    {
     "name": "stdout",
     "output_type": "stream",
     "text": [
      "(68, 70, 68)\n",
      "(68, 70, 68)\n"
     ]
    },
    {
     "name": "stderr",
     "output_type": "stream",
     "text": [
      "100%|██████████| 68/68 [00:00<00:00, 1058.18it/s]\n",
      " 41%|████▏     | 24/58 [00:04<00:07,  4.69it/s]"
     ]
    },
    {
     "name": "stdout",
     "output_type": "stream",
     "text": [
      "(62, 77, 83)\n",
      "(62, 77, 83)\n"
     ]
    },
    {
     "name": "stderr",
     "output_type": "stream",
     "text": [
      "100%|██████████| 62/62 [00:00<00:00, 495.02it/s]\n"
     ]
    },
    {
     "name": "stdout",
     "output_type": "stream",
     "text": [
      "(62, 77, 83)\n",
      "(62, 77, 83)\n"
     ]
    },
    {
     "name": "stderr",
     "output_type": "stream",
     "text": [
      "100%|██████████| 62/62 [00:00<00:00, 848.91it/s]\n",
      " 43%|████▎     | 25/58 [00:04<00:07,  4.44it/s]"
     ]
    },
    {
     "name": "stdout",
     "output_type": "stream",
     "text": [
      "(70, 95, 66)\n",
      "(70, 95, 66)\n"
     ]
    },
    {
     "name": "stderr",
     "output_type": "stream",
     "text": [
      "100%|██████████| 70/70 [00:00<00:00, 1167.40it/s]\n"
     ]
    },
    {
     "name": "stdout",
     "output_type": "stream",
     "text": [
      "(70, 95, 66)\n",
      "(70, 95, 66)\n"
     ]
    },
    {
     "name": "stderr",
     "output_type": "stream",
     "text": [
      "100%|██████████| 70/70 [00:00<00:00, 933.64it/s]\n",
      " 45%|████▍     | 26/58 [00:05<00:06,  4.69it/s]"
     ]
    },
    {
     "name": "stdout",
     "output_type": "stream",
     "text": [
      "(57, 72, 100)\n",
      "(57, 72, 100)\n"
     ]
    },
    {
     "name": "stderr",
     "output_type": "stream",
     "text": [
      "100%|██████████| 57/57 [00:00<00:00, 993.03it/s]\n"
     ]
    },
    {
     "name": "stdout",
     "output_type": "stream",
     "text": [
      "(57, 72, 100)\n",
      "(57, 72, 100)\n"
     ]
    },
    {
     "name": "stderr",
     "output_type": "stream",
     "text": [
      "100%|██████████| 57/57 [00:00<00:00, 853.82it/s]\n",
      " 47%|████▋     | 27/58 [00:05<00:06,  4.97it/s]"
     ]
    },
    {
     "name": "stdout",
     "output_type": "stream",
     "text": [
      "(68, 73, 82)\n",
      "(68, 73, 82)\n"
     ]
    },
    {
     "name": "stderr",
     "output_type": "stream",
     "text": [
      "100%|██████████| 68/68 [00:00<00:00, 1072.34it/s]\n"
     ]
    },
    {
     "name": "stdout",
     "output_type": "stream",
     "text": [
      "(68, 73, 82)\n",
      "(68, 73, 82)\n"
     ]
    },
    {
     "name": "stderr",
     "output_type": "stream",
     "text": [
      "100%|██████████| 68/68 [00:00<00:00, 970.90it/s]\n",
      " 48%|████▊     | 28/58 [00:05<00:05,  5.11it/s]"
     ]
    },
    {
     "name": "stdout",
     "output_type": "stream",
     "text": [
      "(55, 86, 85)\n",
      "(55, 86, 85)\n"
     ]
    },
    {
     "name": "stderr",
     "output_type": "stream",
     "text": [
      "100%|██████████| 55/55 [00:00<00:00, 970.19it/s]\n"
     ]
    },
    {
     "name": "stdout",
     "output_type": "stream",
     "text": [
      "(55, 86, 85)\n",
      "(55, 86, 85)\n"
     ]
    },
    {
     "name": "stderr",
     "output_type": "stream",
     "text": [
      "100%|██████████| 55/55 [00:00<00:00, 850.34it/s]\n",
      " 50%|█████     | 29/58 [00:05<00:05,  5.32it/s]"
     ]
    },
    {
     "name": "stdout",
     "output_type": "stream",
     "text": [
      "(58, 82, 100)\n",
      "(58, 82, 100)\n"
     ]
    },
    {
     "name": "stderr",
     "output_type": "stream",
     "text": [
      "100%|██████████| 58/58 [00:00<00:00, 962.38it/s]\n"
     ]
    },
    {
     "name": "stdout",
     "output_type": "stream",
     "text": [
      "(58, 82, 100)\n",
      "(58, 82, 100)\n"
     ]
    },
    {
     "name": "stderr",
     "output_type": "stream",
     "text": [
      "100%|██████████| 58/58 [00:00<00:00, 940.54it/s]\n",
      " 52%|█████▏    | 30/58 [00:05<00:05,  5.37it/s]"
     ]
    },
    {
     "name": "stdout",
     "output_type": "stream",
     "text": [
      "(62, 86, 66)\n",
      "(62, 86, 66)\n"
     ]
    },
    {
     "name": "stderr",
     "output_type": "stream",
     "text": [
      "100%|██████████| 62/62 [00:00<00:00, 1085.62it/s]\n"
     ]
    },
    {
     "name": "stdout",
     "output_type": "stream",
     "text": [
      "(62, 86, 66)\n",
      "(62, 86, 66)\n"
     ]
    },
    {
     "name": "stderr",
     "output_type": "stream",
     "text": [
      "100%|██████████| 62/62 [00:00<00:00, 775.32it/s]\n",
      " 53%|█████▎    | 31/58 [00:06<00:04,  5.41it/s]"
     ]
    },
    {
     "name": "stdout",
     "output_type": "stream",
     "text": [
      "(64, 64, 71)\n",
      "(64, 64, 71)\n"
     ]
    },
    {
     "name": "stderr",
     "output_type": "stream",
     "text": [
      "100%|██████████| 64/64 [00:00<00:00, 1106.59it/s]\n"
     ]
    },
    {
     "name": "stdout",
     "output_type": "stream",
     "text": [
      "(64, 64, 71)\n",
      "(64, 64, 71)\n"
     ]
    },
    {
     "name": "stderr",
     "output_type": "stream",
     "text": [
      "100%|██████████| 64/64 [00:00<00:00, 1094.58it/s]\n",
      " 55%|█████▌    | 32/58 [00:06<00:04,  5.66it/s]"
     ]
    },
    {
     "name": "stdout",
     "output_type": "stream",
     "text": [
      "(65, 72, 86)\n",
      "(65, 72, 86)\n"
     ]
    },
    {
     "name": "stderr",
     "output_type": "stream",
     "text": [
      "100%|██████████| 65/65 [00:00<00:00, 560.29it/s]\n"
     ]
    },
    {
     "name": "stdout",
     "output_type": "stream",
     "text": [
      "(65, 72, 86)\n",
      "(65, 72, 86)\n"
     ]
    },
    {
     "name": "stderr",
     "output_type": "stream",
     "text": [
      "100%|██████████| 65/65 [00:00<00:00, 886.08it/s]\n",
      " 57%|█████▋    | 33/58 [00:06<00:04,  5.08it/s]"
     ]
    },
    {
     "name": "stdout",
     "output_type": "stream",
     "text": [
      "(64, 63, 69)\n",
      "(64, 63, 69)\n"
     ]
    },
    {
     "name": "stderr",
     "output_type": "stream",
     "text": [
      "100%|██████████| 64/64 [00:00<00:00, 1047.32it/s]\n"
     ]
    },
    {
     "name": "stdout",
     "output_type": "stream",
     "text": [
      "(64, 63, 69)\n",
      "(64, 63, 69)\n"
     ]
    },
    {
     "name": "stderr",
     "output_type": "stream",
     "text": [
      "100%|██████████| 64/64 [00:00<00:00, 840.14it/s]\n",
      "100%|██████████| 58/58 [00:06<00:00,  8.79it/s]"
     ]
    },
    {
     "name": "stdout",
     "output_type": "stream",
     "text": [
      "Skip\n",
      "Skip\n",
      "Skip\n",
      "Skip\n",
      "Skip\n",
      "Skip\n",
      "Skip\n",
      "Skip\n",
      "Skip\n",
      "Skip\n",
      "Skip\n",
      "Skip\n",
      "Skip\n",
      "Skip\n",
      "Skip\n",
      "Skip\n",
      "Skip\n",
      "Skip\n",
      "Skip\n",
      "Skip\n",
      "Skip\n",
      "Skip\n",
      "Skip\n",
      "Skip\n"
     ]
    },
    {
     "name": "stderr",
     "output_type": "stream",
     "text": [
      "\n"
     ]
    }
   ],
   "source": [
    "def correlate_mask_nans (a,b):\n",
    "    bad = ~np.logical_or(np.isnan(a), np.isnan(b))\n",
    "    good_a = np.compress(bad, a)\n",
    "    good_b = np.compress(bad, b)\n",
    "    if len(good_a) < 2 or len(good_b) < 2:\n",
    "        return np.nan, np.nan\n",
    "    return scipy.stats.pearsonr(good_a, good_b)\n",
    "\n",
    "corrs_shifted = compare_shifted(shifted_imgs, fn = lambda a,b :correlate_mask_nans(a,b)[0], per_frame=True, flatten=True)"
   ]
  },
  {
   "cell_type": "code",
   "execution_count": 29,
   "metadata": {},
   "outputs": [
    {
     "data": {
      "text/plain": [
       "Text(0.5, 0.98, 'POLR2* vs. Hoechst - per frame - correlations')"
      ]
     },
     "execution_count": 29,
     "metadata": {},
     "output_type": "execute_result"
    },
    {
     "data": {
      "image/png": "[encoded data removed]",
      "text/plain": [
       "<Figure size 640x480 with 11 Axes>"
      ]
     },
     "metadata": {},
     "output_type": "display_data"
    }
   ],
   "source": [
    "to_plot = {k : np.ravel(v[0]) for k, v in corrs_shifted.items()}\n",
    "fig, axes = plt.subplots(ncols=1, nrows=len(to_plot), sharex=True)\n",
    "\n",
    "for i in range(len(corrs_shifted.keys())):\n",
    "    k = list(to_plot.keys())[i]\n",
    "    ax_to_use = axes[i]\n",
    "    sns.kdeplot(x=np.ravel(corrs_shifted[k][0]), ax=ax_to_use, label=k,alpha=0.25,c=\"b\")\n",
    "    sns.kdeplot(x=np.ravel(corrs_shifted[k][1]), ax=ax_to_use, label=k,c=\"b\")\n",
    "    ax_to_use.set_ylabel(\"\")\n",
    "    ax_to_use.set_yticks([])\n",
    "    ax_to_use.set_xlim((-1.1,1.1))\n",
    "    ax_to_use.text(0.01,0.5, k, transform=ax_to_use.transAxes, size=9)\n",
    "\n",
    "fig.supylabel(\"Density\")\n",
    "fig.suptitle(\"POLR2* vs. Hoechst - per frame - correlations\")"
   ]
  },
  {
   "cell_type": "code",
   "execution_count": 28,
   "metadata": {},
   "outputs": [],
   "source": [
    "import pickle\n",
    "with open(\"pol_shifted_imgs.pickle\", \"wb\") as output_file:\n",
    "    pickle.dump(shifted_imgs, output_file)"
   ]
  },
  {
   "cell_type": "code",
   "execution_count": 9,
   "metadata": {},
   "outputs": [],
   "source": [
    "import pickle\n",
    "with open(\"pol_shifted_imgs.pickle\", \"rb\") as input_file:\n",
    "    shifted_imgs = pickle.load(input_file)"
   ]
  },
  {
   "cell_type": "markdown",
   "metadata": {},
   "source": [
    "### heterochromatin correlations"
   ]
  },
  {
   "cell_type": "code",
   "execution_count": 10,
   "metadata": {},
   "outputs": [],
   "source": [
    "def generate_brightness_filtered(a,b,pct_cutoff=0.60,comparison=lambda x,cutoff:np.where(x>cutoff), show_imgs=False):\n",
    "    good = ~np.logical_or(np.isnan(a), np.isnan(b))\n",
    "    good_a = a[good]\n",
    "    good_b = b[good]\n",
    "    if len(good_a) < 2 or len(good_b) < 2:\n",
    "        return np.nan, np.nan\n",
    "    cutoff = np.quantile(good_a, pct_cutoff)\n",
    "    het_a = good_a[comparison(good_a,cutoff)]\n",
    "    het_b = good_b[comparison(good_a,cutoff)]\n",
    "    return het_a, het_b\n",
    "\n",
    "def correlate_het_mask_nans (a,b,cutoff=0.60,show_imgs = False):\n",
    "    het_a, het_b = generate_brightness_filtered(a,b,pct_cutoff=cutoff,comparison=lambda x,cutoff:np.where(x>cutoff),show_imgs=show_imgs)\n",
    "    if len(het_a) < 2 or len(het_b) < 2:\n",
    "        return np.nan, np.nan\n",
    "    return scipy.stats.pearsonr(np.ravel(het_a), np.ravel(het_b))\n",
    "\n",
    "def correlate_euc_mask_nans (a,b,cutoff=0.60,show_imgs = False):\n",
    "    euc_a, euc_b = generate_brightness_filtered(a,b,pct_cutoff=cutoff,comparison=lambda x,cutoff:np.where(x<=cutoff),show_imgs=show_imgs)\n",
    "    if len(euc_a) < 2 or len(euc_b) < 2:\n",
    "        return np.nan, np.nan\n",
    "    return scipy.stats.pearsonr(np.ravel(euc_a), np.ravel(euc_b))\n",
    "\n",
    "def pixel_vals_het_mask_nans (a,b,cutoff=0.60,show_imgs = False):\n",
    "    het_a, het_b = generate_brightness_filtered(a,b,pct_cutoff=cutoff,comparison=lambda x,cutoff:np.where(x>cutoff),show_imgs=show_imgs)\n",
    "    if len(het_a) < 2 or len(het_b) < 2:\n",
    "        return np.nan, np.nan\n",
    "    return np.ravel(het_a), np.ravel(het_b)\n",
    "\n",
    "def pixel_vals_euc_mask_nans (a,b,cutoff=0.60,show_imgs = False):\n",
    "    euc_a, euc_b = generate_brightness_filtered(a,b,pct_cutoff=cutoff,comparison=lambda x,cutoff:np.where(x<=cutoff),show_imgs=show_imgs)\n",
    "    if len(euc_a) < 2 or len(euc_b) < 2:\n",
    "        return np.nan, np.nan\n",
    "    return np.ravel(euc_a), np.ravel(euc_b)\n",
    "\n",
    "\n",
    "def plot_subunit_kde_shiftedres (subunit_dict, title=None):\n",
    "    fig, axes = plt.subplots(ncols=1, nrows=len(subunit_dict), sharex=True)\n",
    "\n",
    "    for i in range(len(subunit_dict.keys())):\n",
    "        k = list(subunit_dict.keys())[i]\n",
    "        ax_to_use = axes[i]\n",
    "        shifted = np.hstack([x[1] for x in subunit_dict[k]])\n",
    "        sns.kdeplot(x=shifted, ax=ax_to_use, label=k)\n",
    "        ax_to_use.set_ylabel(\"\")\n",
    "        ax_to_use.set_yticks([])\n",
    "        ax_to_use.set_xlim((-1,1))\n",
    "        ax_to_use.text(0.01,0.5, k, transform=ax_to_use.transAxes, size=9)\n",
    "\n",
    "    fig.supylabel(\"Density\")\n",
    "    fig.suptitle(title)"
   ]
  },
  {
   "cell_type": "code",
   "execution_count": 11,
   "metadata": {},
   "outputs": [
    {
     "name": "stderr",
     "output_type": "stream",
     "text": [
      "100%|██████████| 76/76 [00:04<00:00, 15.74it/s]\n",
      "100%|██████████| 753/753 [00:02<00:00, 274.73it/s]\n",
      "100%|██████████| 48/48 [00:02<00:00, 18.18it/s]\n",
      "100%|██████████| 182/182 [00:02<00:00, 80.03it/s]\n",
      "100%|██████████| 228/228 [00:02<00:00, 92.90it/s] \n",
      "100%|██████████| 410/410 [00:02<00:00, 159.31it/s]\n",
      "100%|██████████| 91/91 [00:02<00:00, 37.50it/s]\n",
      "100%|██████████| 53/53 [00:02<00:00, 24.82it/s]\n",
      "100%|██████████| 46/46 [00:01<00:00, 24.23it/s]\n",
      "100%|██████████| 57/57 [00:02<00:00, 28.15it/s]\n",
      "100%|██████████| 58/58 [00:03<00:00, 19.02it/s]\n",
      "100%|██████████| 76/76 [00:05<00:00, 14.71it/s]\n",
      "100%|██████████| 753/753 [00:02<00:00, 361.29it/s]\n",
      "100%|██████████| 48/48 [00:01<00:00, 29.93it/s]\n",
      "100%|██████████| 182/182 [00:01<00:00, 131.66it/s]\n",
      "100%|██████████| 228/228 [00:01<00:00, 144.11it/s]\n",
      "100%|██████████| 410/410 [00:01<00:00, 268.71it/s]\n",
      "100%|██████████| 91/91 [00:01<00:00, 60.51it/s]\n",
      "100%|██████████| 53/53 [00:01<00:00, 40.84it/s]\n",
      "100%|██████████| 46/46 [00:01<00:00, 39.98it/s]\n",
      "100%|██████████| 57/57 [00:01<00:00, 44.09it/s]\n",
      "100%|██████████| 58/58 [00:01<00:00, 32.39it/s]\n"
     ]
    }
   ],
   "source": [
    "hoechst_het_corrs_shifted = compare_shifted(shifted_res, fn = lambda a,b :correlate_het_mask_nans(a,b)[0], per_frame=False, flatten=True, artifact_filter_level=50)\n",
    "hoechst_het_vals_shifted = compare_shifted(shifted_res, fn = lambda a,b :pixel_vals_het_mask_nans(a,b), per_frame=False, flatten=True, artifact_filter_level=50)"
   ]
  },
  {
   "cell_type": "code",
   "execution_count": 12,
   "metadata": {},
   "outputs": [
    {
     "name": "stderr",
     "output_type": "stream",
     "text": [
      "  0%|          | 0/76 [00:00<?, ?it/s]"
     ]
    },
    {
     "name": "stderr",
     "output_type": "stream",
     "text": [
      "100%|██████████| 76/76 [00:07<00:00, 10.41it/s]\n",
      "100%|██████████| 753/753 [00:03<00:00, 244.68it/s]\n",
      "100%|██████████| 48/48 [00:03<00:00, 15.75it/s]\n",
      "100%|██████████| 182/182 [00:03<00:00, 46.09it/s]\n",
      "100%|██████████| 228/228 [00:03<00:00, 65.16it/s] \n",
      "100%|██████████| 410/410 [00:03<00:00, 126.46it/s]\n",
      "100%|██████████| 91/91 [00:02<00:00, 33.30it/s]\n",
      "100%|██████████| 53/53 [00:02<00:00, 22.21it/s]\n",
      "100%|██████████| 46/46 [00:01<00:00, 26.09it/s]\n",
      "100%|██████████| 57/57 [00:01<00:00, 33.68it/s]\n",
      "100%|██████████| 58/58 [00:02<00:00, 22.75it/s]\n",
      "100%|██████████| 76/76 [00:03<00:00, 23.27it/s]\n",
      "100%|██████████| 753/753 [00:01<00:00, 489.14it/s]\n",
      "100%|██████████| 48/48 [00:01<00:00, 28.98it/s]\n",
      "100%|██████████| 182/182 [00:01<00:00, 111.98it/s]\n",
      "100%|██████████| 228/228 [00:01<00:00, 116.65it/s]\n",
      "100%|██████████| 410/410 [00:01<00:00, 235.79it/s]\n",
      "100%|██████████| 91/91 [00:01<00:00, 60.35it/s]\n",
      "100%|██████████| 53/53 [00:01<00:00, 39.24it/s]\n",
      "100%|██████████| 46/46 [00:01<00:00, 38.53it/s]\n",
      "100%|██████████| 57/57 [00:01<00:00, 43.96it/s]\n",
      "100%|██████████| 58/58 [00:02<00:00, 25.74it/s]\n"
     ]
    }
   ],
   "source": [
    "hoechst_euc_corrs_shifted = compare_shifted(shifted_res, fn = lambda a,b :correlate_euc_mask_nans(a,b)[0], per_frame=False, flatten=True, artifact_filter_level=50)\n",
    "hoechst_euc_vals_shifted = compare_shifted(shifted_res, fn = lambda a,b :pixel_vals_euc_mask_nans(a,b), per_frame=False, flatten=True, artifact_filter_level=50)"
   ]
  },
  {
   "cell_type": "code",
   "execution_count": 62,
   "metadata": {},
   "outputs": [
    {
     "data": {
      "image/png": "[encoded data removed]",
      "text/plain": [
       "<Figure size 640x480 with 11 Axes>"
      ]
     },
     "metadata": {},
     "output_type": "display_data"
    }
   ],
   "source": [
    "plot_subunit_kde_shiftedres(hoechst_het_corrs_shifted)"
   ]
  },
  {
   "cell_type": "code",
   "execution_count": 63,
   "metadata": {},
   "outputs": [
    {
     "data": {
      "image/png": "[encoded data removed]",
      "text/plain": [
       "<Figure size 640x480 with 11 Axes>"
      ]
     },
     "metadata": {},
     "output_type": "display_data"
    }
   ],
   "source": [
    "plot_subunit_kde_shiftedres(hoechst_euc_corrs_shifted)"
   ]
  },
  {
   "cell_type": "code",
   "execution_count": 24,
   "metadata": {},
   "outputs": [
    {
     "data": {
      "text/plain": [
       "[2,\n",
       " 2,\n",
       " 2,\n",
       " 2,\n",
       " 2,\n",
       " 2,\n",
       " 2,\n",
       " 2,\n",
       " 2,\n",
       " 2,\n",
       " 2,\n",
       " 2,\n",
       " 2,\n",
       " 2,\n",
       " 2,\n",
       " 2,\n",
       " 2,\n",
       " 2,\n",
       " 2,\n",
       " 2,\n",
       " 2,\n",
       " 2,\n",
       " 2,\n",
       " 2,\n",
       " 2,\n",
       " 2,\n",
       " 2,\n",
       " 2,\n",
       " 2,\n",
       " 2,\n",
       " 2,\n",
       " 2,\n",
       " 2,\n",
       " 2,\n",
       " 2,\n",
       " 2,\n",
       " 2,\n",
       " 2,\n",
       " 2,\n",
       " 2,\n",
       " 2,\n",
       " 2,\n",
       " 2,\n",
       " 2,\n",
       " 2,\n",
       " 2,\n",
       " 2,\n",
       " 2,\n",
       " 2,\n",
       " 2,\n",
       " 2,\n",
       " 2,\n",
       " 2,\n",
       " 2,\n",
       " 2,\n",
       " 2,\n",
       " 2,\n",
       " 2,\n",
       " 2,\n",
       " 2]"
      ]
     },
     "execution_count": 24,
     "metadata": {},
     "output_type": "execute_result"
    }
   ],
   "source": [
    "[len(x[1]) for x in hoechst_het_vals_shifted[\"POLR2A\"]]"
   ]
  },
  {
   "cell_type": "markdown",
   "metadata": {},
   "source": [
    "#### sanity check"
   ]
  },
  {
   "cell_type": "code",
   "execution_count": 18,
   "metadata": {},
   "outputs": [
    {
     "name": "stdout",
     "output_type": "stream",
     "text": [
      "POLR2A\n",
      "POLR2A\n",
      "POLR2B\n",
      "POLR2C\n",
      "POLR2D\n",
      "POLR2E\n",
      "POLR2F\n",
      "POLR2G\n",
      "POLR2H\n",
      "POLR2I\n",
      "POLR2K\n"
     ]
    },
    {
     "data": {
      "text/plain": [
       "Text(0.02, 0.5, 'Density')"
      ]
     },
     "execution_count": 18,
     "metadata": {},
     "output_type": "execute_result"
    },
    {
     "data": {
      "image/png": "[encoded data removed]",
      "text/plain": [
       "<Figure size 640x480 with 11 Axes>"
      ]
     },
     "metadata": {},
     "output_type": "display_data"
    }
   ],
   "source": [
    "fig, axes = plt.subplots(ncols=1, nrows=len(hoechst_het_vals_shifted), sharex=True)\n",
    "\n",
    "subunits =list(hoechst_het_vals_shifted.keys())\n",
    "for i in range(len(subunits)):\n",
    "    print(k)\n",
    "    k = subunits[i]\n",
    "    ax_to_use = axes[i]\n",
    "    het_vals = np.hstack([x[1][0] for x in hoechst_het_vals_shifted[k]])\n",
    "    euc_vals = np.hstack([x[1][0] for x in hoechst_euc_vals_shifted[k]])\n",
    "    sns.kdeplot(x=het_vals, ax=ax_to_use, label=k,c='tab:orange')\n",
    "    sns.kdeplot(x=euc_vals, ax=ax_to_use,c='tab:blue')\n",
    "    ax_to_use.set_ylabel(\"\")\n",
    "    ax_to_use.set_yticks([])\n",
    "    #ax_to_use.set_xlim(0,20000)\n",
    "    ax_to_use.text(0.01,0.5, k, transform=ax_to_use.transAxes, size=9)\n",
    "\n",
    "fig.supylabel(\"Density\")\n",
    "#fig.suptitle(title)"
   ]
  },
  {
   "cell_type": "markdown",
   "metadata": {},
   "source": [
    "#### Protein brightnesses"
   ]
  },
  {
   "cell_type": "code",
   "execution_count": null,
   "metadata": {},
   "outputs": [
    {
     "name": "stdout",
     "output_type": "stream",
     "text": [
      "POLR2J\n",
      "POLR2A\n",
      "POLR2B\n",
      "POLR2C\n",
      "POLR2D\n",
      "POLR2E\n",
      "POLR2F\n",
      "POLR2G\n",
      "POLR2H\n",
      "POLR2I\n",
      "POLR2K\n"
     ]
    },
    {
     "data": {
      "text/plain": [
       "Text(0.02, 0.5, 'Density')"
      ]
     },
     "execution_count": 19,
     "metadata": {},
     "output_type": "execute_result"
    },
    {
     "data": {
      "image/png": "[encoded data removed]",
      "text/plain": [
       "<Figure size 640x480 with 11 Axes>"
      ]
     },
     "metadata": {},
     "output_type": "display_data"
    }
   ],
   "source": [
    "fig, axes = plt.subplots(ncols=1, nrows=len(hoechst_het_vals_shifted), sharex=True)\n",
    "\n",
    "subunits =list(hoechst_het_vals_shifted.keys())\n",
    "for i in range(len(subunits)):\n",
    "    print(k)\n",
    "    k = subunits[i]\n",
    "    ax_to_use = axes[i]\n",
    "    het_vals = np.hstack([x[1][1] for x in hoechst_het_vals_shifted[k]])\n",
    "    euc_vals = np.hstack([x[1][1] for x in hoechst_euc_vals_shifted[k]])\n",
    "    sns.kdeplot(x=het_vals, ax=ax_to_use, label=k,c='tab:orange')\n",
    "    sns.kdeplot(x=euc_vals, ax=ax_to_use,c='tab:blue')\n",
    "    ax_to_use.set_ylabel(\"\")\n",
    "    ax_to_use.set_yticks([])\n",
    "    #ax_to_use.set_xlim(0,20000)\n",
    "    ax_to_use.text(0.01,0.5, k, transform=ax_to_use.transAxes, size=9)\n",
    "\n",
    "fig.supylabel(\"Density\")\n",
    "#fig.suptitle(title)"
   ]
  },
  {
   "cell_type": "markdown",
   "metadata": {},
   "source": [
    "#### heterochromatin brightness comp"
   ]
  },
  {
   "cell_type": "code",
   "execution_count": 8,
   "metadata": {},
   "outputs": [
    {
     "ename": "NameError",
     "evalue": "name 'hoechst_het_vals_shifted' is not defined",
     "output_type": "error",
     "traceback": [
      "\u001b[0;31m---------------------------------------------------------------------------\u001b[0m",
      "\u001b[0;31mNameError\u001b[0m                                 Traceback (most recent call last)",
      "\u001b[1;32m/Users/amulya/Desktop/Buenrostro_Lab/intranuclear-structures/compare_subunits_v1.ipynb Cell 41\u001b[0m line \u001b[0;36m1\n\u001b[0;32m----> <a href='vscode-notebook-cell:/Users/amulya/Desktop/Buenrostro_Lab/intranuclear-structures/compare_subunits_v1.ipynb#X55sZmlsZQ%3D%3D?line=0'>1</a>\u001b[0m fig, axes \u001b[39m=\u001b[39m plt\u001b[39m.\u001b[39msubplots(ncols\u001b[39m=\u001b[39m\u001b[39mint\u001b[39m(np\u001b[39m.\u001b[39msqrt(\u001b[39mlen\u001b[39m(hoechst_het_vals_shifted))), nrows\u001b[39m=\u001b[39m\u001b[39mint\u001b[39m(np\u001b[39m.\u001b[39mceil(np\u001b[39m.\u001b[39msqrt(\u001b[39mlen\u001b[39m(hoechst_het_vals_shifted)))))\n\u001b[1;32m      <a href='vscode-notebook-cell:/Users/amulya/Desktop/Buenrostro_Lab/intranuclear-structures/compare_subunits_v1.ipynb#X55sZmlsZQ%3D%3D?line=1'>2</a>\u001b[0m axes_flat \u001b[39m=\u001b[39m np\u001b[39m.\u001b[39mravel(axes)\n\u001b[1;32m      <a href='vscode-notebook-cell:/Users/amulya/Desktop/Buenrostro_Lab/intranuclear-structures/compare_subunits_v1.ipynb#X55sZmlsZQ%3D%3D?line=2'>3</a>\u001b[0m subunits \u001b[39m=\u001b[39m\u001b[39mlist\u001b[39m(hoechst_het_vals_shifted\u001b[39m.\u001b[39mkeys())\n",
      "\u001b[0;31mNameError\u001b[0m: name 'hoechst_het_vals_shifted' is not defined"
     ]
    }
   ],
   "source": [
    "fig, axes = plt.subplots(ncols=int(np.sqrt(len(hoechst_het_vals_shifted))), nrows=int(np.ceil(np.sqrt(len(hoechst_het_vals_shifted)))))\n",
    "axes_flat = np.ravel(axes)\n",
    "subunits =list(hoechst_het_vals_shifted.keys())\n",
    "for i in range(len(subunits)):\n",
    "    k = subunits[i]\n",
    "    print(k)\n",
    "    ax_to_use = axes_flat[i]\n",
    "    hoechst_vals = np.hstack([x[1][0] for x in hoechst_het_vals_shifted[k]])\n",
    "    prot_vals = np.hstack([x[1][1] for x in hoechst_het_vals_shifted[k]])\n",
    "    # euc_vals = np.hstack([x[1][0] for x in hoechst_euc_vals_shifted[k]])\n",
    "    sns.histplot(x=hoechst_vals, y=prot_vals, ax=ax_to_use,kde=True)\n",
    "    ax_to_use.set_ylabel(\"\")\n",
    "    ax_to_use.set_yticks([])\n",
    "    ax_to_use.set_xlabel(\"\")\n",
    "    ax_to_use.set_xticks([])\n",
    "    #ax_to_use.set_xlim(0,20000)\n",
    "    ax_to_use.text(0.02,0.8, k, transform=ax_to_use.transAxes, size=9)\n",
    "\n",
    "fig.delaxes(axes_flat[-1])\n",
    "fig.supylabel(\"Protein stain brightness\")\n",
    "fig.supxlabel(\"Hoechst stain brightness\")\n",
    "\n",
    "#fig.suptitle(title)"
   ]
  },
  {
   "cell_type": "markdown",
   "metadata": {},
   "source": [
    "#### euch brightness comp"
   ]
  },
  {
   "cell_type": "code",
   "execution_count": 19,
   "metadata": {},
   "outputs": [
    {
     "name": "stdout",
     "output_type": "stream",
     "text": [
      "POLR2A\n",
      "POLR2B\n",
      "POLR2C\n",
      "POLR2D\n",
      "POLR2E\n",
      "POLR2F\n",
      "POLR2G\n",
      "POLR2H\n",
      "POLR2I\n",
      "POLR2K\n",
      "POLR2J\n"
     ]
    },
    {
     "data": {
      "text/plain": [
       "Text(0.5, 0.01, 'Hoechst stain brightness')"
      ]
     },
     "execution_count": 19,
     "metadata": {},
     "output_type": "execute_result"
    },
    {
     "data": {
      "image/png": "[encoded data removed]",
      "text/plain": [
       "<Figure size 640x480 with 11 Axes>"
      ]
     },
     "metadata": {},
     "output_type": "display_data"
    }
   ],
   "source": [
    "fig, axes = plt.subplots(ncols=int(np.sqrt(len(hoechst_het_vals_shifted))), nrows=int(np.ceil(np.sqrt(len(hoechst_het_vals_shifted)))))\n",
    "axes_flat = np.ravel(axes)\n",
    "subunits =list(hoechst_het_vals_shifted.keys())\n",
    "for i in range(len(subunits)):\n",
    "    k = subunits[i]\n",
    "    print(k)\n",
    "    ax_to_use = axes_flat[i]\n",
    "    hoechst_vals = np.hstack([x[1][0] for x in hoechst_euc_vals_shifted[k]])\n",
    "    prot_vals = np.hstack([x[1][1] for x in hoechst_euc_vals_shifted[k]])\n",
    "    sns.histplot(x=hoechst_vals, y=prot_vals,kde=True, ax=ax_to_use,legend=False)\n",
    "    ax_to_use.set_ylabel(\"\")\n",
    "    ax_to_use.set_yticks([])\n",
    "    ax_to_use.set_xlabel(\"\")\n",
    "    ax_to_use.set_xticks([])\n",
    "    #ax_to_use.set_xlim(0,20000)\n",
    "    ax_to_use.text(0.02,0.8, k, transform=ax_to_use.transAxes, size=9)\n",
    "\n",
    "fig.delaxes(axes_flat[-1])\n",
    "fig.supylabel(\"Protein stain brightness\")\n",
    "fig.supxlabel(\"Hoechst stain brightness\")\n",
    "#fig.supylabel(\"Density\")\n",
    "#fig.suptitle(title)"
   ]
  },
  {
   "cell_type": "markdown",
   "metadata": {},
   "source": [
    "# brightness w/ artifact removal"
   ]
  },
  {
   "cell_type": "code",
   "execution_count": 12,
   "metadata": {},
   "outputs": [
    {
     "name": "stdout",
     "output_type": "stream",
     "text": [
      "POLR2A\n"
     ]
    },
    {
     "name": "stderr",
     "output_type": "stream",
     "text": [
      "100%|██████████| 76/76 [00:06<00:00, 11.92it/s]\n"
     ]
    },
    {
     "name": "stdout",
     "output_type": "stream",
     "text": [
      "POLR2B\n"
     ]
    },
    {
     "name": "stderr",
     "output_type": "stream",
     "text": [
      "100%|██████████| 753/753 [00:01<00:00, 720.43it/s]\n"
     ]
    },
    {
     "name": "stdout",
     "output_type": "stream",
     "text": [
      "POLR2C\n"
     ]
    },
    {
     "name": "stderr",
     "output_type": "stream",
     "text": [
      "100%|██████████| 48/48 [00:01<00:00, 25.24it/s]\n"
     ]
    },
    {
     "name": "stdout",
     "output_type": "stream",
     "text": [
      "POLR2D\n"
     ]
    },
    {
     "name": "stderr",
     "output_type": "stream",
     "text": [
      "100%|██████████| 182/182 [00:01<00:00, 111.88it/s]\n"
     ]
    },
    {
     "name": "stdout",
     "output_type": "stream",
     "text": [
      "POLR2E\n"
     ]
    },
    {
     "name": "stderr",
     "output_type": "stream",
     "text": [
      "100%|██████████| 228/228 [00:01<00:00, 139.36it/s]\n"
     ]
    },
    {
     "name": "stdout",
     "output_type": "stream",
     "text": [
      "POLR2F\n"
     ]
    },
    {
     "name": "stderr",
     "output_type": "stream",
     "text": [
      "100%|██████████| 410/410 [00:01<00:00, 284.71it/s]\n"
     ]
    },
    {
     "name": "stdout",
     "output_type": "stream",
     "text": [
      "POLR2G\n"
     ]
    },
    {
     "name": "stderr",
     "output_type": "stream",
     "text": [
      "100%|██████████| 91/91 [00:01<00:00, 49.90it/s]\n"
     ]
    },
    {
     "name": "stdout",
     "output_type": "stream",
     "text": [
      "POLR2H\n"
     ]
    },
    {
     "name": "stderr",
     "output_type": "stream",
     "text": [
      "100%|██████████| 53/53 [00:01<00:00, 31.58it/s]\n"
     ]
    },
    {
     "name": "stdout",
     "output_type": "stream",
     "text": [
      "POLR2I\n"
     ]
    },
    {
     "name": "stderr",
     "output_type": "stream",
     "text": [
      "100%|██████████| 46/46 [00:01<00:00, 38.32it/s]\n"
     ]
    },
    {
     "name": "stdout",
     "output_type": "stream",
     "text": [
      "POLR2K\n"
     ]
    },
    {
     "name": "stderr",
     "output_type": "stream",
     "text": [
      "100%|██████████| 57/57 [00:01<00:00, 43.72it/s]\n"
     ]
    },
    {
     "name": "stdout",
     "output_type": "stream",
     "text": [
      "POLR2J\n"
     ]
    },
    {
     "name": "stderr",
     "output_type": "stream",
     "text": [
      "100%|██████████| 58/58 [00:02<00:00, 21.97it/s]\n"
     ]
    }
   ],
   "source": [
    "hoechst_brightnesses = {}\n",
    "for subunit, cells in shifted_res.items():\n",
    "    res = []\n",
    "    print(subunit)\n",
    "    for c in tqdm(cells):\n",
    "        cell_stack_c0, cell_stack_c1, cell_stack_mask, c1_shifted = c\n",
    "        # print(np.shape(cell_stack_c0))\n",
    "        if np.shape(cell_stack_c0)[1] < 50 or np.shape(cell_stack_c0)[2] < 50:\n",
    "            continue \n",
    "        res = res + list((np.ravel(cell_stack_c0[np.where(cell_stack_mask!=0)])))\n",
    "    hoechst_brightnesses[subunit] = np.array(res)"
   ]
  },
  {
   "cell_type": "code",
   "execution_count": 6,
   "metadata": {},
   "outputs": [
    {
     "data": {
      "text/plain": [
       "21758968"
      ]
     },
     "execution_count": 6,
     "metadata": {},
     "output_type": "execute_result"
    }
   ],
   "source": [
    "len(hoechst_brightnesses['POLR2A'])"
   ]
  },
  {
   "cell_type": "code",
   "execution_count": 26,
   "metadata": {},
   "outputs": [
    {
     "name": "stdout",
     "output_type": "stream",
     "text": [
      "POLR2A\n",
      "POLR2B\n",
      "POLR2C\n",
      "POLR2D\n",
      "POLR2E\n",
      "POLR2F\n",
      "POLR2G\n",
      "POLR2H\n",
      "POLR2I\n",
      "POLR2K\n",
      "POLR2J\n"
     ]
    },
    {
     "data": {
      "text/plain": [
       "Text(0.5, 0.98, 'Hoechst Brightnesses')"
      ]
     },
     "execution_count": 26,
     "metadata": {},
     "output_type": "execute_result"
    },
    {
     "data": {
      "image/png": "[encoded data removed]",
      "text/plain": [
       "<Figure size 640x480 with 11 Axes>"
      ]
     },
     "metadata": {},
     "output_type": "display_data"
    }
   ],
   "source": [
    "import pandas as pd\n",
    "fig, axes = plt.subplots(ncols=1, nrows=len(hoechst_brightnesses), sharex=True)\n",
    "\n",
    "for i in range(len(hoechst_brightnesses.keys())):\n",
    "    k = list(hoechst_brightnesses.keys())[i]\n",
    "    print(k)\n",
    "    ax_to_use = axes[i]\n",
    "    #sns.histplot(x=, ax=ax_to_use, label=k,element=\"step\")\n",
    "    het_cutoff = np.quantile(hoechst_brightnesses[k],0.90)\n",
    "    s = pd.DataFrame({'val': hoechst_brightnesses[k], 'col':['1' if x>het_cutoff else '0' for x in hoechst_brightnesses[k]]})\n",
    "    sns.histplot(data=s, x=\"val\", hue=\"col\",element='step',ax=ax_to_use,legend=False)\n",
    "    ax_to_use.set_ylabel(\"\")\n",
    "    ax_to_use.set_yticks([])\n",
    "    ax_to_use.set_xlim((0,5000))\n",
    "    ax_to_use.text(0.01,0.5, k, transform=ax_to_use.transAxes, size=9)\n",
    "\n",
    "fig.supylabel(\"Density\")\n",
    "fig.suptitle(\"Hoechst Brightnesses\")"
   ]
  }
 ],
 "metadata": {
  "kernelspec": {
   "display_name": "cytoself",
   "language": "python",
   "name": "python3"
  },
  "language_info": {
   "codemirror_mode": {
    "name": "ipython",
    "version": 3
   },
   "file_extension": ".py",
   "mimetype": "text/x-python",
   "name": "python",
   "nbconvert_exporter": "python",
   "pygments_lexer": "ipython3",
   "version": "3.9.18"
  },
  "orig_nbformat": 4
 },
 "nbformat": 4,
 "nbformat_minor": 2
}
