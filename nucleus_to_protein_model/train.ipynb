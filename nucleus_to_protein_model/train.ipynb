{
 "cells": [
  {
   "cell_type": "code",
   "execution_count": 10,
   "metadata": {},
   "outputs": [],
   "source": [
    "import torch\n",
    "from pytorch_lightning import Trainer\n",
    "from pytorch_lightning.callbacks import LearningRateMonitor, ModelCheckpoint\n",
    "from pytorch_lightning.loggers import TensorBoardLogger"
   ]
  },
  {
   "cell_type": "code",
   "execution_count": 11,
   "metadata": {},
   "outputs": [],
   "source": [
    "from glob import  glob\n",
    "from n2p_datamodule import Nuc2ProtDM\n",
    "from n2p_dev import Nuc2Prot\n",
    "import numpy as np"
   ]
  },
  {
   "cell_type": "code",
   "execution_count": 5,
   "metadata": {},
   "outputs": [],
   "source": [
    "from hydra import initialize, initialize_config_module, initialize_config_dir, compose"
   ]
  },
  {
   "cell_type": "markdown",
   "metadata": {},
   "source": [
    "# Setup"
   ]
  },
  {
   "cell_type": "code",
   "execution_count": 12,
   "metadata": {},
   "outputs": [
    {
     "ename": "MissingConfigException",
     "evalue": "Cannot find primary config 'config'. Check that it's in your config search path.\n\nConfig search path:\n\tprovider=hydra, path=pkg://hydra.conf\n\tprovider=main, path=file:///Users/amulyagarimella/Desktop/Buenrostro_Lab/intranuclear-structures/nucleus_to_protein_model/config\n\tprovider=schema, path=structured://",
     "output_type": "error",
     "traceback": [
      "\u001b[0;31m---------------------------------------------------------------------------\u001b[0m",
      "\u001b[0;31mMissingConfigException\u001b[0m                    Traceback (most recent call last)",
      "Cell \u001b[0;32mIn[12], line 2\u001b[0m\n\u001b[1;32m      1\u001b[0m \u001b[38;5;28;01mwith\u001b[39;00m initialize(version_base\u001b[38;5;241m=\u001b[39m\u001b[38;5;28;01mNone\u001b[39;00m, config_path\u001b[38;5;241m=\u001b[39m\u001b[38;5;124m\"\u001b[39m\u001b[38;5;124mconfig/\u001b[39m\u001b[38;5;124m\"\u001b[39m):\n\u001b[0;32m----> 2\u001b[0m     cfg \u001b[38;5;241m=\u001b[39m \u001b[43mcompose\u001b[49m\u001b[43m(\u001b[49m\u001b[43mconfig_name\u001b[49m\u001b[38;5;241;43m=\u001b[39;49m\u001b[38;5;124;43m\"\u001b[39;49m\u001b[38;5;124;43mconfig\u001b[39;49m\u001b[38;5;124;43m\"\u001b[39;49m\u001b[43m)\u001b[49m\n\u001b[1;32m      3\u001b[0m     \u001b[38;5;28mprint\u001b[39m(cfg)\n",
      "File \u001b[0;32m/opt/homebrew/Caskroom/miniconda/base/envs/cytoself/lib/python3.9/site-packages/hydra/compose.py:38\u001b[0m, in \u001b[0;36mcompose\u001b[0;34m(config_name, overrides, return_hydra_config, strict)\u001b[0m\n\u001b[1;32m     36\u001b[0m gh \u001b[38;5;241m=\u001b[39m GlobalHydra\u001b[38;5;241m.\u001b[39minstance()\n\u001b[1;32m     37\u001b[0m \u001b[38;5;28;01massert\u001b[39;00m gh\u001b[38;5;241m.\u001b[39mhydra \u001b[38;5;129;01mis\u001b[39;00m \u001b[38;5;129;01mnot\u001b[39;00m \u001b[38;5;28;01mNone\u001b[39;00m\n\u001b[0;32m---> 38\u001b[0m cfg \u001b[38;5;241m=\u001b[39m \u001b[43mgh\u001b[49m\u001b[38;5;241;43m.\u001b[39;49m\u001b[43mhydra\u001b[49m\u001b[38;5;241;43m.\u001b[39;49m\u001b[43mcompose_config\u001b[49m\u001b[43m(\u001b[49m\n\u001b[1;32m     39\u001b[0m \u001b[43m    \u001b[49m\u001b[43mconfig_name\u001b[49m\u001b[38;5;241;43m=\u001b[39;49m\u001b[43mconfig_name\u001b[49m\u001b[43m,\u001b[49m\n\u001b[1;32m     40\u001b[0m \u001b[43m    \u001b[49m\u001b[43moverrides\u001b[49m\u001b[38;5;241;43m=\u001b[39;49m\u001b[43moverrides\u001b[49m\u001b[43m,\u001b[49m\n\u001b[1;32m     41\u001b[0m \u001b[43m    \u001b[49m\u001b[43mrun_mode\u001b[49m\u001b[38;5;241;43m=\u001b[39;49m\u001b[43mRunMode\u001b[49m\u001b[38;5;241;43m.\u001b[39;49m\u001b[43mRUN\u001b[49m\u001b[43m,\u001b[49m\n\u001b[1;32m     42\u001b[0m \u001b[43m    \u001b[49m\u001b[43mfrom_shell\u001b[49m\u001b[38;5;241;43m=\u001b[39;49m\u001b[38;5;28;43;01mFalse\u001b[39;49;00m\u001b[43m,\u001b[49m\n\u001b[1;32m     43\u001b[0m \u001b[43m    \u001b[49m\u001b[43mwith_log_configuration\u001b[49m\u001b[38;5;241;43m=\u001b[39;49m\u001b[38;5;28;43;01mFalse\u001b[39;49;00m\u001b[43m,\u001b[49m\n\u001b[1;32m     44\u001b[0m \u001b[43m\u001b[49m\u001b[43m)\u001b[49m\n\u001b[1;32m     45\u001b[0m \u001b[38;5;28;01massert\u001b[39;00m \u001b[38;5;28misinstance\u001b[39m(cfg, DictConfig)\n\u001b[1;32m     47\u001b[0m \u001b[38;5;28;01mif\u001b[39;00m \u001b[38;5;129;01mnot\u001b[39;00m return_hydra_config:\n",
      "File \u001b[0;32m/opt/homebrew/Caskroom/miniconda/base/envs/cytoself/lib/python3.9/site-packages/hydra/_internal/hydra.py:594\u001b[0m, in \u001b[0;36mHydra.compose_config\u001b[0;34m(self, config_name, overrides, run_mode, with_log_configuration, from_shell, validate_sweep_overrides)\u001b[0m\n\u001b[1;32m    576\u001b[0m \u001b[38;5;28;01mdef\u001b[39;00m \u001b[38;5;21mcompose_config\u001b[39m(\n\u001b[1;32m    577\u001b[0m     \u001b[38;5;28mself\u001b[39m,\n\u001b[1;32m    578\u001b[0m     config_name: Optional[\u001b[38;5;28mstr\u001b[39m],\n\u001b[0;32m   (...)\u001b[0m\n\u001b[1;32m    583\u001b[0m     validate_sweep_overrides: \u001b[38;5;28mbool\u001b[39m \u001b[38;5;241m=\u001b[39m \u001b[38;5;28;01mTrue\u001b[39;00m,\n\u001b[1;32m    584\u001b[0m ) \u001b[38;5;241m-\u001b[39m\u001b[38;5;241m>\u001b[39m DictConfig:\n\u001b[1;32m    585\u001b[0m \u001b[38;5;250m    \u001b[39m\u001b[38;5;124;03m\"\"\"\u001b[39;00m\n\u001b[1;32m    586\u001b[0m \u001b[38;5;124;03m    :param config_name:\u001b[39;00m\n\u001b[1;32m    587\u001b[0m \u001b[38;5;124;03m    :param overrides:\u001b[39;00m\n\u001b[0;32m   (...)\u001b[0m\n\u001b[1;32m    591\u001b[0m \u001b[38;5;124;03m    :return:\u001b[39;00m\n\u001b[1;32m    592\u001b[0m \u001b[38;5;124;03m    \"\"\"\u001b[39;00m\n\u001b[0;32m--> 594\u001b[0m     cfg \u001b[38;5;241m=\u001b[39m \u001b[38;5;28;43mself\u001b[39;49m\u001b[38;5;241;43m.\u001b[39;49m\u001b[43mconfig_loader\u001b[49m\u001b[38;5;241;43m.\u001b[39;49m\u001b[43mload_configuration\u001b[49m\u001b[43m(\u001b[49m\n\u001b[1;32m    595\u001b[0m \u001b[43m        \u001b[49m\u001b[43mconfig_name\u001b[49m\u001b[38;5;241;43m=\u001b[39;49m\u001b[43mconfig_name\u001b[49m\u001b[43m,\u001b[49m\n\u001b[1;32m    596\u001b[0m \u001b[43m        \u001b[49m\u001b[43moverrides\u001b[49m\u001b[38;5;241;43m=\u001b[39;49m\u001b[43moverrides\u001b[49m\u001b[43m,\u001b[49m\n\u001b[1;32m    597\u001b[0m \u001b[43m        \u001b[49m\u001b[43mrun_mode\u001b[49m\u001b[38;5;241;43m=\u001b[39;49m\u001b[43mrun_mode\u001b[49m\u001b[43m,\u001b[49m\n\u001b[1;32m    598\u001b[0m \u001b[43m        \u001b[49m\u001b[43mfrom_shell\u001b[49m\u001b[38;5;241;43m=\u001b[39;49m\u001b[43mfrom_shell\u001b[49m\u001b[43m,\u001b[49m\n\u001b[1;32m    599\u001b[0m \u001b[43m        \u001b[49m\u001b[43mvalidate_sweep_overrides\u001b[49m\u001b[38;5;241;43m=\u001b[39;49m\u001b[43mvalidate_sweep_overrides\u001b[49m\u001b[43m,\u001b[49m\n\u001b[1;32m    600\u001b[0m \u001b[43m    \u001b[49m\u001b[43m)\u001b[49m\n\u001b[1;32m    601\u001b[0m     \u001b[38;5;28;01mif\u001b[39;00m with_log_configuration:\n\u001b[1;32m    602\u001b[0m         configure_log(cfg\u001b[38;5;241m.\u001b[39mhydra\u001b[38;5;241m.\u001b[39mhydra_logging, cfg\u001b[38;5;241m.\u001b[39mhydra\u001b[38;5;241m.\u001b[39mverbose)\n",
      "File \u001b[0;32m/opt/homebrew/Caskroom/miniconda/base/envs/cytoself/lib/python3.9/site-packages/hydra/_internal/config_loader_impl.py:142\u001b[0m, in \u001b[0;36mConfigLoaderImpl.load_configuration\u001b[0;34m(self, config_name, overrides, run_mode, from_shell, validate_sweep_overrides)\u001b[0m\n\u001b[1;32m    133\u001b[0m \u001b[38;5;28;01mdef\u001b[39;00m \u001b[38;5;21mload_configuration\u001b[39m(\n\u001b[1;32m    134\u001b[0m     \u001b[38;5;28mself\u001b[39m,\n\u001b[1;32m    135\u001b[0m     config_name: Optional[\u001b[38;5;28mstr\u001b[39m],\n\u001b[0;32m   (...)\u001b[0m\n\u001b[1;32m    139\u001b[0m     validate_sweep_overrides: \u001b[38;5;28mbool\u001b[39m \u001b[38;5;241m=\u001b[39m \u001b[38;5;28;01mTrue\u001b[39;00m,\n\u001b[1;32m    140\u001b[0m ) \u001b[38;5;241m-\u001b[39m\u001b[38;5;241m>\u001b[39m DictConfig:\n\u001b[1;32m    141\u001b[0m     \u001b[38;5;28;01mtry\u001b[39;00m:\n\u001b[0;32m--> 142\u001b[0m         \u001b[38;5;28;01mreturn\u001b[39;00m \u001b[38;5;28;43mself\u001b[39;49m\u001b[38;5;241;43m.\u001b[39;49m\u001b[43m_load_configuration_impl\u001b[49m\u001b[43m(\u001b[49m\n\u001b[1;32m    143\u001b[0m \u001b[43m            \u001b[49m\u001b[43mconfig_name\u001b[49m\u001b[38;5;241;43m=\u001b[39;49m\u001b[43mconfig_name\u001b[49m\u001b[43m,\u001b[49m\n\u001b[1;32m    144\u001b[0m \u001b[43m            \u001b[49m\u001b[43moverrides\u001b[49m\u001b[38;5;241;43m=\u001b[39;49m\u001b[43moverrides\u001b[49m\u001b[43m,\u001b[49m\n\u001b[1;32m    145\u001b[0m \u001b[43m            \u001b[49m\u001b[43mrun_mode\u001b[49m\u001b[38;5;241;43m=\u001b[39;49m\u001b[43mrun_mode\u001b[49m\u001b[43m,\u001b[49m\n\u001b[1;32m    146\u001b[0m \u001b[43m            \u001b[49m\u001b[43mfrom_shell\u001b[49m\u001b[38;5;241;43m=\u001b[39;49m\u001b[43mfrom_shell\u001b[49m\u001b[43m,\u001b[49m\n\u001b[1;32m    147\u001b[0m \u001b[43m            \u001b[49m\u001b[43mvalidate_sweep_overrides\u001b[49m\u001b[38;5;241;43m=\u001b[39;49m\u001b[43mvalidate_sweep_overrides\u001b[49m\u001b[43m,\u001b[49m\n\u001b[1;32m    148\u001b[0m \u001b[43m        \u001b[49m\u001b[43m)\u001b[49m\n\u001b[1;32m    149\u001b[0m     \u001b[38;5;28;01mexcept\u001b[39;00m OmegaConfBaseException \u001b[38;5;28;01mas\u001b[39;00m e:\n\u001b[1;32m    150\u001b[0m         \u001b[38;5;28;01mraise\u001b[39;00m ConfigCompositionException()\u001b[38;5;241m.\u001b[39mwith_traceback(sys\u001b[38;5;241m.\u001b[39mexc_info()[\u001b[38;5;241m2\u001b[39m]) \u001b[38;5;28;01mfrom\u001b[39;00m \u001b[38;5;21;01me\u001b[39;00m\n",
      "File \u001b[0;32m/opt/homebrew/Caskroom/miniconda/base/envs/cytoself/lib/python3.9/site-packages/hydra/_internal/config_loader_impl.py:253\u001b[0m, in \u001b[0;36mConfigLoaderImpl._load_configuration_impl\u001b[0;34m(self, config_name, overrides, run_mode, from_shell, validate_sweep_overrides)\u001b[0m\n\u001b[1;32m    248\u001b[0m \u001b[38;5;28;01mif\u001b[39;00m validate_sweep_overrides:\n\u001b[1;32m    249\u001b[0m     \u001b[38;5;28mself\u001b[39m\u001b[38;5;241m.\u001b[39mvalidate_sweep_overrides_legal(\n\u001b[1;32m    250\u001b[0m         overrides\u001b[38;5;241m=\u001b[39mparsed_overrides, run_mode\u001b[38;5;241m=\u001b[39mrun_mode, from_shell\u001b[38;5;241m=\u001b[39mfrom_shell\n\u001b[1;32m    251\u001b[0m     )\n\u001b[0;32m--> 253\u001b[0m defaults_list \u001b[38;5;241m=\u001b[39m \u001b[43mcreate_defaults_list\u001b[49m\u001b[43m(\u001b[49m\n\u001b[1;32m    254\u001b[0m \u001b[43m    \u001b[49m\u001b[43mrepo\u001b[49m\u001b[38;5;241;43m=\u001b[39;49m\u001b[43mcaching_repo\u001b[49m\u001b[43m,\u001b[49m\n\u001b[1;32m    255\u001b[0m \u001b[43m    \u001b[49m\u001b[43mconfig_name\u001b[49m\u001b[38;5;241;43m=\u001b[39;49m\u001b[43mconfig_name\u001b[49m\u001b[43m,\u001b[49m\n\u001b[1;32m    256\u001b[0m \u001b[43m    \u001b[49m\u001b[43moverrides_list\u001b[49m\u001b[38;5;241;43m=\u001b[39;49m\u001b[43mparsed_overrides\u001b[49m\u001b[43m,\u001b[49m\n\u001b[1;32m    257\u001b[0m \u001b[43m    \u001b[49m\u001b[43mprepend_hydra\u001b[49m\u001b[38;5;241;43m=\u001b[39;49m\u001b[38;5;28;43;01mTrue\u001b[39;49;00m\u001b[43m,\u001b[49m\n\u001b[1;32m    258\u001b[0m \u001b[43m    \u001b[49m\u001b[43mskip_missing\u001b[49m\u001b[38;5;241;43m=\u001b[39;49m\u001b[43mrun_mode\u001b[49m\u001b[43m \u001b[49m\u001b[38;5;241;43m==\u001b[39;49m\u001b[43m \u001b[49m\u001b[43mRunMode\u001b[49m\u001b[38;5;241;43m.\u001b[39;49m\u001b[43mMULTIRUN\u001b[49m\u001b[43m,\u001b[49m\n\u001b[1;32m    259\u001b[0m \u001b[43m\u001b[49m\u001b[43m)\u001b[49m\n\u001b[1;32m    261\u001b[0m config_overrides \u001b[38;5;241m=\u001b[39m defaults_list\u001b[38;5;241m.\u001b[39mconfig_overrides\n\u001b[1;32m    263\u001b[0m cfg \u001b[38;5;241m=\u001b[39m \u001b[38;5;28mself\u001b[39m\u001b[38;5;241m.\u001b[39m_compose_config_from_defaults_list(\n\u001b[1;32m    264\u001b[0m     defaults\u001b[38;5;241m=\u001b[39mdefaults_list\u001b[38;5;241m.\u001b[39mdefaults, repo\u001b[38;5;241m=\u001b[39mcaching_repo\n\u001b[1;32m    265\u001b[0m )\n",
      "File \u001b[0;32m/opt/homebrew/Caskroom/miniconda/base/envs/cytoself/lib/python3.9/site-packages/hydra/_internal/defaults_list.py:745\u001b[0m, in \u001b[0;36mcreate_defaults_list\u001b[0;34m(repo, config_name, overrides_list, prepend_hydra, skip_missing)\u001b[0m\n\u001b[1;32m    736\u001b[0m \u001b[38;5;250m\u001b[39m\u001b[38;5;124;03m\"\"\"\u001b[39;00m\n\u001b[1;32m    737\u001b[0m \u001b[38;5;124;03m:param repo:\u001b[39;00m\n\u001b[1;32m    738\u001b[0m \u001b[38;5;124;03m:param config_name:\u001b[39;00m\n\u001b[0;32m   (...)\u001b[0m\n\u001b[1;32m    742\u001b[0m \u001b[38;5;124;03m:return:\u001b[39;00m\n\u001b[1;32m    743\u001b[0m \u001b[38;5;124;03m\"\"\"\u001b[39;00m\n\u001b[1;32m    744\u001b[0m overrides \u001b[38;5;241m=\u001b[39m Overrides(repo\u001b[38;5;241m=\u001b[39mrepo, overrides_list\u001b[38;5;241m=\u001b[39moverrides_list)\n\u001b[0;32m--> 745\u001b[0m defaults, tree \u001b[38;5;241m=\u001b[39m \u001b[43m_create_defaults_list\u001b[49m\u001b[43m(\u001b[49m\n\u001b[1;32m    746\u001b[0m \u001b[43m    \u001b[49m\u001b[43mrepo\u001b[49m\u001b[43m,\u001b[49m\n\u001b[1;32m    747\u001b[0m \u001b[43m    \u001b[49m\u001b[43mconfig_name\u001b[49m\u001b[43m,\u001b[49m\n\u001b[1;32m    748\u001b[0m \u001b[43m    \u001b[49m\u001b[43moverrides\u001b[49m\u001b[43m,\u001b[49m\n\u001b[1;32m    749\u001b[0m \u001b[43m    \u001b[49m\u001b[43mprepend_hydra\u001b[49m\u001b[38;5;241;43m=\u001b[39;49m\u001b[43mprepend_hydra\u001b[49m\u001b[43m,\u001b[49m\n\u001b[1;32m    750\u001b[0m \u001b[43m    \u001b[49m\u001b[43mskip_missing\u001b[49m\u001b[38;5;241;43m=\u001b[39;49m\u001b[43mskip_missing\u001b[49m\u001b[43m,\u001b[49m\n\u001b[1;32m    751\u001b[0m \u001b[43m\u001b[49m\u001b[43m)\u001b[49m\n\u001b[1;32m    752\u001b[0m overrides\u001b[38;5;241m.\u001b[39mensure_overrides_used()\n\u001b[1;32m    753\u001b[0m overrides\u001b[38;5;241m.\u001b[39mensure_deletions_used()\n",
      "File \u001b[0;32m/opt/homebrew/Caskroom/miniconda/base/envs/cytoself/lib/python3.9/site-packages/hydra/_internal/defaults_list.py:715\u001b[0m, in \u001b[0;36m_create_defaults_list\u001b[0;34m(repo, config_name, overrides, prepend_hydra, skip_missing)\u001b[0m\n\u001b[1;32m    706\u001b[0m \u001b[38;5;28;01mdef\u001b[39;00m \u001b[38;5;21m_create_defaults_list\u001b[39m(\n\u001b[1;32m    707\u001b[0m     repo: IConfigRepository,\n\u001b[1;32m    708\u001b[0m     config_name: Optional[\u001b[38;5;28mstr\u001b[39m],\n\u001b[0;32m   (...)\u001b[0m\n\u001b[1;32m    711\u001b[0m     skip_missing: \u001b[38;5;28mbool\u001b[39m,\n\u001b[1;32m    712\u001b[0m ) \u001b[38;5;241m-\u001b[39m\u001b[38;5;241m>\u001b[39m Tuple[List[ResultDefault], DefaultsTreeNode]:\n\u001b[1;32m    713\u001b[0m     root \u001b[38;5;241m=\u001b[39m _create_root(config_name\u001b[38;5;241m=\u001b[39mconfig_name, with_hydra\u001b[38;5;241m=\u001b[39mprepend_hydra)\n\u001b[0;32m--> 715\u001b[0m     defaults_tree \u001b[38;5;241m=\u001b[39m \u001b[43m_create_defaults_tree\u001b[49m\u001b[43m(\u001b[49m\n\u001b[1;32m    716\u001b[0m \u001b[43m        \u001b[49m\u001b[43mrepo\u001b[49m\u001b[38;5;241;43m=\u001b[39;49m\u001b[43mrepo\u001b[49m\u001b[43m,\u001b[49m\n\u001b[1;32m    717\u001b[0m \u001b[43m        \u001b[49m\u001b[43mroot\u001b[49m\u001b[38;5;241;43m=\u001b[39;49m\u001b[43mroot\u001b[49m\u001b[43m,\u001b[49m\n\u001b[1;32m    718\u001b[0m \u001b[43m        \u001b[49m\u001b[43moverrides\u001b[49m\u001b[38;5;241;43m=\u001b[39;49m\u001b[43moverrides\u001b[49m\u001b[43m,\u001b[49m\n\u001b[1;32m    719\u001b[0m \u001b[43m        \u001b[49m\u001b[43mis_root_config\u001b[49m\u001b[38;5;241;43m=\u001b[39;49m\u001b[38;5;28;43;01mTrue\u001b[39;49;00m\u001b[43m,\u001b[49m\n\u001b[1;32m    720\u001b[0m \u001b[43m        \u001b[49m\u001b[43minterpolated_subtree\u001b[49m\u001b[38;5;241;43m=\u001b[39;49m\u001b[38;5;28;43;01mFalse\u001b[39;49;00m\u001b[43m,\u001b[49m\n\u001b[1;32m    721\u001b[0m \u001b[43m        \u001b[49m\u001b[43mskip_missing\u001b[49m\u001b[38;5;241;43m=\u001b[39;49m\u001b[43mskip_missing\u001b[49m\u001b[43m,\u001b[49m\n\u001b[1;32m    722\u001b[0m \u001b[43m    \u001b[49m\u001b[43m)\u001b[49m\n\u001b[1;32m    724\u001b[0m     output \u001b[38;5;241m=\u001b[39m _tree_to_list(tree\u001b[38;5;241m=\u001b[39mdefaults_tree)\n\u001b[1;32m    725\u001b[0m     ensure_no_duplicates_in_list(output)\n",
      "File \u001b[0;32m/opt/homebrew/Caskroom/miniconda/base/envs/cytoself/lib/python3.9/site-packages/hydra/_internal/defaults_list.py:356\u001b[0m, in \u001b[0;36m_create_defaults_tree\u001b[0;34m(repo, root, is_root_config, skip_missing, interpolated_subtree, overrides)\u001b[0m\n\u001b[1;32m    348\u001b[0m \u001b[38;5;28;01mdef\u001b[39;00m \u001b[38;5;21m_create_defaults_tree\u001b[39m(\n\u001b[1;32m    349\u001b[0m     repo: IConfigRepository,\n\u001b[1;32m    350\u001b[0m     root: DefaultsTreeNode,\n\u001b[0;32m   (...)\u001b[0m\n\u001b[1;32m    354\u001b[0m     overrides: Overrides,\n\u001b[1;32m    355\u001b[0m ) \u001b[38;5;241m-\u001b[39m\u001b[38;5;241m>\u001b[39m DefaultsTreeNode:\n\u001b[0;32m--> 356\u001b[0m     ret \u001b[38;5;241m=\u001b[39m \u001b[43m_create_defaults_tree_impl\u001b[49m\u001b[43m(\u001b[49m\n\u001b[1;32m    357\u001b[0m \u001b[43m        \u001b[49m\u001b[43mrepo\u001b[49m\u001b[38;5;241;43m=\u001b[39;49m\u001b[43mrepo\u001b[49m\u001b[43m,\u001b[49m\n\u001b[1;32m    358\u001b[0m \u001b[43m        \u001b[49m\u001b[43mroot\u001b[49m\u001b[38;5;241;43m=\u001b[39;49m\u001b[43mroot\u001b[49m\u001b[43m,\u001b[49m\n\u001b[1;32m    359\u001b[0m \u001b[43m        \u001b[49m\u001b[43mis_root_config\u001b[49m\u001b[38;5;241;43m=\u001b[39;49m\u001b[43mis_root_config\u001b[49m\u001b[43m,\u001b[49m\n\u001b[1;32m    360\u001b[0m \u001b[43m        \u001b[49m\u001b[43mskip_missing\u001b[49m\u001b[38;5;241;43m=\u001b[39;49m\u001b[43mskip_missing\u001b[49m\u001b[43m,\u001b[49m\n\u001b[1;32m    361\u001b[0m \u001b[43m        \u001b[49m\u001b[43minterpolated_subtree\u001b[49m\u001b[38;5;241;43m=\u001b[39;49m\u001b[43minterpolated_subtree\u001b[49m\u001b[43m,\u001b[49m\n\u001b[1;32m    362\u001b[0m \u001b[43m        \u001b[49m\u001b[43moverrides\u001b[49m\u001b[38;5;241;43m=\u001b[39;49m\u001b[43moverrides\u001b[49m\u001b[43m,\u001b[49m\n\u001b[1;32m    363\u001b[0m \u001b[43m    \u001b[49m\u001b[43m)\u001b[49m\n\u001b[1;32m    365\u001b[0m     \u001b[38;5;28;01mreturn\u001b[39;00m ret\n",
      "File \u001b[0;32m/opt/homebrew/Caskroom/miniconda/base/envs/cytoself/lib/python3.9/site-packages/hydra/_internal/defaults_list.py:457\u001b[0m, in \u001b[0;36m_create_defaults_tree_impl\u001b[0;34m(repo, root, is_root_config, skip_missing, interpolated_subtree, overrides)\u001b[0m\n\u001b[1;32m    455\u001b[0m \u001b[38;5;28;01mif\u001b[39;00m parent\u001b[38;5;241m.\u001b[39mis_virtual():\n\u001b[1;32m    456\u001b[0m     \u001b[38;5;28;01mif\u001b[39;00m is_root_config:\n\u001b[0;32m--> 457\u001b[0m         \u001b[38;5;28;01mreturn\u001b[39;00m \u001b[43m_expand_virtual_root\u001b[49m\u001b[43m(\u001b[49m\u001b[43mrepo\u001b[49m\u001b[43m,\u001b[49m\u001b[43m \u001b[49m\u001b[43mroot\u001b[49m\u001b[43m,\u001b[49m\u001b[43m \u001b[49m\u001b[43moverrides\u001b[49m\u001b[43m,\u001b[49m\u001b[43m \u001b[49m\u001b[43mskip_missing\u001b[49m\u001b[43m)\u001b[49m\n\u001b[1;32m    458\u001b[0m     \u001b[38;5;28;01melse\u001b[39;00m:\n\u001b[1;32m    459\u001b[0m         \u001b[38;5;28;01mreturn\u001b[39;00m root\n",
      "File \u001b[0;32m/opt/homebrew/Caskroom/miniconda/base/envs/cytoself/lib/python3.9/site-packages/hydra/_internal/defaults_list.py:280\u001b[0m, in \u001b[0;36m_expand_virtual_root\u001b[0;34m(repo, root, overrides, skip_missing)\u001b[0m\n\u001b[1;32m    277\u001b[0m new_root \u001b[38;5;241m=\u001b[39m DefaultsTreeNode(node\u001b[38;5;241m=\u001b[39md, parent\u001b[38;5;241m=\u001b[39mroot)\n\u001b[1;32m    278\u001b[0m d\u001b[38;5;241m.\u001b[39mupdate_parent(\u001b[38;5;124m\"\u001b[39m\u001b[38;5;124m\"\u001b[39m, \u001b[38;5;124m\"\u001b[39m\u001b[38;5;124m\"\u001b[39m)\n\u001b[0;32m--> 280\u001b[0m subtree \u001b[38;5;241m=\u001b[39m \u001b[43m_create_defaults_tree_impl\u001b[49m\u001b[43m(\u001b[49m\n\u001b[1;32m    281\u001b[0m \u001b[43m    \u001b[49m\u001b[43mrepo\u001b[49m\u001b[38;5;241;43m=\u001b[39;49m\u001b[43mrepo\u001b[49m\u001b[43m,\u001b[49m\n\u001b[1;32m    282\u001b[0m \u001b[43m    \u001b[49m\u001b[43mroot\u001b[49m\u001b[38;5;241;43m=\u001b[39;49m\u001b[43mnew_root\u001b[49m\u001b[43m,\u001b[49m\n\u001b[1;32m    283\u001b[0m \u001b[43m    \u001b[49m\u001b[43mis_root_config\u001b[49m\u001b[38;5;241;43m=\u001b[39;49m\u001b[43md\u001b[49m\u001b[38;5;241;43m.\u001b[39;49m\u001b[43mprimary\u001b[49m\u001b[43m,\u001b[49m\n\u001b[1;32m    284\u001b[0m \u001b[43m    \u001b[49m\u001b[43mskip_missing\u001b[49m\u001b[38;5;241;43m=\u001b[39;49m\u001b[43mskip_missing\u001b[49m\u001b[43m,\u001b[49m\n\u001b[1;32m    285\u001b[0m \u001b[43m    \u001b[49m\u001b[43minterpolated_subtree\u001b[49m\u001b[38;5;241;43m=\u001b[39;49m\u001b[38;5;28;43;01mFalse\u001b[39;49;00m\u001b[43m,\u001b[49m\n\u001b[1;32m    286\u001b[0m \u001b[43m    \u001b[49m\u001b[43moverrides\u001b[49m\u001b[38;5;241;43m=\u001b[39;49m\u001b[43moverrides\u001b[49m\u001b[43m,\u001b[49m\n\u001b[1;32m    287\u001b[0m \u001b[43m\u001b[49m\u001b[43m)\u001b[49m\n\u001b[1;32m    288\u001b[0m \u001b[38;5;28;01mif\u001b[39;00m subtree\u001b[38;5;241m.\u001b[39mchildren \u001b[38;5;129;01mis\u001b[39;00m \u001b[38;5;28;01mNone\u001b[39;00m:\n\u001b[1;32m    289\u001b[0m     children\u001b[38;5;241m.\u001b[39mappend(d)\n",
      "File \u001b[0;32m/opt/homebrew/Caskroom/miniconda/base/envs/cytoself/lib/python3.9/site-packages/hydra/_internal/defaults_list.py:464\u001b[0m, in \u001b[0;36m_create_defaults_tree_impl\u001b[0;34m(repo, root, is_root_config, skip_missing, interpolated_subtree, overrides)\u001b[0m\n\u001b[1;32m    462\u001b[0m     root\u001b[38;5;241m.\u001b[39mnode\u001b[38;5;241m.\u001b[39mupdate_parent(\u001b[38;5;124m\"\u001b[39m\u001b[38;5;124m\"\u001b[39m, \u001b[38;5;124m\"\u001b[39m\u001b[38;5;124m\"\u001b[39m)\n\u001b[1;32m    463\u001b[0m     \u001b[38;5;28;01mif\u001b[39;00m \u001b[38;5;129;01mnot\u001b[39;00m repo\u001b[38;5;241m.\u001b[39mconfig_exists(root\u001b[38;5;241m.\u001b[39mnode\u001b[38;5;241m.\u001b[39mget_config_path()):\n\u001b[0;32m--> 464\u001b[0m         \u001b[43mconfig_not_found_error\u001b[49m\u001b[43m(\u001b[49m\u001b[43mrepo\u001b[49m\u001b[38;5;241;43m=\u001b[39;49m\u001b[43mrepo\u001b[49m\u001b[43m,\u001b[49m\u001b[43m \u001b[49m\u001b[43mtree\u001b[49m\u001b[38;5;241;43m=\u001b[39;49m\u001b[43mroot\u001b[49m\u001b[43m)\u001b[49m\n\u001b[1;32m    466\u001b[0m update_package_header(repo\u001b[38;5;241m=\u001b[39mrepo, node\u001b[38;5;241m=\u001b[39mparent)\n\u001b[1;32m    468\u001b[0m \u001b[38;5;28;01mif\u001b[39;00m overrides\u001b[38;5;241m.\u001b[39mis_deleted(parent):\n",
      "File \u001b[0;32m/opt/homebrew/Caskroom/miniconda/base/envs/cytoself/lib/python3.9/site-packages/hydra/_internal/defaults_list.py:799\u001b[0m, in \u001b[0;36mconfig_not_found_error\u001b[0;34m(repo, tree)\u001b[0m\n\u001b[1;32m    796\u001b[0m lines \u001b[38;5;241m=\u001b[39m \u001b[38;5;124m\"\u001b[39m\u001b[38;5;130;01m\\n\u001b[39;00m\u001b[38;5;124m\"\u001b[39m\u001b[38;5;241m.\u001b[39mjoin(descs)\n\u001b[1;32m    797\u001b[0m msg \u001b[38;5;241m+\u001b[39m\u001b[38;5;241m=\u001b[39m \u001b[38;5;124m\"\u001b[39m\u001b[38;5;130;01m\\n\u001b[39;00m\u001b[38;5;124mConfig search path:\u001b[39m\u001b[38;5;124m\"\u001b[39m \u001b[38;5;241m+\u001b[39m \u001b[38;5;124mf\u001b[39m\u001b[38;5;124m\"\u001b[39m\u001b[38;5;130;01m\\n\u001b[39;00m\u001b[38;5;132;01m{\u001b[39;00mlines\u001b[38;5;132;01m}\u001b[39;00m\u001b[38;5;124m\"\u001b[39m\n\u001b[0;32m--> 799\u001b[0m \u001b[38;5;28;01mraise\u001b[39;00m MissingConfigException(\n\u001b[1;32m    800\u001b[0m     missing_cfg_file\u001b[38;5;241m=\u001b[39melement\u001b[38;5;241m.\u001b[39mget_config_path(),\n\u001b[1;32m    801\u001b[0m     message\u001b[38;5;241m=\u001b[39mmsg,\n\u001b[1;32m    802\u001b[0m     options\u001b[38;5;241m=\u001b[39moptions,\n\u001b[1;32m    803\u001b[0m )\n",
      "\u001b[0;31mMissingConfigException\u001b[0m: Cannot find primary config 'config'. Check that it's in your config search path.\n\nConfig search path:\n\tprovider=hydra, path=pkg://hydra.conf\n\tprovider=main, path=file:///Users/amulyagarimella/Desktop/Buenrostro_Lab/intranuclear-structures/nucleus_to_protein_model/config\n\tprovider=schema, path=structured://"
     ]
    }
   ],
   "source": [
    "with initialize(version_base=None, config_path=\"config/\"):\n",
    "    cfg = compose(config_name=\"config\")\n",
    "    print(cfg)"
   ]
  },
  {
   "cell_type": "code",
   "execution_count": null,
   "metadata": {},
   "outputs": [],
   "source": [
    "pdm = Nuc2ProtDM(\n",
    "    images_path=config.data.images_path,\n",
    "    labels_path=config.data.labels_path,\n",
    "    sequences_path=config.data.sequences_path,\n",
    "    batch_size=config.trainer.batch_size // 2,\n",
    "    num_workers=config.trainer.num_workers,\n",
    "    trim=config.data.trim,\n",
    "    sequence_embedding=config.data.sequence_embedding,\n",
    "    splits=config.splits,\n",
    ")\n",
    "pdm.setup()"
   ]
  },
  {
   "cell_type": "code",
   "execution_count": null,
   "metadata": {},
   "outputs": [],
   "source": [
    "\"\"\"plm = Nuc2Prot\n",
    "plm.eval()\n",
    "plm.cuda()\"\"\""
   ]
  },
  {
   "cell_type": "code",
   "execution_count": null,
   "metadata": {},
   "outputs": [],
   "source": []
  },
  {
   "cell_type": "markdown",
   "metadata": {},
   "source": [
    "# TODO"
   ]
  },
  {
   "cell_type": "code",
   "execution_count": null,
   "metadata": {},
   "outputs": [],
   "source": [
    "dl = pdm.custom_dataloader(split_images='val', split_protein='train', shuffle=42)\n",
    "batch = next(iter(dl))\n",
    "true_images = batch['image'].detach().cpu().numpy()\n",
    "batch['image'] = batch['image'].cuda()\n",
    "predicted_images = []\n",
    "predicted_latents = []\n",
    "nis = 40\n",
    "gs_range = np.linspace(1, 4, 11)\n",
    "\n",
    "for gs in gs_range:\n",
    "    predicted_latent = plm.sample(batch, guidance_scale=gs, cond_images=None, num_inference_steps=nis, seed=42)\n",
    "    predicted_image = plm.autoencoder.decode(predicted_latent).sample\n",
    "    predicted_images.append(predicted_image.detach().cpu().numpy())\n",
    "    predicted_latents.append(predicted_latent.detach().cpu().numpy())\n",
    "\n",
    "predicted_latents = np.stack(predicted_latents)\n",
    "predicted_images = np.stack(predicted_images)"
   ]
  },
  {
   "cell_type": "code",
   "execution_count": 41,
   "metadata": {},
   "outputs": [
    {
     "ename": "NameError",
     "evalue": "name 'plm' is not defined",
     "output_type": "error",
     "traceback": [
      "\u001b[0;31m---------------------------------------------------------------------------\u001b[0m",
      "\u001b[0;31mNameError\u001b[0m                                 Traceback (most recent call last)",
      "Cell \u001b[0;32mIn[41], line 9\u001b[0m\n\u001b[1;32m      6\u001b[0m gs \u001b[38;5;241m=\u001b[39m \u001b[38;5;241m3.0\u001b[39m\n\u001b[1;32m      8\u001b[0m \u001b[38;5;28;01mfor\u001b[39;00m nis \u001b[38;5;129;01min\u001b[39;00m nis_range:\n\u001b[0;32m----> 9\u001b[0m     predicted_latent \u001b[38;5;241m=\u001b[39m \u001b[43mplm\u001b[49m\u001b[38;5;241m.\u001b[39msample(batch, guidance_scale\u001b[38;5;241m=\u001b[39mgs, cond_images\u001b[38;5;241m=\u001b[39m\u001b[38;5;28;01mNone\u001b[39;00m, num_inference_steps\u001b[38;5;241m=\u001b[39m\u001b[38;5;28mint\u001b[39m(nis), seed\u001b[38;5;241m=\u001b[39m\u001b[38;5;241m42\u001b[39m)\n\u001b[1;32m     10\u001b[0m     predicted_image \u001b[38;5;241m=\u001b[39m plm\u001b[38;5;241m.\u001b[39mautoencoder\u001b[38;5;241m.\u001b[39mdecode(predicted_latent)\u001b[38;5;241m.\u001b[39msample\n\u001b[1;32m     11\u001b[0m     predicted_images\u001b[38;5;241m.\u001b[39mappend(predicted_image\u001b[38;5;241m.\u001b[39mdetach()\u001b[38;5;241m.\u001b[39mcpu()\u001b[38;5;241m.\u001b[39mnumpy())\n",
      "\u001b[0;31mNameError\u001b[0m: name 'plm' is not defined"
     ]
    }
   ],
   "source": [
    "predicted_images = []\n",
    "predicted_latents = []\n",
    "# nis_range = np.linspace(20, 100, 7)\n",
    "nis_range = np.linspace(50, 1000, 5)\n",
    "\n",
    "gs = 3.0\n",
    "\n",
    "for nis in nis_range:\n",
    "    predicted_latent = plm.sample(batch, guidance_scale=gs, cond_images=None, num_inference_steps=int(nis), seed=42)\n",
    "    predicted_image = plm.autoencoder.decode(predicted_latent).sample\n",
    "    predicted_images.append(predicted_image.detach().cpu().numpy())\n",
    "    predicted_latents.append(predicted_latent.detach().cpu().numpy())\n",
    "\n",
    "predicted_latents = np.stack(predicted_latents)\n",
    "predicted_images = np.stack(predicted_images)"
   ]
  },
  {
   "cell_type": "code",
   "execution_count": null,
   "metadata": {},
   "outputs": [],
   "source": []
  }
 ],
 "metadata": {
  "kernelspec": {
   "display_name": "Python 3",
   "language": "python",
   "name": "python3"
  },
  "language_info": {
   "codemirror_mode": {
    "name": "ipython",
    "version": 3
   },
   "file_extension": ".py",
   "mimetype": "text/x-python",
   "name": "python",
   "nbconvert_exporter": "python",
   "pygments_lexer": "ipython3",
   "version": "3.9.19"
  }
 },
 "nbformat": 4,
 "nbformat_minor": 2
}
